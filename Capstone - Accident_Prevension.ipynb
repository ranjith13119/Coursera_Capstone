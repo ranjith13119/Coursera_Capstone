{
 "cells": [
  {
   "cell_type": "code",
   "execution_count": 1,
   "metadata": {},
   "outputs": [],
   "source": [
    "import pandas as pd\n",
    "import numpy as np\n",
    "import matplotlib.pyplot as plt\n",
    "import seaborn as sns\n",
    "from sklearn.preprocessing import LabelEncoder\n",
    "from datetime import datetime as dt\n",
    "from sklearn.model_selection import cross_val_predict\n",
    "import warnings\n",
    "import plotly\n",
    "import plotly.offline as py\n",
    "import plotly.graph_objs as go\n",
    "warnings.filterwarnings('ignore')\n",
    "from sklearn.model_selection import train_test_split\n",
    "from sklearn.linear_model import LogisticRegression\n",
    "from sklearn.neighbors import KNeighborsClassifier\n",
    "from sklearn.tree import DecisionTreeClassifier\n",
    "from sklearn.ensemble import RandomForestClassifier\n",
    "from sklearn.metrics import accuracy_score,confusion_matrix,classification_report\n",
    "from sklearn.ensemble import ExtraTreesClassifier\n",
    "from sklearn.model_selection import cross_val_score\n",
    "from sklearn import preprocessing"
   ]
  },
  {
   "cell_type": "code",
   "execution_count": 9,
   "metadata": {},
   "outputs": [],
   "source": [
    "dfa  = pd.read_csv(r\"C:\\Users\\lenovo\\Desktop\\capstone\\Accident_Information.csv\", sep=',')"
   ]
  },
  {
   "cell_type": "code",
   "execution_count": 10,
   "metadata": {},
   "outputs": [
    {
     "data": {
      "text/html": [
       "<div>\n",
       "<style scoped>\n",
       "    .dataframe tbody tr th:only-of-type {\n",
       "        vertical-align: middle;\n",
       "    }\n",
       "\n",
       "    .dataframe tbody tr th {\n",
       "        vertical-align: top;\n",
       "    }\n",
       "\n",
       "    .dataframe thead th {\n",
       "        text-align: right;\n",
       "    }\n",
       "</style>\n",
       "<table border=\"1\" class=\"dataframe\">\n",
       "  <thead>\n",
       "    <tr style=\"text-align: right;\">\n",
       "      <th></th>\n",
       "      <th>Accident_Index</th>\n",
       "      <th>1st_Road_Class</th>\n",
       "      <th>1st_Road_Number</th>\n",
       "      <th>2nd_Road_Class</th>\n",
       "      <th>2nd_Road_Number</th>\n",
       "      <th>Accident_Severity</th>\n",
       "      <th>Carriageway_Hazards</th>\n",
       "      <th>Date</th>\n",
       "      <th>Day_of_Week</th>\n",
       "      <th>Did_Police_Officer_Attend_Scene_of_Accident</th>\n",
       "      <th>...</th>\n",
       "      <th>Police_Force</th>\n",
       "      <th>Road_Surface_Conditions</th>\n",
       "      <th>Road_Type</th>\n",
       "      <th>Special_Conditions_at_Site</th>\n",
       "      <th>Speed_limit</th>\n",
       "      <th>Time</th>\n",
       "      <th>Urban_or_Rural_Area</th>\n",
       "      <th>Weather_Conditions</th>\n",
       "      <th>Year</th>\n",
       "      <th>InScotland</th>\n",
       "    </tr>\n",
       "  </thead>\n",
       "  <tbody>\n",
       "    <tr>\n",
       "      <td>0</td>\n",
       "      <td>200501BS00001</td>\n",
       "      <td>A</td>\n",
       "      <td>3218.0</td>\n",
       "      <td>NaN</td>\n",
       "      <td>0.0</td>\n",
       "      <td>Serious</td>\n",
       "      <td>None</td>\n",
       "      <td>2005-01-04</td>\n",
       "      <td>Tuesday</td>\n",
       "      <td>1.0</td>\n",
       "      <td>...</td>\n",
       "      <td>Metropolitan Police</td>\n",
       "      <td>Wet or damp</td>\n",
       "      <td>Single carriageway</td>\n",
       "      <td>None</td>\n",
       "      <td>30.0</td>\n",
       "      <td>17:42</td>\n",
       "      <td>Urban</td>\n",
       "      <td>Raining no high winds</td>\n",
       "      <td>2005</td>\n",
       "      <td>No</td>\n",
       "    </tr>\n",
       "    <tr>\n",
       "      <td>1</td>\n",
       "      <td>200501BS00002</td>\n",
       "      <td>B</td>\n",
       "      <td>450.0</td>\n",
       "      <td>C</td>\n",
       "      <td>0.0</td>\n",
       "      <td>Slight</td>\n",
       "      <td>None</td>\n",
       "      <td>2005-01-05</td>\n",
       "      <td>Wednesday</td>\n",
       "      <td>1.0</td>\n",
       "      <td>...</td>\n",
       "      <td>Metropolitan Police</td>\n",
       "      <td>Dry</td>\n",
       "      <td>Dual carriageway</td>\n",
       "      <td>None</td>\n",
       "      <td>30.0</td>\n",
       "      <td>17:36</td>\n",
       "      <td>Urban</td>\n",
       "      <td>Fine no high winds</td>\n",
       "      <td>2005</td>\n",
       "      <td>No</td>\n",
       "    </tr>\n",
       "    <tr>\n",
       "      <td>2</td>\n",
       "      <td>200501BS00003</td>\n",
       "      <td>C</td>\n",
       "      <td>0.0</td>\n",
       "      <td>NaN</td>\n",
       "      <td>0.0</td>\n",
       "      <td>Slight</td>\n",
       "      <td>None</td>\n",
       "      <td>2005-01-06</td>\n",
       "      <td>Thursday</td>\n",
       "      <td>1.0</td>\n",
       "      <td>...</td>\n",
       "      <td>Metropolitan Police</td>\n",
       "      <td>Dry</td>\n",
       "      <td>Single carriageway</td>\n",
       "      <td>None</td>\n",
       "      <td>30.0</td>\n",
       "      <td>00:15</td>\n",
       "      <td>Urban</td>\n",
       "      <td>Fine no high winds</td>\n",
       "      <td>2005</td>\n",
       "      <td>No</td>\n",
       "    </tr>\n",
       "    <tr>\n",
       "      <td>3</td>\n",
       "      <td>200501BS00004</td>\n",
       "      <td>A</td>\n",
       "      <td>3220.0</td>\n",
       "      <td>NaN</td>\n",
       "      <td>0.0</td>\n",
       "      <td>Slight</td>\n",
       "      <td>None</td>\n",
       "      <td>2005-01-07</td>\n",
       "      <td>Friday</td>\n",
       "      <td>1.0</td>\n",
       "      <td>...</td>\n",
       "      <td>Metropolitan Police</td>\n",
       "      <td>Dry</td>\n",
       "      <td>Single carriageway</td>\n",
       "      <td>None</td>\n",
       "      <td>30.0</td>\n",
       "      <td>10:35</td>\n",
       "      <td>Urban</td>\n",
       "      <td>Fine no high winds</td>\n",
       "      <td>2005</td>\n",
       "      <td>No</td>\n",
       "    </tr>\n",
       "    <tr>\n",
       "      <td>4</td>\n",
       "      <td>200501BS00005</td>\n",
       "      <td>Unclassified</td>\n",
       "      <td>0.0</td>\n",
       "      <td>NaN</td>\n",
       "      <td>0.0</td>\n",
       "      <td>Slight</td>\n",
       "      <td>None</td>\n",
       "      <td>2005-01-10</td>\n",
       "      <td>Monday</td>\n",
       "      <td>1.0</td>\n",
       "      <td>...</td>\n",
       "      <td>Metropolitan Police</td>\n",
       "      <td>Wet or damp</td>\n",
       "      <td>Single carriageway</td>\n",
       "      <td>None</td>\n",
       "      <td>30.0</td>\n",
       "      <td>21:13</td>\n",
       "      <td>Urban</td>\n",
       "      <td>Fine no high winds</td>\n",
       "      <td>2005</td>\n",
       "      <td>No</td>\n",
       "    </tr>\n",
       "  </tbody>\n",
       "</table>\n",
       "<p>5 rows × 34 columns</p>\n",
       "</div>"
      ],
      "text/plain": [
       "  Accident_Index 1st_Road_Class  1st_Road_Number 2nd_Road_Class  \\\n",
       "0  200501BS00001              A           3218.0            NaN   \n",
       "1  200501BS00002              B            450.0              C   \n",
       "2  200501BS00003              C              0.0            NaN   \n",
       "3  200501BS00004              A           3220.0            NaN   \n",
       "4  200501BS00005   Unclassified              0.0            NaN   \n",
       "\n",
       "   2nd_Road_Number Accident_Severity Carriageway_Hazards        Date  \\\n",
       "0              0.0           Serious                None  2005-01-04   \n",
       "1              0.0            Slight                None  2005-01-05   \n",
       "2              0.0            Slight                None  2005-01-06   \n",
       "3              0.0            Slight                None  2005-01-07   \n",
       "4              0.0            Slight                None  2005-01-10   \n",
       "\n",
       "  Day_of_Week  Did_Police_Officer_Attend_Scene_of_Accident  ...  \\\n",
       "0     Tuesday                                          1.0  ...   \n",
       "1   Wednesday                                          1.0  ...   \n",
       "2    Thursday                                          1.0  ...   \n",
       "3      Friday                                          1.0  ...   \n",
       "4      Monday                                          1.0  ...   \n",
       "\n",
       "          Police_Force Road_Surface_Conditions           Road_Type  \\\n",
       "0  Metropolitan Police             Wet or damp  Single carriageway   \n",
       "1  Metropolitan Police                     Dry    Dual carriageway   \n",
       "2  Metropolitan Police                     Dry  Single carriageway   \n",
       "3  Metropolitan Police                     Dry  Single carriageway   \n",
       "4  Metropolitan Police             Wet or damp  Single carriageway   \n",
       "\n",
       "  Special_Conditions_at_Site Speed_limit   Time  Urban_or_Rural_Area  \\\n",
       "0                       None        30.0  17:42                Urban   \n",
       "1                       None        30.0  17:36                Urban   \n",
       "2                       None        30.0  00:15                Urban   \n",
       "3                       None        30.0  10:35                Urban   \n",
       "4                       None        30.0  21:13                Urban   \n",
       "\n",
       "      Weather_Conditions  Year InScotland  \n",
       "0  Raining no high winds  2005         No  \n",
       "1     Fine no high winds  2005         No  \n",
       "2     Fine no high winds  2005         No  \n",
       "3     Fine no high winds  2005         No  \n",
       "4     Fine no high winds  2005         No  \n",
       "\n",
       "[5 rows x 34 columns]"
      ]
     },
     "execution_count": 10,
     "metadata": {},
     "output_type": "execute_result"
    }
   ],
   "source": [
    "dfa.head()"
   ]
  },
  {
   "cell_type": "code",
   "execution_count": 11,
   "metadata": {},
   "outputs": [
    {
     "name": "stdout",
     "output_type": "stream",
     "text": [
      "0    2010553\n",
      "1      36703\n",
      "Name: Carriageway_Hazards, dtype: int64\n"
     ]
    }
   ],
   "source": [
    "encoding = {\n",
    "\"Carriageway_Hazards\": {\"None\": 0, \"Other object on road\": 1, \"Any animal in carriageway (except ridden horse)\": 1,  \"Pedestrian in carriageway - not injured\": 1, \"Previous accident\": 1, \"Vehicle load on road\": 1,  \"Data missing or out of range\": 0  }\n",
    "}\n",
    "dfa.replace(encoding, inplace=True)\n",
    "print(dfa['Carriageway_Hazards'].value_counts())"
   ]
  },
  {
   "cell_type": "code",
   "execution_count": 12,
   "metadata": {},
   "outputs": [
    {
     "name": "stdout",
     "output_type": "stream",
     "text": [
      "Daylight                        1496121\n",
      "Darkness - lights lit            404144\n",
      "Darkness - no lighting           112644\n",
      "Darkness - lighting unknown       24362\n",
      "Darkness - lights unlit            9971\n",
      "Data missing or out of range         14\n",
      "Name: Light_Conditions, dtype: int64\n",
      "0    1496135\n",
      "1     551121\n",
      "Name: Light_Conditions, dtype: int64\n"
     ]
    }
   ],
   "source": [
    "print(dfa['Light_Conditions'].value_counts())\n",
    "encoding_light = {\"Light_Conditions\": {\"Daylight\": 0, \"Darkness - lights lit\": 1, \"Darkness - no lighting\": 1, \"Darkness - lighting unknown\": 1, \"Darkness - lights unlit\": 1, \"Data missing or out of range\": 0}}\n",
    "dfa.replace(encoding_light, inplace=True)\n",
    "print(dfa['Light_Conditions'].value_counts())"
   ]
  },
  {
   "cell_type": "code",
   "execution_count": 13,
   "metadata": {},
   "outputs": [
    {
     "name": "stdout",
     "output_type": "stream",
     "text": [
      "Friday       335183\n",
      "Wednesday    308580\n",
      "Thursday     308240\n",
      "Tuesday      306292\n",
      "Monday       290482\n",
      "Saturday     273152\n",
      "Sunday       225327\n",
      "Name: Day_of_Week, dtype: int64\n",
      "0    1548777\n",
      "1     498479\n",
      "Name: Day_of_Week, dtype: int64\n"
     ]
    }
   ],
   "source": [
    "print(dfa['Day_of_Week'].value_counts())\n",
    "encoding_day_of_week = {\"Day_of_Week\": {\"Saturday\": 1, \"Sunday\": 1, \"Monday\": 0, \"Tuesday\": 0, \"Wednesday\": 0, \"Thursday\": 0, \"Friday\": 0}}\n",
    "dfa.replace(encoding_day_of_week, inplace=True)\n",
    "print(dfa['Day_of_Week'].value_counts())"
   ]
  },
  {
   "cell_type": "code",
   "execution_count": 14,
   "metadata": {},
   "outputs": [
    {
     "name": "stdout",
     "output_type": "stream",
     "text": [
      "None                                          1995137\n",
      "Roadworks                                       23525\n",
      "Oil or diesel                                    6797\n",
      "Mud                                              6363\n",
      "Road surface defective                           4801\n",
      "Auto traffic signal - out                        3855\n",
      "Road sign or marking defective or obscured       2930\n",
      "Data missing or out of range                     2835\n",
      "Auto signal part defective                       1013\n",
      "Name: Special_Conditions_at_Site, dtype: int64\n",
      "0    1997972\n",
      "1      49284\n",
      "Name: Special_Conditions_at_Site, dtype: int64\n"
     ]
    }
   ],
   "source": [
    "print(dfa['Special_Conditions_at_Site'].value_counts())\n",
    "encoding_Special_Conditions_at_Site = {\"Special_Conditions_at_Site\": {\"None\": 0, \"Roadworks\": 1, \"Oil or diesel\": 1, \"Mud\": 1, \"Road surface defective\": 1, \"Auto traffic signal - out\": 1, \"Road sign or marking defective or obscured\": 1, \"Auto signal part defective\": 1, \"Data missing or out of range\": 0}}\n",
    "dfa.replace(encoding_Special_Conditions_at_Site, inplace=True)\n",
    "print(dfa['Special_Conditions_at_Site'].value_counts())"
   ]
  },
  {
   "cell_type": "code",
   "execution_count": 16,
   "metadata": {},
   "outputs": [
    {
     "data": {
      "text/plain": [
       "1    1536156\n",
       "2     258076\n",
       "3     174953\n",
       "4      78071\n",
       "Name: 1st_Road_Class, dtype: int64"
      ]
     },
     "execution_count": 16,
     "metadata": {},
     "output_type": "execute_result"
    }
   ],
   "source": [
    "encoding_1st_road_class = {\"1st_Road_Class\": {\"A\": 1, \"A(M)\": 1, \"B\": 2, \"C\": 3, \"Motorway\": 4, \"Unclassified\": 1}}\n",
    "dfa.replace(encoding_1st_road_class, inplace=True)\n",
    "dfa['1st_Road_Class'].value_counts()"
   ]
  },
  {
   "cell_type": "code",
   "execution_count": 19,
   "metadata": {},
   "outputs": [],
   "source": [
    "#replacing 'Data missing or out of range' with most occured value 'Give way or uncontrolled'\n",
    "dfa['Junction_Control'] = dfa['Junction_Control'].replace(['Data missing or out of range'], 'Give way or uncontrolled')"
   ]
  },
  {
   "cell_type": "code",
   "execution_count": 20,
   "metadata": {},
   "outputs": [
    {
     "data": {
      "text/plain": [
       "Give way or uncontrolled               1742624\n",
       "Auto traffic signal                     211335\n",
       "Not at junction or within 20 metres      77304\n",
       "Stop sign                                12333\n",
       "Authorised person                         3660\n",
       "Name: Junction_Control, dtype: int64"
      ]
     },
     "execution_count": 20,
     "metadata": {},
     "output_type": "execute_result"
    }
   ],
   "source": [
    "dfa['Junction_Control'].value_counts()"
   ]
  },
  {
   "cell_type": "code",
   "execution_count": 21,
   "metadata": {},
   "outputs": [
    {
     "data": {
      "text/plain": [
       "1    1742624\n",
       "2     211335\n",
       "3      77304\n",
       "4      12333\n",
       "5       3660\n",
       "Name: Junction_Control, dtype: int64"
      ]
     },
     "execution_count": 21,
     "metadata": {},
     "output_type": "execute_result"
    }
   ],
   "source": [
    "encoding_junction_detail = {\"Junction_Control\": \n",
    "                            {\"Give way or uncontrolled\": 1,\n",
    "                             \"Auto traffic signal\": 2,\n",
    "                             \"Not at junction or within 20 metres\": 3, \n",
    "                             \"Stop sign\": 4,\n",
    "                             \"Authorised person\": 5,\n",
    "                              }}\n",
    "dfa.replace(encoding_junction_detail, inplace=True)\n",
    "dfa['Junction_Control'].value_counts()"
   ]
  },
  {
   "cell_type": "code",
   "execution_count": 22,
   "metadata": {},
   "outputs": [
    {
     "data": {
      "text/plain": [
       "1    827957\n",
       "2    635349\n",
       "3    196283\n",
       "4    177214\n",
       "5     72751\n",
       "6     59692\n",
       "7     30052\n",
       "8     25551\n",
       "9     22407\n",
       "Name: Junction_Detail, dtype: int64"
      ]
     },
     "execution_count": 22,
     "metadata": {},
     "output_type": "execute_result"
    }
   ],
   "source": [
    "encoding_junction_detail = {\"Junction_Detail\": \n",
    "                            {\"Not at junction or within 20 metres\": 1,\n",
    "                             \"T or staggered junction\": 2,\n",
    "                             \"Crossroads\": 3, \n",
    "                             \"Roundabout\": 4,\n",
    "                             \"Private drive or entrance\": 5,\n",
    "                             \"Other junction\": 6,\n",
    "                             \"Slip road\": 7,\n",
    "                             \"More than 4 arms (not roundabout)\": 8,\n",
    "                             \"Mini-roundabout\": 9,\n",
    "                             \"Data missing or out of range\": 1 }}\n",
    "dfa.replace(encoding_junction_detail, inplace=True)\n",
    "dfa['Junction_Detail'].value_counts()"
   ]
  },
  {
   "cell_type": "code",
   "execution_count": 23,
   "metadata": {},
   "outputs": [
    {
     "data": {
      "text/plain": [
       "1    1423360\n",
       "2     568563\n",
       "3      40321\n",
       "4      12167\n",
       "5       2845\n",
       "Name: Road_Surface_Conditions, dtype: int64"
      ]
     },
     "execution_count": 23,
     "metadata": {},
     "output_type": "execute_result"
    }
   ],
   "source": [
    "encoding_road_surface_cond = {\"Road_Surface_Conditions\": \n",
    "                            {\"Dry\": 1,\n",
    "                             \"Wet or damp\": 2,\n",
    "                             \"Frost or ice\": 3, \n",
    "                             \"Snow\": 4,\n",
    "                             \"Flood over 3cm. deep\": 5,\n",
    "                             \"Data missing or out of range\": 1 }}\n",
    "dfa.replace(encoding_road_surface_cond, inplace=True)\n",
    "dfa['Road_Surface_Conditions'].value_counts()"
   ]
  },
  {
   "cell_type": "code",
   "execution_count": 24,
   "metadata": {},
   "outputs": [
    {
     "data": {
      "text/plain": [
       "1    1527883\n",
       "2     303407\n",
       "3     136754\n",
       "4      43258\n",
       "5      21558\n",
       "0      14396\n",
       "Name: Road_Type, dtype: int64"
      ]
     },
     "execution_count": 24,
     "metadata": {},
     "output_type": "execute_result"
    }
   ],
   "source": [
    "\n",
    "encoding_road_type = {\"Road_Type\": \n",
    "                            {\"Single carriageway\": 1,\n",
    "                             \"Dual carriageway\": 2,\n",
    "                             \"Roundabout\": 3, \n",
    "                             \"One way street\": 4,\n",
    "                             \"Slip road\": 5,\n",
    "                             \"Unknown\": 0,\n",
    "                             \"Data missing or out of range\": 1 }}\n",
    "dfa.replace(encoding_road_type, inplace=True)\n",
    "dfa['Road_Type'].value_counts()"
   ]
  },
  {
   "cell_type": "code",
   "execution_count": 25,
   "metadata": {},
   "outputs": [
    {
     "data": {
      "text/plain": [
       "1    1322499\n",
       "2     724757\n",
       "Name: Urban_or_Rural_Area, dtype: int64"
      ]
     },
     "execution_count": 25,
     "metadata": {},
     "output_type": "execute_result"
    }
   ],
   "source": [
    "encoding_urban_rural = {\"Urban_or_Rural_Area\": \n",
    "                            {\"Urban\": 1,\n",
    "                             \"Rural\": 2,\n",
    "                             \"Unallocated\": 1 }}\n",
    "dfa.replace(encoding_urban_rural, inplace=True)\n",
    "dfa['Urban_or_Rural_Area'].value_counts()"
   ]
  },
  {
   "cell_type": "code",
   "execution_count": 26,
   "metadata": {},
   "outputs": [
    {
     "data": {
      "text/plain": [
       "1    1726874\n",
       "2     239281\n",
       "3      28343\n",
       "4      25816\n",
       "5      13387\n",
       "6      11068\n",
       "7       2487\n",
       "Name: Weather_Conditions, dtype: int64"
      ]
     },
     "execution_count": 26,
     "metadata": {},
     "output_type": "execute_result"
    }
   ],
   "source": [
    "\n",
    "encoding_weather = {\"Weather_Conditions\": \n",
    "                            {\"Fine no high winds\": 1,\n",
    "                             \"Raining no high winds\": 2,\n",
    "                             \"Raining + high winds\": 3,\n",
    "                             \"Fine + high winds\": 4,\n",
    "                             \"Snowing no high winds\": 5,\n",
    "                             \"Fog or mist\": 6,\n",
    "                             \"Snowing + high winds\": 7,\n",
    "                             \"Unknown\": 1,\n",
    "                             \"Other\": 1,\n",
    "                             \"Data missing or out of range\": 1 }}\n",
    "dfa.replace(encoding_weather, inplace=True)\n",
    "dfa['Weather_Conditions'].value_counts()\n"
   ]
  },
  {
   "cell_type": "code",
   "execution_count": 27,
   "metadata": {},
   "outputs": [
    {
     "data": {
      "text/plain": [
       "(array([1801605, 1843133, 1843396, 1857338, 1857382, 1857458, 1857466,\n",
       "        1857525, 1857526, 1857527, 1857531, 1857539, 1857561, 1857564,\n",
       "        1857583, 1857610, 1857613, 1857618, 1857622, 1857627, 1857635,\n",
       "        1857681, 1857704, 1857720, 1857736, 1857737, 1857772, 1898106,\n",
       "        1898251, 1898467, 1898663, 1898938, 1899072, 1899103, 1899306,\n",
       "        1899388, 1912877], dtype=int64),)"
      ]
     },
     "execution_count": 27,
     "metadata": {},
     "output_type": "execute_result"
    }
   ],
   "source": [
    "np.where(np.isnan(dfa['Speed_limit']))"
   ]
  },
  {
   "cell_type": "code",
   "execution_count": 28,
   "metadata": {},
   "outputs": [],
   "source": [
    "dfa['Speed_limit'].fillna((dfa['Speed_limit'].mean()), inplace=True)"
   ]
  },
  {
   "cell_type": "code",
   "execution_count": 29,
   "metadata": {},
   "outputs": [],
   "source": [
    "dfa['Time'].fillna(0, inplace=True)"
   ]
  },
  {
   "cell_type": "code",
   "execution_count": 30,
   "metadata": {},
   "outputs": [],
   "source": [
    "def period(row):\n",
    "    rdf = []\n",
    "    if(type(row) == float):\n",
    "        row = str(row)\n",
    "        rdf = row.split(\".\")\n",
    "    else:\n",
    "        rdf = str(row).split(\":\"); # day -- 8am-8pm\n",
    "        \n",
    "    hr = rdf[0]\n",
    "    if int(hr) > 8 and int(hr) < 20:\n",
    "        return 1;\n",
    "    else:\n",
    "        return 2;"
   ]
  },
  {
   "cell_type": "code",
   "execution_count": 67,
   "metadata": {},
   "outputs": [],
   "source": [
    "dfa['Time'] = dfa['Time'].apply(period)"
   ]
  },
  {
   "cell_type": "code",
   "execution_count": 33,
   "metadata": {},
   "outputs": [],
   "source": [
    "df_train1 = dfa[['1st_Road_Class','Carriageway_Hazards','Junction_Control','Day_of_Week','Junction_Detail','Light_Conditions','Road_Surface_Conditions','Road_Type','Special_Conditions_at_Site','Speed_limit','Time','Urban_or_Rural_Area','Weather_Conditions','Accident_Severity']]"
   ]
  },
  {
   "cell_type": "code",
   "execution_count": 34,
   "metadata": {},
   "outputs": [],
   "source": [
    "df_slight = df_train1[df_train1['Accident_Severity']=='Slight']"
   ]
  },
  {
   "cell_type": "code",
   "execution_count": 35,
   "metadata": {},
   "outputs": [
    {
     "data": {
      "text/plain": [
       "Serious    286339\n",
       "Name: Accident_Severity, dtype: int64"
      ]
     },
     "execution_count": 35,
     "metadata": {},
     "output_type": "execute_result"
    }
   ],
   "source": [
    "df_serious = df_train1[df_train1['Accident_Severity']=='Serious']\n",
    "df_fatal = df_train1[df_train1['Accident_Severity']=='Fatal']\n",
    "df_serious['Accident_Severity'].value_counts()"
   ]
  },
  {
   "cell_type": "code",
   "execution_count": 36,
   "metadata": {},
   "outputs": [
    {
     "data": {
      "text/html": [
       "<div>\n",
       "<style scoped>\n",
       "    .dataframe tbody tr th:only-of-type {\n",
       "        vertical-align: middle;\n",
       "    }\n",
       "\n",
       "    .dataframe tbody tr th {\n",
       "        vertical-align: top;\n",
       "    }\n",
       "\n",
       "    .dataframe thead th {\n",
       "        text-align: right;\n",
       "    }\n",
       "</style>\n",
       "<table border=\"1\" class=\"dataframe\">\n",
       "  <thead>\n",
       "    <tr style=\"text-align: right;\">\n",
       "      <th></th>\n",
       "      <th>1st_Road_Class</th>\n",
       "      <th>Carriageway_Hazards</th>\n",
       "      <th>Junction_Control</th>\n",
       "      <th>Day_of_Week</th>\n",
       "      <th>Junction_Detail</th>\n",
       "      <th>Light_Conditions</th>\n",
       "      <th>Road_Surface_Conditions</th>\n",
       "      <th>Road_Type</th>\n",
       "      <th>Special_Conditions_at_Site</th>\n",
       "      <th>Speed_limit</th>\n",
       "      <th>Time</th>\n",
       "      <th>Urban_or_Rural_Area</th>\n",
       "      <th>Weather_Conditions</th>\n",
       "      <th>Accident_Severity</th>\n",
       "    </tr>\n",
       "  </thead>\n",
       "  <tbody>\n",
       "    <tr>\n",
       "      <td>807020</td>\n",
       "      <td>1</td>\n",
       "      <td>0</td>\n",
       "      <td>1</td>\n",
       "      <td>1</td>\n",
       "      <td>2</td>\n",
       "      <td>0</td>\n",
       "      <td>2</td>\n",
       "      <td>1</td>\n",
       "      <td>0</td>\n",
       "      <td>30.0</td>\n",
       "      <td>1</td>\n",
       "      <td>1</td>\n",
       "      <td>1</td>\n",
       "      <td>Slight</td>\n",
       "    </tr>\n",
       "    <tr>\n",
       "      <td>645480</td>\n",
       "      <td>1</td>\n",
       "      <td>0</td>\n",
       "      <td>1</td>\n",
       "      <td>0</td>\n",
       "      <td>4</td>\n",
       "      <td>0</td>\n",
       "      <td>1</td>\n",
       "      <td>1</td>\n",
       "      <td>0</td>\n",
       "      <td>30.0</td>\n",
       "      <td>1</td>\n",
       "      <td>1</td>\n",
       "      <td>1</td>\n",
       "      <td>Slight</td>\n",
       "    </tr>\n",
       "    <tr>\n",
       "      <td>835140</td>\n",
       "      <td>3</td>\n",
       "      <td>0</td>\n",
       "      <td>1</td>\n",
       "      <td>0</td>\n",
       "      <td>4</td>\n",
       "      <td>0</td>\n",
       "      <td>2</td>\n",
       "      <td>3</td>\n",
       "      <td>0</td>\n",
       "      <td>30.0</td>\n",
       "      <td>1</td>\n",
       "      <td>1</td>\n",
       "      <td>2</td>\n",
       "      <td>Slight</td>\n",
       "    </tr>\n",
       "  </tbody>\n",
       "</table>\n",
       "</div>"
      ],
      "text/plain": [
       "        1st_Road_Class  Carriageway_Hazards  Junction_Control  Day_of_Week  \\\n",
       "807020               1                    0                 1            1   \n",
       "645480               1                    0                 1            0   \n",
       "835140               3                    0                 1            0   \n",
       "\n",
       "        Junction_Detail  Light_Conditions  Road_Surface_Conditions  Road_Type  \\\n",
       "807020                2                 0                        2          1   \n",
       "645480                4                 0                        1          1   \n",
       "835140                4                 0                        2          3   \n",
       "\n",
       "        Special_Conditions_at_Site  Speed_limit  Time  Urban_or_Rural_Area  \\\n",
       "807020                           0         30.0     1                    1   \n",
       "645480                           0         30.0     1                    1   \n",
       "835140                           0         30.0     1                    1   \n",
       "\n",
       "        Weather_Conditions Accident_Severity  \n",
       "807020                   1            Slight  \n",
       "645480                   1            Slight  \n",
       "835140                   2            Slight  "
      ]
     },
     "execution_count": 36,
     "metadata": {},
     "output_type": "execute_result"
    }
   ],
   "source": [
    "random_subset = df_slight.sample(n=3)\n",
    "random_subset.head()"
   ]
  },
  {
   "cell_type": "code",
   "execution_count": 37,
   "metadata": {},
   "outputs": [
    {
     "data": {
      "text/plain": [
       "Fatal    26369\n",
       "Name: Accident_Severity, dtype: int64"
      ]
     },
     "execution_count": 37,
     "metadata": {},
     "output_type": "execute_result"
    }
   ],
   "source": [
    "df_fatal['Accident_Severity'].value_counts()"
   ]
  },
  {
   "cell_type": "code",
   "execution_count": 38,
   "metadata": {},
   "outputs": [],
   "source": [
    "df_slight_sampling = df_slight.sample(n=45000)"
   ]
  },
  {
   "cell_type": "code",
   "execution_count": 40,
   "metadata": {},
   "outputs": [],
   "source": [
    "df_serious_sampling = df_serious.sample(n=24693)  #Matched number of records with the rarer class (Fatal#24693)"
   ]
  },
  {
   "cell_type": "code",
   "execution_count": 41,
   "metadata": {},
   "outputs": [],
   "source": [
    "df_final_sampling = pd.concat([df_serious_sampling,df_slight_sampling,df_fatal])"
   ]
  },
  {
   "cell_type": "code",
   "execution_count": 42,
   "metadata": {},
   "outputs": [
    {
     "data": {
      "text/html": [
       "<div>\n",
       "<style scoped>\n",
       "    .dataframe tbody tr th:only-of-type {\n",
       "        vertical-align: middle;\n",
       "    }\n",
       "\n",
       "    .dataframe tbody tr th {\n",
       "        vertical-align: top;\n",
       "    }\n",
       "\n",
       "    .dataframe thead th {\n",
       "        text-align: right;\n",
       "    }\n",
       "</style>\n",
       "<table border=\"1\" class=\"dataframe\">\n",
       "  <thead>\n",
       "    <tr style=\"text-align: right;\">\n",
       "      <th></th>\n",
       "      <th>1st_Road_Class</th>\n",
       "      <th>Carriageway_Hazards</th>\n",
       "      <th>Junction_Control</th>\n",
       "      <th>Day_of_Week</th>\n",
       "      <th>Junction_Detail</th>\n",
       "      <th>Light_Conditions</th>\n",
       "      <th>Road_Surface_Conditions</th>\n",
       "      <th>Road_Type</th>\n",
       "      <th>Special_Conditions_at_Site</th>\n",
       "      <th>Speed_limit</th>\n",
       "      <th>Time</th>\n",
       "      <th>Urban_or_Rural_Area</th>\n",
       "      <th>Weather_Conditions</th>\n",
       "      <th>Accident_Severity</th>\n",
       "    </tr>\n",
       "  </thead>\n",
       "  <tbody>\n",
       "    <tr>\n",
       "      <td>72838</td>\n",
       "      <td>1</td>\n",
       "      <td>0</td>\n",
       "      <td>2</td>\n",
       "      <td>0</td>\n",
       "      <td>8</td>\n",
       "      <td>1</td>\n",
       "      <td>1</td>\n",
       "      <td>1</td>\n",
       "      <td>0</td>\n",
       "      <td>30.0</td>\n",
       "      <td>2</td>\n",
       "      <td>1</td>\n",
       "      <td>1</td>\n",
       "      <td>Serious</td>\n",
       "    </tr>\n",
       "    <tr>\n",
       "      <td>1318514</td>\n",
       "      <td>1</td>\n",
       "      <td>0</td>\n",
       "      <td>1</td>\n",
       "      <td>0</td>\n",
       "      <td>2</td>\n",
       "      <td>0</td>\n",
       "      <td>1</td>\n",
       "      <td>1</td>\n",
       "      <td>0</td>\n",
       "      <td>30.0</td>\n",
       "      <td>1</td>\n",
       "      <td>1</td>\n",
       "      <td>1</td>\n",
       "      <td>Serious</td>\n",
       "    </tr>\n",
       "    <tr>\n",
       "      <td>1280572</td>\n",
       "      <td>3</td>\n",
       "      <td>0</td>\n",
       "      <td>1</td>\n",
       "      <td>0</td>\n",
       "      <td>1</td>\n",
       "      <td>0</td>\n",
       "      <td>1</td>\n",
       "      <td>1</td>\n",
       "      <td>0</td>\n",
       "      <td>30.0</td>\n",
       "      <td>1</td>\n",
       "      <td>2</td>\n",
       "      <td>1</td>\n",
       "      <td>Serious</td>\n",
       "    </tr>\n",
       "    <tr>\n",
       "      <td>414079</td>\n",
       "      <td>2</td>\n",
       "      <td>0</td>\n",
       "      <td>1</td>\n",
       "      <td>1</td>\n",
       "      <td>9</td>\n",
       "      <td>1</td>\n",
       "      <td>1</td>\n",
       "      <td>3</td>\n",
       "      <td>0</td>\n",
       "      <td>30.0</td>\n",
       "      <td>2</td>\n",
       "      <td>1</td>\n",
       "      <td>1</td>\n",
       "      <td>Serious</td>\n",
       "    </tr>\n",
       "    <tr>\n",
       "      <td>322033</td>\n",
       "      <td>1</td>\n",
       "      <td>0</td>\n",
       "      <td>1</td>\n",
       "      <td>0</td>\n",
       "      <td>1</td>\n",
       "      <td>1</td>\n",
       "      <td>1</td>\n",
       "      <td>1</td>\n",
       "      <td>0</td>\n",
       "      <td>60.0</td>\n",
       "      <td>2</td>\n",
       "      <td>2</td>\n",
       "      <td>1</td>\n",
       "      <td>Serious</td>\n",
       "    </tr>\n",
       "  </tbody>\n",
       "</table>\n",
       "</div>"
      ],
      "text/plain": [
       "         1st_Road_Class  Carriageway_Hazards  Junction_Control  Day_of_Week  \\\n",
       "72838                 1                    0                 2            0   \n",
       "1318514               1                    0                 1            0   \n",
       "1280572               3                    0                 1            0   \n",
       "414079                2                    0                 1            1   \n",
       "322033                1                    0                 1            0   \n",
       "\n",
       "         Junction_Detail  Light_Conditions  Road_Surface_Conditions  \\\n",
       "72838                  8                 1                        1   \n",
       "1318514                2                 0                        1   \n",
       "1280572                1                 0                        1   \n",
       "414079                 9                 1                        1   \n",
       "322033                 1                 1                        1   \n",
       "\n",
       "         Road_Type  Special_Conditions_at_Site  Speed_limit  Time  \\\n",
       "72838            1                           0         30.0     2   \n",
       "1318514          1                           0         30.0     1   \n",
       "1280572          1                           0         30.0     1   \n",
       "414079           3                           0         30.0     2   \n",
       "322033           1                           0         60.0     2   \n",
       "\n",
       "         Urban_or_Rural_Area  Weather_Conditions Accident_Severity  \n",
       "72838                      1                   1           Serious  \n",
       "1318514                    1                   1           Serious  \n",
       "1280572                    2                   1           Serious  \n",
       "414079                     1                   1           Serious  \n",
       "322033                     2                   1           Serious  "
      ]
     },
     "execution_count": 42,
     "metadata": {},
     "output_type": "execute_result"
    }
   ],
   "source": [
    "df_final_sampling.head()"
   ]
  },
  {
   "cell_type": "code",
   "execution_count": 43,
   "metadata": {},
   "outputs": [],
   "source": [
    "df_test = df_final_sampling[['Accident_Severity']]"
   ]
  },
  {
   "cell_type": "code",
   "execution_count": 44,
   "metadata": {},
   "outputs": [],
   "source": [
    "#replacing 'Data missing or out of range' with most occured value 'None'\n",
    "df_test['Accident_Severity'] = df_test['Accident_Severity'].replace(['Fatal'], 'Serious')"
   ]
  },
  {
   "cell_type": "code",
   "execution_count": 45,
   "metadata": {},
   "outputs": [],
   "source": [
    "df_train = df_final_sampling[['1st_Road_Class','Carriageway_Hazards','Junction_Control','Day_of_Week','Junction_Detail','Light_Conditions','Road_Surface_Conditions','Road_Type','Special_Conditions_at_Site','Speed_limit','Time','Urban_or_Rural_Area','Weather_Conditions']]"
   ]
  },
  {
   "cell_type": "code",
   "execution_count": 69,
   "metadata": {},
   "outputs": [
    {
     "data": {
      "text/html": [
       "<div>\n",
       "<style scoped>\n",
       "    .dataframe tbody tr th:only-of-type {\n",
       "        vertical-align: middle;\n",
       "    }\n",
       "\n",
       "    .dataframe tbody tr th {\n",
       "        vertical-align: top;\n",
       "    }\n",
       "\n",
       "    .dataframe thead th {\n",
       "        text-align: right;\n",
       "    }\n",
       "</style>\n",
       "<table border=\"1\" class=\"dataframe\">\n",
       "  <thead>\n",
       "    <tr style=\"text-align: right;\">\n",
       "      <th></th>\n",
       "      <th>Accident_Severity</th>\n",
       "    </tr>\n",
       "  </thead>\n",
       "  <tbody>\n",
       "    <tr>\n",
       "      <td>72838</td>\n",
       "      <td>Serious</td>\n",
       "    </tr>\n",
       "    <tr>\n",
       "      <td>1318514</td>\n",
       "      <td>Serious</td>\n",
       "    </tr>\n",
       "    <tr>\n",
       "      <td>1280572</td>\n",
       "      <td>Serious</td>\n",
       "    </tr>\n",
       "    <tr>\n",
       "      <td>414079</td>\n",
       "      <td>Serious</td>\n",
       "    </tr>\n",
       "    <tr>\n",
       "      <td>322033</td>\n",
       "      <td>Serious</td>\n",
       "    </tr>\n",
       "    <tr>\n",
       "      <td>...</td>\n",
       "      <td>...</td>\n",
       "    </tr>\n",
       "    <tr>\n",
       "      <td>2047144</td>\n",
       "      <td>Serious</td>\n",
       "    </tr>\n",
       "    <tr>\n",
       "      <td>2047218</td>\n",
       "      <td>Serious</td>\n",
       "    </tr>\n",
       "    <tr>\n",
       "      <td>2047225</td>\n",
       "      <td>Serious</td>\n",
       "    </tr>\n",
       "    <tr>\n",
       "      <td>2047228</td>\n",
       "      <td>Serious</td>\n",
       "    </tr>\n",
       "    <tr>\n",
       "      <td>2047229</td>\n",
       "      <td>Serious</td>\n",
       "    </tr>\n",
       "  </tbody>\n",
       "</table>\n",
       "<p>96062 rows × 1 columns</p>\n",
       "</div>"
      ],
      "text/plain": [
       "        Accident_Severity\n",
       "72838             Serious\n",
       "1318514           Serious\n",
       "1280572           Serious\n",
       "414079            Serious\n",
       "322033            Serious\n",
       "...                   ...\n",
       "2047144           Serious\n",
       "2047218           Serious\n",
       "2047225           Serious\n",
       "2047228           Serious\n",
       "2047229           Serious\n",
       "\n",
       "[96062 rows x 1 columns]"
      ]
     },
     "execution_count": 69,
     "metadata": {},
     "output_type": "execute_result"
    }
   ],
   "source": [
    "df_test['Accident_Severity'].value_counts()\n",
    "df_test"
   ]
  },
  {
   "cell_type": "code",
   "execution_count": 96,
   "metadata": {},
   "outputs": [
    {
     "data": {
      "image/png": "[encoded data removed]",
      "text/plain": [
       "<Figure size 1440x1152 with 4 Axes>"
      ]
     },
     "metadata": {},
     "output_type": "display_data"
    }
   ],
   "source": [
    "sns.set_style('darkgrid')\n",
    "fig = plt.figure(figsize = (20,16))\n",
    "fig.subplots_adjust(hspace = .30)\n",
    "ax1 = fig.add_subplot(321)\n",
    "ax1.hist(dfa['Accident_Severity'], bins = 20, alpha = .50,edgecolor= 'black',color ='blue')\n",
    "ax1.set_xlabel('Accident_Severity', labelpad=3, fontsize = 15)\n",
    "#ax1.set_xticklabels(['Fatal', 'Serious', 'Slight'], rotation=90)\n",
    "ax1.set_ylabel('# Accidents',fontsize = 15)\n",
    "ax1.set_title('Accident_Severity',fontsize = 15)\n",
    "\n",
    "ax3 = fig.add_subplot(325)\n",
    "ax3.hist(dfa['Weather_Conditions'], bins = 20, alpha = .50,edgecolor= 'black',color ='blue')\n",
    "ax3.set_xlabel('Weather_Conditions',fontsize = 15)\n",
    "ax3.set_ylabel('# Accidents',fontsize = 15)\n",
    "ax3.set_title('Accidents by Weather_Conditions',fontsize = 15)\n",
    "\n",
    "ax4 = fig.add_subplot(222)\n",
    "ax4.hist(df_fatal['Road_Surface_Conditions'], bins = 20, alpha = .50,edgecolor= 'black',color ='blue')\n",
    "ax4.set_xlabel('Road_Surface_Conditions',fontsize = 15)\n",
    "ax4.set_ylabel('# Accidents',fontsize = 15)\n",
    "ax4.set_title('Road_Surface_Conditions',fontsize = 15)\n",
    "\n",
    "ax5 = fig.add_subplot(224)\n",
    "ax5.hist(df_fatal['Speed_limit'], bins = 20, alpha = .50,edgecolor= 'black',color ='blue')\n",
    "ax5.set_xlabel('Speed_limit',fontsize = 15)\n",
    "ax5.set_ylabel('# Accidents',fontsize = 15)\n",
    "ax5.set_title('Speed_limit',fontsize = 15)\n",
    "\n",
    "plt.show()"
   ]
  },
  {
   "cell_type": "code",
   "execution_count": 97,
   "metadata": {},
   "outputs": [
    {
     "data": {
      "text/plain": [
       "1    2047256\n",
       "Name: Severity_dummy, dtype: int64"
      ]
     },
     "execution_count": 97,
     "metadata": {},
     "output_type": "execute_result"
    }
   ],
   "source": [
    "dfa['Severity_dummy'] = np.where(dfa['Accident_Severity']==3, 0, 1)\n",
    "dfa['Severity_dummy'].value_counts()"
   ]
  },
  {
   "cell_type": "code",
   "execution_count": 98,
   "metadata": {},
   "outputs": [
    {
     "data": {
      "image/png": "[encoded data removed]",
      "text/plain": [
       "<Figure size 720x360 with 1 Axes>"
      ]
     },
     "metadata": {},
     "output_type": "display_data"
    }
   ],
   "source": [
    "#plt(df['Casualty_Class'].value_counts())\n",
    "fig, ax = plt.subplots(figsize=(10, 5))\n",
    "ax = dfa.groupby('Severity_dummy')['Number_of_Casualties'].count().plot(kind='bar', color='grey', alpha=0.3);\n",
    "plt.grid(axis='y', alpha=0.5, linestyle='--', linewidth=0.3)\n",
    "plt.xlabel('Severity_dummy', fontsize=18, fontweight='bold')\n",
    "plt.xticks(fontsize=12)\n",
    "plt.ylabel('Number of accidents', fontsize=12, fontweight='bold')\n",
    "plt.yticks(fontsize=10)\n",
    "plt.title(f'Severity_dummy', pad=15, fontsize=16, fontweight='bold');\n",
    "#fig.savefig('Average Reviews_per_month by room type.jpg', bbox_inches='tight')"
   ]
  },
  {
   "cell_type": "code",
   "execution_count": 99,
   "metadata": {},
   "outputs": [
    {
     "data": {
      "image/png": "[encoded data removed]",
      "text/plain": [
       "<Figure size 1152x864 with 2 Axes>"
      ]
     },
     "metadata": {},
     "output_type": "display_data"
    }
   ],
   "source": [
    "fig, ax = plt.subplots(figsize=(16, 12))\n",
    "ax = sns.heatmap(dfa.corr())#cbar=False)"
   ]
  },
  {
   "cell_type": "code",
   "execution_count": 47,
   "metadata": {},
   "outputs": [],
   "source": [
    "from sklearn.model_selection import train_test_split\n",
    "X_train, X_test, y_train, y_test = train_test_split(df_train, df_test, test_size=0.2)"
   ]
  },
  {
   "cell_type": "markdown",
   "metadata": {},
   "source": [
    "# Decision Tree Model"
   ]
  },
  {
   "cell_type": "code",
   "execution_count": 90,
   "metadata": {},
   "outputs": [
    {
     "data": {
      "text/plain": [
       "DecisionTreeClassifier(class_weight=None, criterion='entropy', max_depth=6,\n",
       "                       max_features=None, max_leaf_nodes=None,\n",
       "                       min_impurity_decrease=0.0, min_impurity_split=None,\n",
       "                       min_samples_leaf=1, min_samples_split=2,\n",
       "                       min_weight_fraction_leaf=0.0, presort=False,\n",
       "                       random_state=None, splitter='best')"
      ]
     },
     "execution_count": 90,
     "metadata": {},
     "output_type": "execute_result"
    }
   ],
   "source": [
    "Tree = DecisionTreeClassifier(criterion=\"entropy\", max_depth = 6)\n",
    "Tree"
   ]
  },
  {
   "cell_type": "code",
   "execution_count": 91,
   "metadata": {},
   "outputs": [
    {
     "data": {
      "text/plain": [
       "DecisionTreeClassifier(class_weight=None, criterion='entropy', max_depth=6,\n",
       "                       max_features=None, max_leaf_nodes=None,\n",
       "                       min_impurity_decrease=0.0, min_impurity_split=None,\n",
       "                       min_samples_leaf=1, min_samples_split=2,\n",
       "                       min_weight_fraction_leaf=0.0, presort=False,\n",
       "                       random_state=None, splitter='best')"
      ]
     },
     "execution_count": 91,
     "metadata": {},
     "output_type": "execute_result"
    }
   ],
   "source": [
    "Tree.fit(X_train,y_train)"
   ]
  },
  {
   "cell_type": "code",
   "execution_count": 92,
   "metadata": {},
   "outputs": [
    {
     "data": {
      "text/plain": [
       "array([0.00640545, 0.00191181, 0.00066626, 0.01183059, 0.09190073,\n",
       "       0.12293512, 0.01521983, 0.14954003, 0.00142333, 0.49066428,\n",
       "       0.04761183, 0.05865415, 0.0012366 ])"
      ]
     },
     "execution_count": 92,
     "metadata": {},
     "output_type": "execute_result"
    }
   ],
   "source": [
    "Tree.feature_importances_"
   ]
  },
  {
   "cell_type": "code",
   "execution_count": 94,
   "metadata": {},
   "outputs": [
    {
     "data": {
      "image/png": "[encoded data removed]",
      "text/plain": [
       "<Figure size 576x576 with 1 Axes>"
      ]
     },
     "metadata": {},
     "output_type": "display_data"
    }
   ],
   "source": [
    "def plot_feature_importances(model):\n",
    "    n_features = X_train.shape[1]\n",
    "    plt.figure(figsize=(8,8))\n",
    "    plt.barh(range(n_features), model.feature_importances_, align='center') \n",
    "    plt.yticks(np.arange(n_features), X_train.columns.values) \n",
    "    plt.xlabel('Feature importance')\n",
    "    plt.ylabel('Feature')\n",
    "\n",
    "plot_feature_importances(Tree)"
   ]
  },
  {
   "cell_type": "code",
   "execution_count": 95,
   "metadata": {},
   "outputs": [
    {
     "name": "stdout",
     "output_type": "stream",
     "text": [
      "['Serious' 'Slight' 'Slight' 'Serious' 'Slight' 'Serious' 'Slight'\n",
      " 'Serious' 'Slight']\n",
      "        Accident_Severity\n",
      "264782            Serious\n",
      "2033427           Serious\n",
      "1680534            Slight\n",
      "493874            Serious\n",
      "1917938            Slight\n",
      "612521            Serious\n",
      "1075663           Serious\n",
      "1639520           Serious\n",
      "577484             Slight\n",
      "DecisionTrees's Accuracy:  0.623432051215323\n",
      "              precision    recall  f1-score   support\n",
      "\n",
      "     Serious       0.66      0.60      0.63     10198\n",
      "      Slight       0.59      0.65      0.62      9015\n",
      "\n",
      "    accuracy                           0.62     19213\n",
      "   macro avg       0.62      0.62      0.62     19213\n",
      "weighted avg       0.63      0.62      0.62     19213\n",
      "\n",
      "Accuracy of the model\n",
      "0.623432051215323\n"
     ]
    }
   ],
   "source": [
    "predTree = Tree.predict(X_test)\n",
    "print (predTree [0:9])\n",
    "print (y_test [0:9])\n",
    "from sklearn import metrics\n",
    "\n",
    "print(\"DecisionTrees's Accuracy: \", metrics.accuracy_score(y_test, predTree))\n",
    "print(classification_report(y_test, predTree))\n",
    "print('Accuracy of the model')\n",
    "print(accuracy_score(y_test, predTree))"
   ]
  },
  {
   "cell_type": "markdown",
   "metadata": {},
   "source": [
    "# RandomForestClassifier"
   ]
  },
  {
   "cell_type": "code",
   "execution_count": 48,
   "metadata": {},
   "outputs": [
    {
     "name": "stdout",
     "output_type": "stream",
     "text": [
      "Accuracy: 0.6140113464841513\n",
      "[[6100 4098]\n",
      " [3318 5697]]\n",
      "              precision    recall  f1-score   support\n",
      "\n",
      "     Serious       0.65      0.60      0.62     10198\n",
      "      Slight       0.58      0.63      0.61      9015\n",
      "\n",
      "    accuracy                           0.61     19213\n",
      "   macro avg       0.61      0.62      0.61     19213\n",
      "weighted avg       0.62      0.61      0.61     19213\n",
      "\n"
     ]
    }
   ],
   "source": [
    "RandomForestClassifier"
   ]
  },
  {
   "cell_type": "code",
   "execution_count": 49,
   "metadata": {},
   "outputs": [],
   "source": [
    "from sklearn.ensemble import RandomForestClassifier\n",
    "#class_weight = dict({2:1, 1:15, 0:50})\n",
    "rdf = RandomForestClassifier(bootstrap=True,\n",
    "            class_weight=\"balanced_subsample\", \n",
    "            criterion='gini',\n",
    "            max_depth=8, max_features='auto', max_leaf_nodes=None,\n",
    "            min_impurity_decrease=0.0, min_impurity_split=None,\n",
    "            min_samples_leaf=4, min_samples_split=10,\n",
    "            min_weight_fraction_leaf=0.0, n_estimators=300,\n",
    "            oob_score=True,\n",
    "            random_state=35,\n",
    "            verbose=0, warm_start=False)"
   ]
  },
  {
   "cell_type": "code",
   "execution_count": 50,
   "metadata": {},
   "outputs": [],
   "source": [
    "rdf.fit(X_train,y_train)\n",
    "y_pred=rdf.predict(X_test)"
   ]
  },
  {
   "cell_type": "code",
   "execution_count": 51,
   "metadata": {},
   "outputs": [
    {
     "name": "stdout",
     "output_type": "stream",
     "text": [
      "Accuracy: 0.6267631291313174\n"
     ]
    }
   ],
   "source": [
    "#Import scikit-learn metrics module for accuracy calculation\n",
    "from sklearn import metrics\n",
    "# Model Accuracy, how often is the classifier correct?\n",
    "print(\"Accuracy:\",metrics.accuracy_score(y_test, y_pred))"
   ]
  },
  {
   "cell_type": "code",
   "execution_count": 52,
   "metadata": {},
   "outputs": [
    {
     "name": "stdout",
     "output_type": "stream",
     "text": [
      "[[5585 4613]\n",
      " [2558 6457]]\n",
      "              precision    recall  f1-score   support\n",
      "\n",
      "     Serious       0.69      0.55      0.61     10198\n",
      "      Slight       0.58      0.72      0.64      9015\n",
      "\n",
      "    accuracy                           0.63     19213\n",
      "   macro avg       0.63      0.63      0.63     19213\n",
      "weighted avg       0.64      0.63      0.62     19213\n",
      "\n"
     ]
    }
   ],
   "source": [
    "from sklearn import metrics\n",
    "from sklearn.metrics import classification_report, confusion_matrix  \n",
    "print(confusion_matrix(y_test, y_pred))  \n",
    "print(classification_report(y_test, y_pred))"
   ]
  },
  {
   "cell_type": "markdown",
   "metadata": {},
   "source": [
    "# KNeighborsClassifier"
   ]
  },
  {
   "cell_type": "code",
   "execution_count": 101,
   "metadata": {},
   "outputs": [
    {
     "name": "stdout",
     "output_type": "stream",
     "text": [
      "[[5745 4453]\n",
      " [3861 5154]]\n",
      "              precision    recall  f1-score   support\n",
      "\n",
      "     Serious       0.60      0.56      0.58     10198\n",
      "      Slight       0.54      0.57      0.55      9015\n",
      "\n",
      "    accuracy                           0.57     19213\n",
      "   macro avg       0.57      0.57      0.57     19213\n",
      "weighted avg       0.57      0.57      0.57     19213\n",
      "\n",
      "0.5672721594753553\n"
     ]
    }
   ],
   "source": [
    "from sklearn.neighbors import KNeighborsClassifier\n",
    "\n",
    "# instantiate the model (with the default parameters)\n",
    "knn = KNeighborsClassifier(n_neighbors=3,weights='distance')\n",
    "\n",
    "# fit the model with data (occurs in-place)\n",
    "knn.fit(X_train, y_train)\n",
    "\n",
    "y_pred = knn.predict(X_test)\n",
    "\n",
    "print(confusion_matrix(y_test, y_pred))  \n",
    "print(classification_report(y_test, y_pred))\n",
    "print(accuracy_score(y_test, y_pred))"
   ]
  },
  {
   "cell_type": "markdown",
   "metadata": {},
   "source": [
    "# LogisticRegression"
   ]
  },
  {
   "cell_type": "code",
   "execution_count": 100,
   "metadata": {},
   "outputs": [
    {
     "name": "stdout",
     "output_type": "stream",
     "text": [
      "[[6692 3506]\n",
      " [3842 5173]]\n",
      "              precision    recall  f1-score   support\n",
      "\n",
      "     Serious       0.64      0.66      0.65     10198\n",
      "      Slight       0.60      0.57      0.58      9015\n",
      "\n",
      "    accuracy                           0.62     19213\n",
      "   macro avg       0.62      0.62      0.62     19213\n",
      "weighted avg       0.62      0.62      0.62     19213\n",
      "\n",
      "0.6175506167698954\n"
     ]
    }
   ],
   "source": [
    "from sklearn.linear_model import LogisticRegression\n",
    "logisticRegr = LogisticRegression()\n",
    "logisticRegr.fit(X_train, y_train)\n",
    "y_pred = logisticRegr.predict(X_test)\n",
    "print(confusion_matrix(y_test, y_pred))  \n",
    "print(classification_report(y_test, y_pred))\n",
    "print(accuracy_score(y_test, y_pred))"
   ]
  },
  {
   "cell_type": "markdown",
   "metadata": {},
   "source": [
    "# GaussianNB"
   ]
  },
  {
   "cell_type": "code",
   "execution_count": 88,
   "metadata": {},
   "outputs": [
    {
     "name": "stdout",
     "output_type": "stream",
     "text": [
      "0.6178108572320824\n",
      "              precision    recall  f1-score   support\n",
      "\n",
      "     Serious       0.64      0.63      0.64     10198\n",
      "      Slight       0.59      0.61      0.60      9015\n",
      "\n",
      "    accuracy                           0.62     19213\n",
      "   macro avg       0.62      0.62      0.62     19213\n",
      "weighted avg       0.62      0.62      0.62     19213\n",
      "\n"
     ]
    }
   ],
   "source": [
    "from sklearn.naive_bayes import GaussianNB\n",
    "from sklearn.metrics import accuracy_score\n",
    "gnb = GaussianNB()\n",
    "y_pred = gnb.fit(X_train, y_train).predict(X_test)\n",
    "print(accuracy_score(y_test, y_pred))\n",
    "confusion_matrix(y_test, y_pred)\n",
    "print(format(classification_report(y_test, y_pred)))"
   ]
  },
  {
   "cell_type": "markdown",
   "metadata": {},
   "source": [
    "# GradientBoostingClassifier"
   ]
  },
  {
   "cell_type": "code",
   "execution_count": 56,
   "metadata": {},
   "outputs": [
    {
     "name": "stdout",
     "output_type": "stream",
     "text": [
      "              precision    recall  f1-score   support\n",
      "\n",
      "     Serious       0.66      0.62      0.64     10198\n",
      "      Slight       0.60      0.63      0.61      9015\n",
      "\n",
      "    accuracy                           0.63     19213\n",
      "   macro avg       0.63      0.63      0.63     19213\n",
      "weighted avg       0.63      0.63      0.63     19213\n",
      "\n",
      "0.6279081871649405\n"
     ]
    }
   ],
   "source": [
    "from sklearn.ensemble import GradientBoostingClassifier\n",
    "gbc = GradientBoostingClassifier(loss=\"deviance\", learning_rate=0.1, \n",
    "      n_estimators=100, subsample=1.0, criterion=\"friedman_mse\", \n",
    "      min_samples_split=2, min_samples_leaf=1, min_weight_fraction_leaf=0.0, \n",
    "      max_depth=3, min_impurity_decrease=0.0, min_impurity_split=None, init=None, \n",
    "      random_state=None, max_features=None, verbose=0, max_leaf_nodes=None, warm_start=False, \n",
    "      presort=\"auto\")\n",
    "\n",
    "y_pred = gbc.fit(X_train, y_train.values.ravel()).predict(X_test)\n",
    "print(format(classification_report(y_test, y_pred)))\n",
    "print(accuracy_score(y_test, y_pred))"
   ]
  }
 ],
 "metadata": {
  "kernelspec": {
   "display_name": "Python 3",
   "language": "python",
   "name": "python3"
  },
  "language_info": {
   "codemirror_mode": {
    "name": "ipython",
    "version": 3
   },
   "file_extension": ".py",
   "mimetype": "text/x-python",
   "name": "python",
   "nbconvert_exporter": "python",
   "pygments_lexer": "ipython3",
   "version": "3.7.4"
  }
 },
 "nbformat": 4,
 "nbformat_minor": 2
}
