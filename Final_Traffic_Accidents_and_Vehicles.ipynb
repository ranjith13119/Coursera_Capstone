{
  "nbformat": 4,
  "nbformat_minor": 0,
  "metadata": {
    "colab": {
      "name": "Traffic Accidents and Vehicles_FInal.ipynb",
      "provenance": [],
      "collapsed_sections": [],
      "mount_file_id": "11xzLO0jDEwhAaLdBdFhKsPwOaUlTqIv1",
      "authorship_tag": "ABX9TyM3pkE1KTaO2IKaF+JzZ6VZ",
      "include_colab_link": true
    },
    "kernelspec": {
      "name": "python3",
      "display_name": "Python 3"
    },
    "language_info": {
      "name": "python"
    },
    "accelerator": "TPU"
  },
  "cells": [
    {
      "cell_type": "markdown",
      "metadata": {
        "id": "view-in-github",
        "colab_type": "text"
      },
      "source": [
        "<a href=\"https://colab.research.google.com/github/ranjith13119/Coursera_Capstone/blob/master/Final_Traffic_Accidents_and_Vehicles.ipynb\" target=\"_parent\"><img src=\"https://colab.research.google.com/assets/colab-badge.svg\" alt=\"Open In Colab\"/></a>"
      ]
    },
    {
      "cell_type": "code",
      "metadata": {
        "id": "4oUAoLovFVEU"
      },
      "source": [
        "#Import modules\n",
        "import numpy as np\n",
        "import holidays\n",
        "import pandas as pd\n",
        "import seaborn as sns\n",
        "import pickle\n",
        "import time\n",
        "import timeit\n",
        "\n",
        "\n",
        "import matplotlib.pyplot as plt\n",
        "plt.style.use('dark_background')\n",
        "%matplotlib inline\n",
        "\n",
        "import datetime\n",
        "import math\n",
        "from collections import Counter\n",
        "\n",
        "#scipy\n",
        "import scipy.stats as stats\n",
        "from scipy import stats\n",
        "from scipy.stats import chi2_contingency\n",
        "\n",
        "#sklearn\n",
        "import sklearn\n",
        "from sklearn import ensemble\n",
        "from sklearn import preprocessing\n",
        "from sklearn.decomposition import PCA\n",
        "from sklearn.ensemble import AdaBoostClassifier, BaggingClassifier, ExtraTreesClassifier\n",
        "from sklearn.ensemble import RandomForestClassifier\n",
        "from sklearn.feature_selection import SelectFromModel\n",
        "from sklearn.impute import SimpleImputer\n",
        "from sklearn.linear_model import LogisticRegression\n",
        "from sklearn.metrics import accuracy_score, f1_score, precision_score, log_loss, recall_score \n",
        "from sklearn.metrics import classification_report, confusion_matrix, roc_auc_score\n",
        "from sklearn.model_selection import cross_val_score, GridSearchCV, train_test_split\n",
        "from sklearn.preprocessing import LabelEncoder, OneHotEncoder, StandardScaler, OrdinalEncoder\n",
        "from sklearn.svm import SVC\n",
        "from sklearn.tree import DecisionTreeClassifier\n",
        "from sklearn.utils import resample\n",
        "\n",
        "#for clustering\n",
        "from sklearn.cluster import KMeans\n",
        "from sklearn.preprocessing import normalize\n",
        "from sklearn.decomposition import PCA\n",
        "from sklearn.cluster import MiniBatchKMeans\n",
        "from sklearn.metrics import silhouette_score\n",
        "\n",
        "#other learners\n",
        "from xgboost import XGBClassifier\n",
        "from lightgbm import LGBMClassifier\n",
        "\n",
        "#imblearn\n",
        "from imblearn.ensemble import BalancedBaggingClassifier\n",
        "from imblearn.ensemble import EasyEnsembleClassifier\n",
        "from imblearn.ensemble import BalancedRandomForestClassifier\n",
        "\n",
        "#webscraping\n",
        "import requests\n",
        "from bs4 import BeautifulSoup\n",
        "import re\n",
        "import urllib\n",
        "from IPython.core.display import HTML\n",
        "\n",
        "#time series\n",
        "import statsmodels.api as sm\n",
        "from pylab import rcParams\n",
        "import itertools\n",
        "from statsmodels.tsa.stattools import adfuller\n",
        "from statsmodels.tsa.stattools import acf, pacf\n",
        "from statsmodels.tsa.seasonal import seasonal_decompose\n",
        "from statsmodels.tsa.arima_model import ARIMA\n",
        "\n",
        "\n",
        "#warning ignorer\n",
        "import warnings\n",
        "warnings.filterwarnings(\"ignore\")"
      ],
      "execution_count": null,
      "outputs": []
    },
    {
      "cell_type": "code",
      "metadata": {
        "id": "71Enz-3jIO5r"
      },
      "source": [
        "# from google.colab import drive\n",
        "# drive.mount('/content/drive')"
      ],
      "execution_count": null,
      "outputs": []
    },
    {
      "cell_type": "code",
      "metadata": {
        "id": "XLMq-KLWFQLv",
        "colab": {
          "base_uri": "https://localhost:8080/",
          "height": 411
        },
        "outputId": "8e8d6653-b014-4071-d907-6363d1dc3fd2"
      },
      "source": [
        "#import pickled file\n",
        "df = pd.read_pickle(\"/content/drive/MyDrive/Classification/accidents/df.pkl\")\n",
        "df.head()"
      ],
      "execution_count": null,
      "outputs": [
        {
          "output_type": "execute_result",
          "data": {
            "text/html": [
              "<div>\n",
              "<style scoped>\n",
              "    .dataframe tbody tr th:only-of-type {\n",
              "        vertical-align: middle;\n",
              "    }\n",
              "\n",
              "    .dataframe tbody tr th {\n",
              "        vertical-align: top;\n",
              "    }\n",
              "\n",
              "    .dataframe thead th {\n",
              "        text-align: right;\n",
              "    }\n",
              "</style>\n",
              "<table border=\"1\" class=\"dataframe\">\n",
              "  <thead>\n",
              "    <tr style=\"text-align: right;\">\n",
              "      <th></th>\n",
              "      <th>accident_index</th>\n",
              "      <th>1st_road_class</th>\n",
              "      <th>1st_road_number</th>\n",
              "      <th>accident_severity</th>\n",
              "      <th>carriageway_hazards</th>\n",
              "      <th>date</th>\n",
              "      <th>day_of_week</th>\n",
              "      <th>did_police_officer_attend_scene_of_accident</th>\n",
              "      <th>junction_control</th>\n",
              "      <th>junction_detail</th>\n",
              "      <th>light_conditions</th>\n",
              "      <th>local_authority_district</th>\n",
              "      <th>local_authority_highway</th>\n",
              "      <th>location_easting_osgr</th>\n",
              "      <th>location_northing_osgr</th>\n",
              "      <th>lsoa_of_accident_location</th>\n",
              "      <th>number_of_casualties</th>\n",
              "      <th>number_of_vehicles</th>\n",
              "      <th>pedestrian_crossing-human_control</th>\n",
              "      <th>pedestrian_crossing-physical_facilities</th>\n",
              "      <th>police_force</th>\n",
              "      <th>road_surface_conditions</th>\n",
              "      <th>road_type</th>\n",
              "      <th>special_conditions_at_site</th>\n",
              "      <th>speed_limit</th>\n",
              "      <th>time</th>\n",
              "      <th>urban_or_rural_area</th>\n",
              "      <th>weather_conditions</th>\n",
              "      <th>year_x</th>\n",
              "      <th>inscotland</th>\n",
              "      <th>age_band_of_driver</th>\n",
              "      <th>age_of_vehicle</th>\n",
              "      <th>driver_home_area_type</th>\n",
              "      <th>driver_imd_decile</th>\n",
              "      <th>engine_capacity_cc</th>\n",
              "      <th>hit_object_in_carriageway</th>\n",
              "      <th>hit_object_off_carriageway</th>\n",
              "      <th>journey_purpose_of_driver</th>\n",
              "      <th>junction_location</th>\n",
              "      <th>propulsion_code</th>\n",
              "      <th>sex_of_driver</th>\n",
              "      <th>skidding_and_overturning</th>\n",
              "      <th>towing_and_articulation</th>\n",
              "      <th>vehicle_leaving_carriageway</th>\n",
              "      <th>vehicle_locationrestricted_lane</th>\n",
              "      <th>vehicle_manoeuvre</th>\n",
              "      <th>vehicle_reference</th>\n",
              "      <th>vehicle_type</th>\n",
              "      <th>was_vehicle_left_hand_drive</th>\n",
              "      <th>x1st_point_of_impact</th>\n",
              "      <th>year_y</th>\n",
              "      <th>month</th>\n",
              "      <th>weekend</th>\n",
              "      <th>hour</th>\n",
              "      <th>time_of_day</th>\n",
              "      <th>season</th>\n",
              "      <th>engine_capacity_cc_size</th>\n",
              "    </tr>\n",
              "  </thead>\n",
              "  <tbody>\n",
              "    <tr>\n",
              "      <th>0</th>\n",
              "      <td>201001BS70003</td>\n",
              "      <td>B</td>\n",
              "      <td>302</td>\n",
              "      <td>Slight</td>\n",
              "      <td>None</td>\n",
              "      <td>2010-01-11</td>\n",
              "      <td>Monday</td>\n",
              "      <td>1</td>\n",
              "      <td>Give way or uncontrolled</td>\n",
              "      <td>T or staggered junction</td>\n",
              "      <td>Daylight</td>\n",
              "      <td>Kensington and Chelsea</td>\n",
              "      <td>Kensington and Chelsea</td>\n",
              "      <td>527580.0</td>\n",
              "      <td>177730.0</td>\n",
              "      <td>E01002900</td>\n",
              "      <td>1</td>\n",
              "      <td>2</td>\n",
              "      <td>0</td>\n",
              "      <td>0</td>\n",
              "      <td>Metropolitan Police</td>\n",
              "      <td>Wet or damp</td>\n",
              "      <td>Single carriageway</td>\n",
              "      <td>None</td>\n",
              "      <td>30.0</td>\n",
              "      <td>07:30</td>\n",
              "      <td>Urban</td>\n",
              "      <td>Other</td>\n",
              "      <td>2010</td>\n",
              "      <td>No</td>\n",
              "      <td>26-45</td>\n",
              "      <td>1</td>\n",
              "      <td>Urban area</td>\n",
              "      <td>1.0</td>\n",
              "      <td>1360.0</td>\n",
              "      <td>None</td>\n",
              "      <td>None</td>\n",
              "      <td>Commuting to/from work</td>\n",
              "      <td>Mid Junction - on roundabout or on main road</td>\n",
              "      <td>Petrol</td>\n",
              "      <td>Female</td>\n",
              "      <td>None</td>\n",
              "      <td>No tow/articulation</td>\n",
              "      <td>Did not leave carriageway</td>\n",
              "      <td>0</td>\n",
              "      <td>Turning right</td>\n",
              "      <td>1</td>\n",
              "      <td>Goods Vehicle</td>\n",
              "      <td>No</td>\n",
              "      <td>Front</td>\n",
              "      <td>2010</td>\n",
              "      <td>1</td>\n",
              "      <td>0</td>\n",
              "      <td>7</td>\n",
              "      <td>1</td>\n",
              "      <td>winter</td>\n",
              "      <td>small engine cc</td>\n",
              "    </tr>\n",
              "    <tr>\n",
              "      <th>1</th>\n",
              "      <td>201001BS70004</td>\n",
              "      <td>A</td>\n",
              "      <td>402</td>\n",
              "      <td>Slight</td>\n",
              "      <td>None</td>\n",
              "      <td>2010-01-11</td>\n",
              "      <td>Monday</td>\n",
              "      <td>1</td>\n",
              "      <td>Auto traffic signal</td>\n",
              "      <td>T or staggered junction</td>\n",
              "      <td>Darkness - lights lit</td>\n",
              "      <td>Kensington and Chelsea</td>\n",
              "      <td>Kensington and Chelsea</td>\n",
              "      <td>525340.0</td>\n",
              "      <td>180470.0</td>\n",
              "      <td>E01002884</td>\n",
              "      <td>1</td>\n",
              "      <td>1</td>\n",
              "      <td>0</td>\n",
              "      <td>5</td>\n",
              "      <td>Metropolitan Police</td>\n",
              "      <td>Wet or damp</td>\n",
              "      <td>Single carriageway</td>\n",
              "      <td>None</td>\n",
              "      <td>30.0</td>\n",
              "      <td>18:35</td>\n",
              "      <td>Urban</td>\n",
              "      <td>Raining no high winds</td>\n",
              "      <td>2010</td>\n",
              "      <td>No</td>\n",
              "      <td>46-65</td>\n",
              "      <td>1</td>\n",
              "      <td>Urban area</td>\n",
              "      <td>5.0</td>\n",
              "      <td>1870.0</td>\n",
              "      <td>None</td>\n",
              "      <td>None</td>\n",
              "      <td>Journey as part of work</td>\n",
              "      <td>Mid Junction - on roundabout or on main road</td>\n",
              "      <td>Heavy oil</td>\n",
              "      <td>Male</td>\n",
              "      <td>None</td>\n",
              "      <td>No tow/articulation</td>\n",
              "      <td>Did not leave carriageway</td>\n",
              "      <td>0</td>\n",
              "      <td>Going ahead other</td>\n",
              "      <td>1</td>\n",
              "      <td>Car</td>\n",
              "      <td>No</td>\n",
              "      <td>Front</td>\n",
              "      <td>2010</td>\n",
              "      <td>1</td>\n",
              "      <td>0</td>\n",
              "      <td>18</td>\n",
              "      <td>6</td>\n",
              "      <td>winter</td>\n",
              "      <td>medium engine cc</td>\n",
              "    </tr>\n",
              "    <tr>\n",
              "      <th>2</th>\n",
              "      <td>201001BS70006</td>\n",
              "      <td>A</td>\n",
              "      <td>402</td>\n",
              "      <td>Slight</td>\n",
              "      <td>None</td>\n",
              "      <td>2010-01-12</td>\n",
              "      <td>Tuesday</td>\n",
              "      <td>1</td>\n",
              "      <td>Auto traffic signal</td>\n",
              "      <td>T or staggered junction</td>\n",
              "      <td>Daylight</td>\n",
              "      <td>Kensington and Chelsea</td>\n",
              "      <td>Kensington and Chelsea</td>\n",
              "      <td>524800.0</td>\n",
              "      <td>180300.0</td>\n",
              "      <td>E01002871</td>\n",
              "      <td>1</td>\n",
              "      <td>2</td>\n",
              "      <td>0</td>\n",
              "      <td>5</td>\n",
              "      <td>Metropolitan Police</td>\n",
              "      <td>Dry</td>\n",
              "      <td>Single carriageway</td>\n",
              "      <td>None</td>\n",
              "      <td>30.0</td>\n",
              "      <td>10:22</td>\n",
              "      <td>Urban</td>\n",
              "      <td>Fine no high winds</td>\n",
              "      <td>2010</td>\n",
              "      <td>No</td>\n",
              "      <td>26-45</td>\n",
              "      <td>2</td>\n",
              "      <td>Urban area</td>\n",
              "      <td>2.0</td>\n",
              "      <td>3920.0</td>\n",
              "      <td>None</td>\n",
              "      <td>None</td>\n",
              "      <td>Journey as part of work</td>\n",
              "      <td>Mid Junction - on roundabout or on main road</td>\n",
              "      <td>Heavy oil</td>\n",
              "      <td>Male</td>\n",
              "      <td>None</td>\n",
              "      <td>No tow/articulation</td>\n",
              "      <td>Did not leave carriageway</td>\n",
              "      <td>0</td>\n",
              "      <td>Turning left</td>\n",
              "      <td>1</td>\n",
              "      <td>Goods Vehicle</td>\n",
              "      <td>No</td>\n",
              "      <td>Nearside</td>\n",
              "      <td>2010</td>\n",
              "      <td>1</td>\n",
              "      <td>0</td>\n",
              "      <td>10</td>\n",
              "      <td>2</td>\n",
              "      <td>winter</td>\n",
              "      <td>large engine cc</td>\n",
              "    </tr>\n",
              "    <tr>\n",
              "      <th>3</th>\n",
              "      <td>201001BS70007</td>\n",
              "      <td>Unclassified</td>\n",
              "      <td>0</td>\n",
              "      <td>Slight</td>\n",
              "      <td>None</td>\n",
              "      <td>2010-01-02</td>\n",
              "      <td>Saturday</td>\n",
              "      <td>1</td>\n",
              "      <td>Give way or uncontrolled</td>\n",
              "      <td>Mini-roundabout</td>\n",
              "      <td>Darkness - lights lit</td>\n",
              "      <td>Kensington and Chelsea</td>\n",
              "      <td>Kensington and Chelsea</td>\n",
              "      <td>525080.0</td>\n",
              "      <td>180920.0</td>\n",
              "      <td>E01002886</td>\n",
              "      <td>1</td>\n",
              "      <td>2</td>\n",
              "      <td>0</td>\n",
              "      <td>0</td>\n",
              "      <td>Metropolitan Police</td>\n",
              "      <td>Dry</td>\n",
              "      <td>Roundabout</td>\n",
              "      <td>None</td>\n",
              "      <td>30.0</td>\n",
              "      <td>21:21</td>\n",
              "      <td>Urban</td>\n",
              "      <td>Fine no high winds</td>\n",
              "      <td>2010</td>\n",
              "      <td>No</td>\n",
              "      <td>16-25</td>\n",
              "      <td>2</td>\n",
              "      <td>Urban area</td>\n",
              "      <td>3.0</td>\n",
              "      <td>1998.0</td>\n",
              "      <td>None</td>\n",
              "      <td>None</td>\n",
              "      <td>Other/Not known (2005-10)</td>\n",
              "      <td>Mid Junction - on roundabout or on main road</td>\n",
              "      <td>Petrol</td>\n",
              "      <td>Female</td>\n",
              "      <td>None</td>\n",
              "      <td>No tow/articulation</td>\n",
              "      <td>Did not leave carriageway</td>\n",
              "      <td>0</td>\n",
              "      <td>Going ahead right-hand bend</td>\n",
              "      <td>1</td>\n",
              "      <td>Car</td>\n",
              "      <td>No</td>\n",
              "      <td>Nearside</td>\n",
              "      <td>2010</td>\n",
              "      <td>1</td>\n",
              "      <td>1</td>\n",
              "      <td>21</td>\n",
              "      <td>6</td>\n",
              "      <td>winter</td>\n",
              "      <td>medium engine cc</td>\n",
              "    </tr>\n",
              "    <tr>\n",
              "      <th>4</th>\n",
              "      <td>201001BS70007</td>\n",
              "      <td>Unclassified</td>\n",
              "      <td>0</td>\n",
              "      <td>Slight</td>\n",
              "      <td>None</td>\n",
              "      <td>2010-01-02</td>\n",
              "      <td>Saturday</td>\n",
              "      <td>1</td>\n",
              "      <td>Give way or uncontrolled</td>\n",
              "      <td>Mini-roundabout</td>\n",
              "      <td>Darkness - lights lit</td>\n",
              "      <td>Kensington and Chelsea</td>\n",
              "      <td>Kensington and Chelsea</td>\n",
              "      <td>525080.0</td>\n",
              "      <td>180920.0</td>\n",
              "      <td>E01002886</td>\n",
              "      <td>1</td>\n",
              "      <td>2</td>\n",
              "      <td>0</td>\n",
              "      <td>0</td>\n",
              "      <td>Metropolitan Police</td>\n",
              "      <td>Dry</td>\n",
              "      <td>Roundabout</td>\n",
              "      <td>None</td>\n",
              "      <td>30.0</td>\n",
              "      <td>21:21</td>\n",
              "      <td>Urban</td>\n",
              "      <td>Fine no high winds</td>\n",
              "      <td>2010</td>\n",
              "      <td>No</td>\n",
              "      <td>26-45</td>\n",
              "      <td>3</td>\n",
              "      <td>Rural</td>\n",
              "      <td>9.0</td>\n",
              "      <td>1397.0</td>\n",
              "      <td>None</td>\n",
              "      <td>None</td>\n",
              "      <td>Other/Not known (2005-10)</td>\n",
              "      <td>Mid Junction - on roundabout or on main road</td>\n",
              "      <td>Petrol</td>\n",
              "      <td>Female</td>\n",
              "      <td>None</td>\n",
              "      <td>No tow/articulation</td>\n",
              "      <td>Did not leave carriageway</td>\n",
              "      <td>0</td>\n",
              "      <td>Going ahead other</td>\n",
              "      <td>2</td>\n",
              "      <td>Car</td>\n",
              "      <td>No</td>\n",
              "      <td>Front</td>\n",
              "      <td>2010</td>\n",
              "      <td>1</td>\n",
              "      <td>1</td>\n",
              "      <td>21</td>\n",
              "      <td>6</td>\n",
              "      <td>winter</td>\n",
              "      <td>small engine cc</td>\n",
              "    </tr>\n",
              "  </tbody>\n",
              "</table>\n",
              "</div>"
            ],
            "text/plain": [
              "  accident_index 1st_road_class  ...  season engine_capacity_cc_size\n",
              "0  201001BS70003              B  ...  winter         small engine cc\n",
              "1  201001BS70004              A  ...  winter        medium engine cc\n",
              "2  201001BS70006              A  ...  winter         large engine cc\n",
              "3  201001BS70007   Unclassified  ...  winter        medium engine cc\n",
              "4  201001BS70007   Unclassified  ...  winter         small engine cc\n",
              "\n",
              "[5 rows x 57 columns]"
            ]
          },
          "metadata": {
            "tags": []
          },
          "execution_count": 4
        }
      ]
    },
    {
      "cell_type": "code",
      "metadata": {
        "id": "ArrxmdIMF7ai"
      },
      "source": [
        "df1 = df.copy()"
      ],
      "execution_count": null,
      "outputs": []
    },
    {
      "cell_type": "code",
      "metadata": {
        "colab": {
          "base_uri": "https://localhost:8080/"
        },
        "id": "nOHWECZKHiWv",
        "outputId": "05aed8ab-a6a9-4792-a26a-6f0efd192e9d"
      },
      "source": [
        "df1['accident_seriousness'] = df1['accident_severity']\n",
        "df1['accident_seriousness'] = df1['accident_seriousness'].replace(to_replace=\"Slight\", \n",
        "                                                                value=\"Not Serious\")\n",
        "df1['accident_seriousness'] = df1['accident_seriousness'].replace(to_replace=\"Serious\",\n",
        "                                                                value=\"Serious\")\n",
        "df1['accident_seriousness'] = df1['accident_seriousness'].replace(to_replace=\"Fatal\", \n",
        "                                                                value=\"Serious\")\n",
        "df1.shape"
      ],
      "execution_count": null,
      "outputs": [
        {
          "output_type": "execute_result",
          "data": {
            "text/plain": [
              "(1396895, 58)"
            ]
          },
          "metadata": {
            "tags": []
          },
          "execution_count": 6
        }
      ]
    },
    {
      "cell_type": "code",
      "metadata": {
        "id": "hh-RiKVVF9pC"
      },
      "source": [
        "df1.drop(['date', 'time', 'year_x', 'inscotland', 'year_y', 'hour','accident_index', 'accident_severity'], inplace = True, axis = 1)"
      ],
      "execution_count": null,
      "outputs": []
    },
    {
      "cell_type": "code",
      "metadata": {
        "id": "cWBzZrI9Fwsg"
      },
      "source": [
        "categorical_feature=df1.select_dtypes(exclude=['int','float','int64'])\n",
        "numerical_features = df1.select_dtypes(include=['int','float','int64'])"
      ],
      "execution_count": null,
      "outputs": []
    },
    {
      "cell_type": "code",
      "metadata": {
        "colab": {
          "base_uri": "https://localhost:8080/"
        },
        "id": "SQy5q9fkF5G5",
        "outputId": "96216367-50bb-4ede-fd9a-8287632e6823"
      },
      "source": [
        "\n",
        "en_cat_fet = categorical_feature.apply(LabelEncoder().fit_transform)\n",
        "\n",
        "df_ml = pd.concat([en_cat_fet, numerical_features], axis=1, sort=False)\n",
        "\n",
        "\n",
        "print(df_ml.shape)"
      ],
      "execution_count": null,
      "outputs": [
        {
          "output_type": "stream",
          "text": [
            "(1396895, 50)\n"
          ],
          "name": "stdout"
        }
      ]
    },
    {
      "cell_type": "code",
      "metadata": {
        "id": "yNTHocBQGjrz",
        "colab": {
          "base_uri": "https://localhost:8080/"
        },
        "outputId": "dae1920a-f2f8-4ffb-da12-c13fc13587c3"
      },
      "source": [
        "df_ml.columns"
      ],
      "execution_count": null,
      "outputs": [
        {
          "output_type": "execute_result",
          "data": {
            "text/plain": [
              "Index(['1st_road_class', '1st_road_number', 'carriageway_hazards',\n",
              "       'day_of_week', 'did_police_officer_attend_scene_of_accident',\n",
              "       'junction_control', 'junction_detail', 'light_conditions',\n",
              "       'local_authority_district', 'local_authority_highway',\n",
              "       'lsoa_of_accident_location', 'number_of_vehicles',\n",
              "       'pedestrian_crossing-human_control',\n",
              "       'pedestrian_crossing-physical_facilities', 'police_force',\n",
              "       'road_surface_conditions', 'road_type', 'special_conditions_at_site',\n",
              "       'urban_or_rural_area', 'weather_conditions', 'age_band_of_driver',\n",
              "       'age_of_vehicle', 'driver_home_area_type', 'hit_object_in_carriageway',\n",
              "       'hit_object_off_carriageway', 'journey_purpose_of_driver',\n",
              "       'junction_location', 'propulsion_code', 'sex_of_driver',\n",
              "       'skidding_and_overturning', 'towing_and_articulation',\n",
              "       'vehicle_leaving_carriageway', 'vehicle_locationrestricted_lane',\n",
              "       'vehicle_manoeuvre', 'vehicle_reference', 'vehicle_type',\n",
              "       'was_vehicle_left_hand_drive', 'x1st_point_of_impact', 'time_of_day',\n",
              "       'season', 'engine_capacity_cc_size', 'accident_seriousness',\n",
              "       'location_easting_osgr', 'location_northing_osgr',\n",
              "       'number_of_casualties', 'speed_limit', 'driver_imd_decile',\n",
              "       'engine_capacity_cc', 'month', 'weekend'],\n",
              "      dtype='object')"
            ]
          },
          "metadata": {
            "tags": []
          },
          "execution_count": 10
        }
      ]
    },
    {
      "cell_type": "code",
      "metadata": {
        "id": "SlOs030hGQzH"
      },
      "source": [
        "#Set up of X and Y\n",
        "X= df_ml.drop(['accident_seriousness'],axis=1)\n",
        "y= df_ml['accident_seriousness']"
      ],
      "execution_count": null,
      "outputs": []
    },
    {
      "cell_type": "code",
      "metadata": {
        "id": "0gmDTquSGhcJ"
      },
      "source": [
        "X_train, X_test, y_train, y_test = train_test_split(X, y, test_size=0.25, random_state=27)"
      ],
      "execution_count": null,
      "outputs": []
    },
    {
      "cell_type": "markdown",
      "metadata": {
        "id": "ioc1Il5FXMi4"
      },
      "source": [
        "# **Feature Selection**"
      ]
    },
    {
      "cell_type": "code",
      "metadata": {
        "id": "o1y9ZIpGK3DU",
        "colab": {
          "base_uri": "https://localhost:8080/"
        },
        "outputId": "82fa322f-a1d6-40b3-bb96-70a8c8b4c3c2"
      },
      "source": [
        "# simple feature selection\n",
        "\n",
        "# variance thresold\n",
        "\n",
        "from sklearn.feature_selection import VarianceThreshold\n",
        "X_train.columns"
      ],
      "execution_count": null,
      "outputs": [
        {
          "output_type": "execute_result",
          "data": {
            "text/plain": [
              "Index(['1st_road_class', '1st_road_number', 'carriageway_hazards',\n",
              "       'day_of_week', 'did_police_officer_attend_scene_of_accident',\n",
              "       'junction_control', 'junction_detail', 'light_conditions',\n",
              "       'local_authority_district', 'local_authority_highway',\n",
              "       'lsoa_of_accident_location', 'number_of_vehicles',\n",
              "       'pedestrian_crossing-human_control',\n",
              "       'pedestrian_crossing-physical_facilities', 'police_force',\n",
              "       'road_surface_conditions', 'road_type', 'special_conditions_at_site',\n",
              "       'urban_or_rural_area', 'weather_conditions', 'age_band_of_driver',\n",
              "       'age_of_vehicle', 'driver_home_area_type', 'hit_object_in_carriageway',\n",
              "       'hit_object_off_carriageway', 'journey_purpose_of_driver',\n",
              "       'junction_location', 'propulsion_code', 'sex_of_driver',\n",
              "       'skidding_and_overturning', 'towing_and_articulation',\n",
              "       'vehicle_leaving_carriageway', 'vehicle_locationrestricted_lane',\n",
              "       'vehicle_manoeuvre', 'vehicle_reference', 'vehicle_type',\n",
              "       'was_vehicle_left_hand_drive', 'x1st_point_of_impact', 'time_of_day',\n",
              "       'season', 'engine_capacity_cc_size', 'location_easting_osgr',\n",
              "       'location_northing_osgr', 'number_of_casualties', 'speed_limit',\n",
              "       'driver_imd_decile', 'engine_capacity_cc', 'month', 'weekend'],\n",
              "      dtype='object')"
            ]
          },
          "metadata": {
            "tags": []
          },
          "execution_count": 13
        }
      ]
    },
    {
      "cell_type": "code",
      "metadata": {
        "colab": {
          "base_uri": "https://localhost:8080/"
        },
        "id": "IY5fCItbK3Km",
        "outputId": "b951b17a-dc5f-4d3f-aeb2-4affdb9bbdc0"
      },
      "source": [
        "selector = VarianceThreshold(threshold=0.5) # remove the feature which is having the low variance. because of these low variance our feature is constant and it will not help to improve the model performance\n",
        "selector.fit(X_train)"
      ],
      "execution_count": null,
      "outputs": [
        {
          "output_type": "execute_result",
          "data": {
            "text/plain": [
              "VarianceThreshold(threshold=0.5)"
            ]
          },
          "metadata": {
            "tags": []
          },
          "execution_count": 14
        }
      ]
    },
    {
      "cell_type": "code",
      "metadata": {
        "colab": {
          "base_uri": "https://localhost:8080/"
        },
        "id": "hD2dY-ruLFJO",
        "outputId": "ce42fbfa-3dd2-42ac-826f-5d260c7802cb"
      },
      "source": [
        "selector.get_support()"
      ],
      "execution_count": null,
      "outputs": [
        {
          "output_type": "execute_result",
          "data": {
            "text/plain": [
              "array([ True,  True, False,  True, False,  True,  True,  True,  True,\n",
              "        True,  True,  True, False,  True,  True,  True,  True, False,\n",
              "       False,  True,  True,  True,  True, False,  True,  True,  True,\n",
              "        True, False, False, False,  True,  True,  True,  True,  True,\n",
              "       False,  True,  True,  True, False,  True,  True,  True,  True,\n",
              "        True,  True,  True, False])"
            ]
          },
          "metadata": {
            "tags": []
          },
          "execution_count": 15
        }
      ]
    },
    {
      "cell_type": "code",
      "metadata": {
        "id": "X6duNFFXLInS"
      },
      "source": [
        "v = X_train.columns[selector.get_support()]"
      ],
      "execution_count": null,
      "outputs": []
    },
    {
      "cell_type": "code",
      "metadata": {
        "id": "bKOlJKnEMkah",
        "colab": {
          "base_uri": "https://localhost:8080/"
        },
        "outputId": "4cd75426-c4fd-4e7a-8c23-eaf959566b71"
      },
      "source": [
        "v"
      ],
      "execution_count": null,
      "outputs": [
        {
          "output_type": "execute_result",
          "data": {
            "text/plain": [
              "Index(['1st_road_class', '1st_road_number', 'day_of_week', 'junction_control',\n",
              "       'junction_detail', 'light_conditions', 'local_authority_district',\n",
              "       'local_authority_highway', 'lsoa_of_accident_location',\n",
              "       'number_of_vehicles', 'pedestrian_crossing-physical_facilities',\n",
              "       'police_force', 'road_surface_conditions', 'road_type',\n",
              "       'weather_conditions', 'age_band_of_driver', 'age_of_vehicle',\n",
              "       'driver_home_area_type', 'hit_object_off_carriageway',\n",
              "       'journey_purpose_of_driver', 'junction_location', 'propulsion_code',\n",
              "       'vehicle_leaving_carriageway', 'vehicle_locationrestricted_lane',\n",
              "       'vehicle_manoeuvre', 'vehicle_reference', 'vehicle_type',\n",
              "       'x1st_point_of_impact', 'time_of_day', 'season',\n",
              "       'location_easting_osgr', 'location_northing_osgr',\n",
              "       'number_of_casualties', 'speed_limit', 'driver_imd_decile',\n",
              "       'engine_capacity_cc', 'month'],\n",
              "      dtype='object')"
            ]
          },
          "metadata": {
            "tags": []
          },
          "execution_count": 17
        }
      ]
    },
    {
      "cell_type": "code",
      "metadata": {
        "id": "fkd2MjEQLNqK"
      },
      "source": [
        "from sklearn.feature_selection import SelectKBest\n",
        "from sklearn.feature_selection import chi2\n",
        "\n",
        "### Apply SelectKBest Algorithm\n",
        "ordered_rank_features=SelectKBest(score_func=chi2,k=30)\n",
        "ordered_feature=ordered_rank_features.fit(X_train,y_train)"
      ],
      "execution_count": null,
      "outputs": []
    },
    {
      "cell_type": "code",
      "metadata": {
        "id": "MZPPPw9iMGe1"
      },
      "source": [
        "dfscores=pd.DataFrame(ordered_feature.scores_,columns=[\"Score\"])\n",
        "dfcolumns=pd.DataFrame(X_train.columns)"
      ],
      "execution_count": null,
      "outputs": []
    },
    {
      "cell_type": "code",
      "metadata": {
        "id": "iuB2Dh5QMJxu",
        "colab": {
          "base_uri": "https://localhost:8080/",
          "height": 1000
        },
        "outputId": "669b69f6-f5e9-4737-fde9-4879f5147242"
      },
      "source": [
        "dfcolumns"
      ],
      "execution_count": null,
      "outputs": [
        {
          "output_type": "execute_result",
          "data": {
            "text/html": [
              "<div>\n",
              "<style scoped>\n",
              "    .dataframe tbody tr th:only-of-type {\n",
              "        vertical-align: middle;\n",
              "    }\n",
              "\n",
              "    .dataframe tbody tr th {\n",
              "        vertical-align: top;\n",
              "    }\n",
              "\n",
              "    .dataframe thead th {\n",
              "        text-align: right;\n",
              "    }\n",
              "</style>\n",
              "<table border=\"1\" class=\"dataframe\">\n",
              "  <thead>\n",
              "    <tr style=\"text-align: right;\">\n",
              "      <th></th>\n",
              "      <th>0</th>\n",
              "    </tr>\n",
              "  </thead>\n",
              "  <tbody>\n",
              "    <tr>\n",
              "      <th>0</th>\n",
              "      <td>1st_road_class</td>\n",
              "    </tr>\n",
              "    <tr>\n",
              "      <th>1</th>\n",
              "      <td>1st_road_number</td>\n",
              "    </tr>\n",
              "    <tr>\n",
              "      <th>2</th>\n",
              "      <td>carriageway_hazards</td>\n",
              "    </tr>\n",
              "    <tr>\n",
              "      <th>3</th>\n",
              "      <td>day_of_week</td>\n",
              "    </tr>\n",
              "    <tr>\n",
              "      <th>4</th>\n",
              "      <td>did_police_officer_attend_scene_of_accident</td>\n",
              "    </tr>\n",
              "    <tr>\n",
              "      <th>5</th>\n",
              "      <td>junction_control</td>\n",
              "    </tr>\n",
              "    <tr>\n",
              "      <th>6</th>\n",
              "      <td>junction_detail</td>\n",
              "    </tr>\n",
              "    <tr>\n",
              "      <th>7</th>\n",
              "      <td>light_conditions</td>\n",
              "    </tr>\n",
              "    <tr>\n",
              "      <th>8</th>\n",
              "      <td>local_authority_district</td>\n",
              "    </tr>\n",
              "    <tr>\n",
              "      <th>9</th>\n",
              "      <td>local_authority_highway</td>\n",
              "    </tr>\n",
              "    <tr>\n",
              "      <th>10</th>\n",
              "      <td>lsoa_of_accident_location</td>\n",
              "    </tr>\n",
              "    <tr>\n",
              "      <th>11</th>\n",
              "      <td>number_of_vehicles</td>\n",
              "    </tr>\n",
              "    <tr>\n",
              "      <th>12</th>\n",
              "      <td>pedestrian_crossing-human_control</td>\n",
              "    </tr>\n",
              "    <tr>\n",
              "      <th>13</th>\n",
              "      <td>pedestrian_crossing-physical_facilities</td>\n",
              "    </tr>\n",
              "    <tr>\n",
              "      <th>14</th>\n",
              "      <td>police_force</td>\n",
              "    </tr>\n",
              "    <tr>\n",
              "      <th>15</th>\n",
              "      <td>road_surface_conditions</td>\n",
              "    </tr>\n",
              "    <tr>\n",
              "      <th>16</th>\n",
              "      <td>road_type</td>\n",
              "    </tr>\n",
              "    <tr>\n",
              "      <th>17</th>\n",
              "      <td>special_conditions_at_site</td>\n",
              "    </tr>\n",
              "    <tr>\n",
              "      <th>18</th>\n",
              "      <td>urban_or_rural_area</td>\n",
              "    </tr>\n",
              "    <tr>\n",
              "      <th>19</th>\n",
              "      <td>weather_conditions</td>\n",
              "    </tr>\n",
              "    <tr>\n",
              "      <th>20</th>\n",
              "      <td>age_band_of_driver</td>\n",
              "    </tr>\n",
              "    <tr>\n",
              "      <th>21</th>\n",
              "      <td>age_of_vehicle</td>\n",
              "    </tr>\n",
              "    <tr>\n",
              "      <th>22</th>\n",
              "      <td>driver_home_area_type</td>\n",
              "    </tr>\n",
              "    <tr>\n",
              "      <th>23</th>\n",
              "      <td>hit_object_in_carriageway</td>\n",
              "    </tr>\n",
              "    <tr>\n",
              "      <th>24</th>\n",
              "      <td>hit_object_off_carriageway</td>\n",
              "    </tr>\n",
              "    <tr>\n",
              "      <th>25</th>\n",
              "      <td>journey_purpose_of_driver</td>\n",
              "    </tr>\n",
              "    <tr>\n",
              "      <th>26</th>\n",
              "      <td>junction_location</td>\n",
              "    </tr>\n",
              "    <tr>\n",
              "      <th>27</th>\n",
              "      <td>propulsion_code</td>\n",
              "    </tr>\n",
              "    <tr>\n",
              "      <th>28</th>\n",
              "      <td>sex_of_driver</td>\n",
              "    </tr>\n",
              "    <tr>\n",
              "      <th>29</th>\n",
              "      <td>skidding_and_overturning</td>\n",
              "    </tr>\n",
              "    <tr>\n",
              "      <th>30</th>\n",
              "      <td>towing_and_articulation</td>\n",
              "    </tr>\n",
              "    <tr>\n",
              "      <th>31</th>\n",
              "      <td>vehicle_leaving_carriageway</td>\n",
              "    </tr>\n",
              "    <tr>\n",
              "      <th>32</th>\n",
              "      <td>vehicle_locationrestricted_lane</td>\n",
              "    </tr>\n",
              "    <tr>\n",
              "      <th>33</th>\n",
              "      <td>vehicle_manoeuvre</td>\n",
              "    </tr>\n",
              "    <tr>\n",
              "      <th>34</th>\n",
              "      <td>vehicle_reference</td>\n",
              "    </tr>\n",
              "    <tr>\n",
              "      <th>35</th>\n",
              "      <td>vehicle_type</td>\n",
              "    </tr>\n",
              "    <tr>\n",
              "      <th>36</th>\n",
              "      <td>was_vehicle_left_hand_drive</td>\n",
              "    </tr>\n",
              "    <tr>\n",
              "      <th>37</th>\n",
              "      <td>x1st_point_of_impact</td>\n",
              "    </tr>\n",
              "    <tr>\n",
              "      <th>38</th>\n",
              "      <td>time_of_day</td>\n",
              "    </tr>\n",
              "    <tr>\n",
              "      <th>39</th>\n",
              "      <td>season</td>\n",
              "    </tr>\n",
              "    <tr>\n",
              "      <th>40</th>\n",
              "      <td>engine_capacity_cc_size</td>\n",
              "    </tr>\n",
              "    <tr>\n",
              "      <th>41</th>\n",
              "      <td>location_easting_osgr</td>\n",
              "    </tr>\n",
              "    <tr>\n",
              "      <th>42</th>\n",
              "      <td>location_northing_osgr</td>\n",
              "    </tr>\n",
              "    <tr>\n",
              "      <th>43</th>\n",
              "      <td>number_of_casualties</td>\n",
              "    </tr>\n",
              "    <tr>\n",
              "      <th>44</th>\n",
              "      <td>speed_limit</td>\n",
              "    </tr>\n",
              "    <tr>\n",
              "      <th>45</th>\n",
              "      <td>driver_imd_decile</td>\n",
              "    </tr>\n",
              "    <tr>\n",
              "      <th>46</th>\n",
              "      <td>engine_capacity_cc</td>\n",
              "    </tr>\n",
              "    <tr>\n",
              "      <th>47</th>\n",
              "      <td>month</td>\n",
              "    </tr>\n",
              "    <tr>\n",
              "      <th>48</th>\n",
              "      <td>weekend</td>\n",
              "    </tr>\n",
              "  </tbody>\n",
              "</table>\n",
              "</div>"
            ],
            "text/plain": [
              "                                              0\n",
              "0                                1st_road_class\n",
              "1                               1st_road_number\n",
              "2                           carriageway_hazards\n",
              "3                                   day_of_week\n",
              "4   did_police_officer_attend_scene_of_accident\n",
              "5                              junction_control\n",
              "6                               junction_detail\n",
              "7                              light_conditions\n",
              "8                      local_authority_district\n",
              "9                       local_authority_highway\n",
              "10                    lsoa_of_accident_location\n",
              "11                           number_of_vehicles\n",
              "12            pedestrian_crossing-human_control\n",
              "13      pedestrian_crossing-physical_facilities\n",
              "14                                 police_force\n",
              "15                      road_surface_conditions\n",
              "16                                    road_type\n",
              "17                   special_conditions_at_site\n",
              "18                          urban_or_rural_area\n",
              "19                           weather_conditions\n",
              "20                           age_band_of_driver\n",
              "21                               age_of_vehicle\n",
              "22                        driver_home_area_type\n",
              "23                    hit_object_in_carriageway\n",
              "24                   hit_object_off_carriageway\n",
              "25                    journey_purpose_of_driver\n",
              "26                            junction_location\n",
              "27                              propulsion_code\n",
              "28                                sex_of_driver\n",
              "29                     skidding_and_overturning\n",
              "30                      towing_and_articulation\n",
              "31                  vehicle_leaving_carriageway\n",
              "32              vehicle_locationrestricted_lane\n",
              "33                            vehicle_manoeuvre\n",
              "34                            vehicle_reference\n",
              "35                                 vehicle_type\n",
              "36                  was_vehicle_left_hand_drive\n",
              "37                         x1st_point_of_impact\n",
              "38                                  time_of_day\n",
              "39                                       season\n",
              "40                      engine_capacity_cc_size\n",
              "41                        location_easting_osgr\n",
              "42                       location_northing_osgr\n",
              "43                         number_of_casualties\n",
              "44                                  speed_limit\n",
              "45                            driver_imd_decile\n",
              "46                           engine_capacity_cc\n",
              "47                                        month\n",
              "48                                      weekend"
            ]
          },
          "metadata": {
            "tags": []
          },
          "execution_count": 20
        }
      ]
    },
    {
      "cell_type": "code",
      "metadata": {
        "id": "swkL12dpNVBW",
        "colab": {
          "base_uri": "https://localhost:8080/",
          "height": 1000
        },
        "outputId": "3a0a5126-e410-461d-c324-9341ee820dea"
      },
      "source": [
        "features_rank=pd.concat([dfcolumns,dfscores],axis=1)\n",
        "features_rank.columns=['Features','Score']\n",
        "features_rank"
      ],
      "execution_count": null,
      "outputs": [
        {
          "output_type": "execute_result",
          "data": {
            "text/html": [
              "<div>\n",
              "<style scoped>\n",
              "    .dataframe tbody tr th:only-of-type {\n",
              "        vertical-align: middle;\n",
              "    }\n",
              "\n",
              "    .dataframe tbody tr th {\n",
              "        vertical-align: top;\n",
              "    }\n",
              "\n",
              "    .dataframe thead th {\n",
              "        text-align: right;\n",
              "    }\n",
              "</style>\n",
              "<table border=\"1\" class=\"dataframe\">\n",
              "  <thead>\n",
              "    <tr style=\"text-align: right;\">\n",
              "      <th></th>\n",
              "      <th>Features</th>\n",
              "      <th>Score</th>\n",
              "    </tr>\n",
              "  </thead>\n",
              "  <tbody>\n",
              "    <tr>\n",
              "      <th>0</th>\n",
              "      <td>1st_road_class</td>\n",
              "      <td>2.375229e+02</td>\n",
              "    </tr>\n",
              "    <tr>\n",
              "      <th>1</th>\n",
              "      <td>1st_road_number</td>\n",
              "      <td>1.831661e+05</td>\n",
              "    </tr>\n",
              "    <tr>\n",
              "      <th>2</th>\n",
              "      <td>carriageway_hazards</td>\n",
              "      <td>1.176763e+00</td>\n",
              "    </tr>\n",
              "    <tr>\n",
              "      <th>3</th>\n",
              "      <td>day_of_week</td>\n",
              "      <td>2.938442e+01</td>\n",
              "    </tr>\n",
              "    <tr>\n",
              "      <th>4</th>\n",
              "      <td>did_police_officer_attend_scene_of_accident</td>\n",
              "      <td>8.512045e+03</td>\n",
              "    </tr>\n",
              "    <tr>\n",
              "      <th>5</th>\n",
              "      <td>junction_control</td>\n",
              "      <td>4.923597e+00</td>\n",
              "    </tr>\n",
              "    <tr>\n",
              "      <th>6</th>\n",
              "      <td>junction_detail</td>\n",
              "      <td>5.285547e+02</td>\n",
              "    </tr>\n",
              "    <tr>\n",
              "      <th>7</th>\n",
              "      <td>light_conditions</td>\n",
              "      <td>2.629848e+02</td>\n",
              "    </tr>\n",
              "    <tr>\n",
              "      <th>8</th>\n",
              "      <td>local_authority_district</td>\n",
              "      <td>3.185927e+01</td>\n",
              "    </tr>\n",
              "    <tr>\n",
              "      <th>9</th>\n",
              "      <td>local_authority_highway</td>\n",
              "      <td>1.001064e+03</td>\n",
              "    </tr>\n",
              "    <tr>\n",
              "      <th>10</th>\n",
              "      <td>lsoa_of_accident_location</td>\n",
              "      <td>2.726412e+07</td>\n",
              "    </tr>\n",
              "    <tr>\n",
              "      <th>11</th>\n",
              "      <td>number_of_vehicles</td>\n",
              "      <td>1.155380e+03</td>\n",
              "    </tr>\n",
              "    <tr>\n",
              "      <th>12</th>\n",
              "      <td>pedestrian_crossing-human_control</td>\n",
              "      <td>2.956724e+01</td>\n",
              "    </tr>\n",
              "    <tr>\n",
              "      <th>13</th>\n",
              "      <td>pedestrian_crossing-physical_facilities</td>\n",
              "      <td>1.533899e+03</td>\n",
              "    </tr>\n",
              "    <tr>\n",
              "      <th>14</th>\n",
              "      <td>police_force</td>\n",
              "      <td>1.081952e+03</td>\n",
              "    </tr>\n",
              "    <tr>\n",
              "      <th>15</th>\n",
              "      <td>road_surface_conditions</td>\n",
              "      <td>8.202404e+00</td>\n",
              "    </tr>\n",
              "    <tr>\n",
              "      <th>16</th>\n",
              "      <td>road_type</td>\n",
              "      <td>3.540224e+02</td>\n",
              "    </tr>\n",
              "    <tr>\n",
              "      <th>17</th>\n",
              "      <td>special_conditions_at_site</td>\n",
              "      <td>2.151918e+00</td>\n",
              "    </tr>\n",
              "    <tr>\n",
              "      <th>18</th>\n",
              "      <td>urban_or_rural_area</td>\n",
              "      <td>3.226434e+03</td>\n",
              "    </tr>\n",
              "    <tr>\n",
              "      <th>19</th>\n",
              "      <td>weather_conditions</td>\n",
              "      <td>7.009785e+02</td>\n",
              "    </tr>\n",
              "    <tr>\n",
              "      <th>20</th>\n",
              "      <td>age_band_of_driver</td>\n",
              "      <td>1.549853e+02</td>\n",
              "    </tr>\n",
              "    <tr>\n",
              "      <th>21</th>\n",
              "      <td>age_of_vehicle</td>\n",
              "      <td>8.198237e+01</td>\n",
              "    </tr>\n",
              "    <tr>\n",
              "      <th>22</th>\n",
              "      <td>driver_home_area_type</td>\n",
              "      <td>3.850230e+01</td>\n",
              "    </tr>\n",
              "    <tr>\n",
              "      <th>23</th>\n",
              "      <td>hit_object_in_carriageway</td>\n",
              "      <td>9.251518e+00</td>\n",
              "    </tr>\n",
              "    <tr>\n",
              "      <th>24</th>\n",
              "      <td>hit_object_off_carriageway</td>\n",
              "      <td>2.945136e+02</td>\n",
              "    </tr>\n",
              "    <tr>\n",
              "      <th>25</th>\n",
              "      <td>journey_purpose_of_driver</td>\n",
              "      <td>3.613304e+01</td>\n",
              "    </tr>\n",
              "    <tr>\n",
              "      <th>26</th>\n",
              "      <td>junction_location</td>\n",
              "      <td>6.805023e+03</td>\n",
              "    </tr>\n",
              "    <tr>\n",
              "      <th>27</th>\n",
              "      <td>propulsion_code</td>\n",
              "      <td>2.568525e+02</td>\n",
              "    </tr>\n",
              "    <tr>\n",
              "      <th>28</th>\n",
              "      <td>sex_of_driver</td>\n",
              "      <td>3.409587e+02</td>\n",
              "    </tr>\n",
              "    <tr>\n",
              "      <th>29</th>\n",
              "      <td>skidding_and_overturning</td>\n",
              "      <td>6.216375e+02</td>\n",
              "    </tr>\n",
              "    <tr>\n",
              "      <th>30</th>\n",
              "      <td>towing_and_articulation</td>\n",
              "      <td>1.582483e+01</td>\n",
              "    </tr>\n",
              "    <tr>\n",
              "      <th>31</th>\n",
              "      <td>vehicle_leaving_carriageway</td>\n",
              "      <td>3.189148e+03</td>\n",
              "    </tr>\n",
              "    <tr>\n",
              "      <th>32</th>\n",
              "      <td>vehicle_locationrestricted_lane</td>\n",
              "      <td>1.549869e+03</td>\n",
              "    </tr>\n",
              "    <tr>\n",
              "      <th>33</th>\n",
              "      <td>vehicle_manoeuvre</td>\n",
              "      <td>1.902469e+04</td>\n",
              "    </tr>\n",
              "    <tr>\n",
              "      <th>34</th>\n",
              "      <td>vehicle_reference</td>\n",
              "      <td>1.186891e+02</td>\n",
              "    </tr>\n",
              "    <tr>\n",
              "      <th>35</th>\n",
              "      <td>vehicle_type</td>\n",
              "      <td>1.841135e+04</td>\n",
              "    </tr>\n",
              "    <tr>\n",
              "      <th>36</th>\n",
              "      <td>was_vehicle_left_hand_drive</td>\n",
              "      <td>3.142810e-03</td>\n",
              "    </tr>\n",
              "    <tr>\n",
              "      <th>37</th>\n",
              "      <td>x1st_point_of_impact</td>\n",
              "      <td>4.880173e+03</td>\n",
              "    </tr>\n",
              "    <tr>\n",
              "      <th>38</th>\n",
              "      <td>time_of_day</td>\n",
              "      <td>1.953468e+03</td>\n",
              "    </tr>\n",
              "    <tr>\n",
              "      <th>39</th>\n",
              "      <td>season</td>\n",
              "      <td>2.263631e+01</td>\n",
              "    </tr>\n",
              "    <tr>\n",
              "      <th>40</th>\n",
              "      <td>engine_capacity_cc_size</td>\n",
              "      <td>9.164785e+01</td>\n",
              "    </tr>\n",
              "    <tr>\n",
              "      <th>41</th>\n",
              "      <td>location_easting_osgr</td>\n",
              "      <td>1.990701e+07</td>\n",
              "    </tr>\n",
              "    <tr>\n",
              "      <th>42</th>\n",
              "      <td>location_northing_osgr</td>\n",
              "      <td>7.251961e+07</td>\n",
              "    </tr>\n",
              "    <tr>\n",
              "      <th>43</th>\n",
              "      <td>number_of_casualties</td>\n",
              "      <td>4.691446e+03</td>\n",
              "    </tr>\n",
              "    <tr>\n",
              "      <th>44</th>\n",
              "      <td>speed_limit</td>\n",
              "      <td>3.638250e+04</td>\n",
              "    </tr>\n",
              "    <tr>\n",
              "      <th>45</th>\n",
              "      <td>driver_imd_decile</td>\n",
              "      <td>5.061496e+02</td>\n",
              "    </tr>\n",
              "    <tr>\n",
              "      <th>46</th>\n",
              "      <td>engine_capacity_cc</td>\n",
              "      <td>1.926944e+05</td>\n",
              "    </tr>\n",
              "    <tr>\n",
              "      <th>47</th>\n",
              "      <td>month</td>\n",
              "      <td>7.460384e+01</td>\n",
              "    </tr>\n",
              "    <tr>\n",
              "      <th>48</th>\n",
              "      <td>weekend</td>\n",
              "      <td>3.391425e+02</td>\n",
              "    </tr>\n",
              "  </tbody>\n",
              "</table>\n",
              "</div>"
            ],
            "text/plain": [
              "                                       Features         Score\n",
              "0                                1st_road_class  2.375229e+02\n",
              "1                               1st_road_number  1.831661e+05\n",
              "2                           carriageway_hazards  1.176763e+00\n",
              "3                                   day_of_week  2.938442e+01\n",
              "4   did_police_officer_attend_scene_of_accident  8.512045e+03\n",
              "5                              junction_control  4.923597e+00\n",
              "6                               junction_detail  5.285547e+02\n",
              "7                              light_conditions  2.629848e+02\n",
              "8                      local_authority_district  3.185927e+01\n",
              "9                       local_authority_highway  1.001064e+03\n",
              "10                    lsoa_of_accident_location  2.726412e+07\n",
              "11                           number_of_vehicles  1.155380e+03\n",
              "12            pedestrian_crossing-human_control  2.956724e+01\n",
              "13      pedestrian_crossing-physical_facilities  1.533899e+03\n",
              "14                                 police_force  1.081952e+03\n",
              "15                      road_surface_conditions  8.202404e+00\n",
              "16                                    road_type  3.540224e+02\n",
              "17                   special_conditions_at_site  2.151918e+00\n",
              "18                          urban_or_rural_area  3.226434e+03\n",
              "19                           weather_conditions  7.009785e+02\n",
              "20                           age_band_of_driver  1.549853e+02\n",
              "21                               age_of_vehicle  8.198237e+01\n",
              "22                        driver_home_area_type  3.850230e+01\n",
              "23                    hit_object_in_carriageway  9.251518e+00\n",
              "24                   hit_object_off_carriageway  2.945136e+02\n",
              "25                    journey_purpose_of_driver  3.613304e+01\n",
              "26                            junction_location  6.805023e+03\n",
              "27                              propulsion_code  2.568525e+02\n",
              "28                                sex_of_driver  3.409587e+02\n",
              "29                     skidding_and_overturning  6.216375e+02\n",
              "30                      towing_and_articulation  1.582483e+01\n",
              "31                  vehicle_leaving_carriageway  3.189148e+03\n",
              "32              vehicle_locationrestricted_lane  1.549869e+03\n",
              "33                            vehicle_manoeuvre  1.902469e+04\n",
              "34                            vehicle_reference  1.186891e+02\n",
              "35                                 vehicle_type  1.841135e+04\n",
              "36                  was_vehicle_left_hand_drive  3.142810e-03\n",
              "37                         x1st_point_of_impact  4.880173e+03\n",
              "38                                  time_of_day  1.953468e+03\n",
              "39                                       season  2.263631e+01\n",
              "40                      engine_capacity_cc_size  9.164785e+01\n",
              "41                        location_easting_osgr  1.990701e+07\n",
              "42                       location_northing_osgr  7.251961e+07\n",
              "43                         number_of_casualties  4.691446e+03\n",
              "44                                  speed_limit  3.638250e+04\n",
              "45                            driver_imd_decile  5.061496e+02\n",
              "46                           engine_capacity_cc  1.926944e+05\n",
              "47                                        month  7.460384e+01\n",
              "48                                      weekend  3.391425e+02"
            ]
          },
          "metadata": {
            "tags": []
          },
          "execution_count": 21
        }
      ]
    },
    {
      "cell_type": "code",
      "metadata": {
        "id": "yRC4s6q-Sdeh"
      },
      "source": [
        "# X_t = ordered_rank_features.transform(X_train)\n",
        "# X_test = ordered_rank_features.transform(X_test)"
      ],
      "execution_count": null,
      "outputs": []
    },
    {
      "cell_type": "code",
      "metadata": {
        "colab": {
          "base_uri": "https://localhost:8080/"
        },
        "id": "zPCIgY9SNbVT",
        "outputId": "608f80af-da60-427c-cf77-b38a58aa6473"
      },
      "source": [
        "features_rank.nlargest(30,'Score').Features.index "
      ],
      "execution_count": null,
      "outputs": [
        {
          "output_type": "execute_result",
          "data": {
            "text/plain": [
              "Int64Index([42, 10, 41, 46,  1, 44, 33, 35,  4, 26, 37, 43, 18, 31, 38, 32, 13,\n",
              "            11, 14,  9, 19, 29,  6, 45, 16, 28, 48, 24,  7, 27],\n",
              "           dtype='int64')"
            ]
          },
          "metadata": {
            "tags": []
          },
          "execution_count": 23
        }
      ]
    },
    {
      "cell_type": "code",
      "metadata": {
        "id": "3LxJfIizTn0R"
      },
      "source": [
        ""
      ],
      "execution_count": null,
      "outputs": []
    },
    {
      "cell_type": "code",
      "metadata": {
        "id": "9Z99mwWBQgY-",
        "colab": {
          "base_uri": "https://localhost:8080/"
        },
        "outputId": "66747bed-1c4f-44c0-f1dc-82ba382c5974"
      },
      "source": [
        "from sklearn.feature_selection import SelectKBest\n",
        "from sklearn.feature_selection import mutual_info_classif\n",
        "\n",
        "#No we Will select the  top 8 important features\n",
        "sel_five_cols = SelectKBest(mutual_info_classif, k=30)\n",
        "sel_five_cols.fit(X_train, y_train)\n",
        "X_train.columns[sel_five_cols.get_support()]"
      ],
      "execution_count": null,
      "outputs": [
        {
          "output_type": "execute_result",
          "data": {
            "text/plain": [
              "Index(['carriageway_hazards', 'junction_control', 'junction_detail',\n",
              "       'light_conditions', 'number_of_vehicles', 'road_surface_conditions',\n",
              "       'road_type', 'special_conditions_at_site', 'urban_or_rural_area',\n",
              "       'weather_conditions', 'age_band_of_driver', 'age_of_vehicle',\n",
              "       'driver_home_area_type', 'hit_object_in_carriageway',\n",
              "       'hit_object_off_carriageway', 'journey_purpose_of_driver',\n",
              "       'junction_location', 'propulsion_code', 'sex_of_driver',\n",
              "       'skidding_and_overturning', 'towing_and_articulation',\n",
              "       'vehicle_leaving_carriageway', 'vehicle_type',\n",
              "       'was_vehicle_left_hand_drive', 'x1st_point_of_impact', 'season',\n",
              "       'engine_capacity_cc_size', 'location_northing_osgr',\n",
              "       'number_of_casualties', 'speed_limit'],\n",
              "      dtype='object')"
            ]
          },
          "metadata": {
            "tags": []
          },
          "execution_count": 24
        }
      ]
    },
    {
      "cell_type": "markdown",
      "metadata": {
        "id": "EzTdZKGSS8MA"
      },
      "source": [
        "Both mutual_info_classif and Ch2 test is giving the nearly similar features"
      ]
    },
    {
      "cell_type": "code",
      "metadata": {
        "id": "SbVhnhlKJG5j"
      },
      "source": [
        "# # with the following function we can select highly correlated features\n",
        "# # it will remove the first feature that is correlated with anything other feature\n",
        "\n",
        "# def correlation(dataset, threshold):\n",
        "#     col_corr = set()  # Set of all the names of correlated columns\n",
        "#     corr_matrix = dataset.corr()\n",
        "#     for i in range(len(corr_matrix.columns)):\n",
        "#         for j in range(i):\n",
        "#             if abs(corr_matrix.iloc[i, j]) > threshold: # we are interested in absolute coeff value\n",
        "#                 colname = corr_matrix.columns[i]  # getting the name of column\n",
        "#                 col_corr.add(colname)\n",
        "#     return col_corr"
      ],
      "execution_count": null,
      "outputs": []
    },
    {
      "cell_type": "code",
      "metadata": {
        "id": "VVA-8wT8V9mF"
      },
      "source": [
        "X_train = X_train[[\"location_northing_osgr\",\n",
        "                     \"lsoa_of_accident_location\",\n",
        "                          \"location_easting_osgr\",\n",
        "                            \"engine_capacity_cc\",\n",
        "                               \"1st_road_number\",\n",
        "                                    \"speed_limit\",\n",
        "                              \"vehicle_manoeuvre\",\n",
        "                                   \"vehicle_type\",\n",
        "    \"did_police_officer_attend_scene_of_accident\",\n",
        "                              \"junction_location\",\n",
        "                          \"x1st_point_of_impact\",\n",
        "                           \"number_of_casualties\",\n",
        "                            \"urban_or_rural_area\",\n",
        "                    \"vehicle_leaving_carriageway\",\n",
        "                                    \"time_of_day\",\n",
        "                \"vehicle_locationrestricted_lane\",\n",
        "        \"pedestrian_crossing-physical_facilities\",\n",
        "                             \"number_of_vehicles\",\n",
        "                                  \"police_force\",\n",
        "                        \"local_authority_highway\",\n",
        "                           \"weather_conditions\",\n",
        "                       \"skidding_and_overturning\",\n",
        "                                \"junction_detail\",\n",
        "                             \"driver_imd_decile\",\n",
        "                                     \"road_type\",\n",
        "                                 \"sex_of_driver\",\n",
        "                                        \"weekend\",\n",
        "                     \"hit_object_off_carriageway\",\n",
        "                               \"light_conditions\"]]"
      ],
      "execution_count": null,
      "outputs": []
    },
    {
      "cell_type": "code",
      "metadata": {
        "id": "tGhCL_JWJIhr"
      },
      "source": [
        "X_test = X_test [[\"location_northing_osgr\",\n",
        "                     \"lsoa_of_accident_location\",\n",
        "                          \"location_easting_osgr\",\n",
        "                            \"engine_capacity_cc\",\n",
        "                               \"1st_road_number\",\n",
        "                                    \"speed_limit\",\n",
        "                              \"vehicle_manoeuvre\",\n",
        "                                   \"vehicle_type\",\n",
        "    \"did_police_officer_attend_scene_of_accident\",\n",
        "                              \"junction_location\",\n",
        "                          \"x1st_point_of_impact\",\n",
        "                           \"number_of_casualties\",\n",
        "                            \"urban_or_rural_area\",\n",
        "                    \"vehicle_leaving_carriageway\",\n",
        "                                    \"time_of_day\",\n",
        "                \"vehicle_locationrestricted_lane\",\n",
        "        \"pedestrian_crossing-physical_facilities\",\n",
        "                             \"number_of_vehicles\",\n",
        "                                  \"police_force\",\n",
        "                        \"local_authority_highway\",\n",
        "                           \"weather_conditions\",\n",
        "                       \"skidding_and_overturning\",\n",
        "                                \"junction_detail\",\n",
        "                             \"driver_imd_decile\",\n",
        "                                     \"road_type\",\n",
        "                                 \"sex_of_driver\",\n",
        "                                        \"weekend\",\n",
        "                     \"hit_object_off_carriageway\",\n",
        "                               \"light_conditions\"]]"
      ],
      "execution_count": null,
      "outputs": []
    },
    {
      "cell_type": "markdown",
      "metadata": {
        "id": "p58j38NdYjOM"
      },
      "source": [
        "# **Future Scaling**"
      ]
    },
    {
      "cell_type": "markdown",
      "metadata": {
        "id": "d9GZ1_9kd48k"
      },
      "source": [
        "My Features are not exactly Gaussian distributed."
      ]
    },
    {
      "cell_type": "code",
      "metadata": {
        "id": "RCJ8HElbYkDU"
      },
      "source": [
        "from sklearn.preprocessing import MinMaxScaler\n",
        "min_max=MinMaxScaler()\n",
        "scaler = min_max.fit(X_train)\n",
        "X_train = scaler.transform(X_train)\n",
        "X_test = scaler.transform(X_test)"
      ],
      "execution_count": null,
      "outputs": []
    },
    {
      "cell_type": "markdown",
      "metadata": {
        "id": "NtiKiP_9XRqw"
      },
      "source": [
        "# **handling Imbalanced DataSet**"
      ]
    },
    {
      "cell_type": "code",
      "metadata": {
        "id": "ZGp8h0_PG9DU"
      },
      "source": [
        "from imblearn.combine import SMOTETomek\n",
        "os=SMOTETomek(0.75)\n",
        "X_train_ns,y_train_ns=os.fit_sample(X_train,y_train)\n",
        "print(\"The number of classes before fit {}\".format(Counter(y_train)))\n",
        "print(\"The number of classes after fit {}\".format(Counter(y_train_ns)))"
      ],
      "execution_count": null,
      "outputs": []
    },
    {
      "cell_type": "code",
      "metadata": {
        "id": "LJ48tHEzbeke"
      },
      "source": [
        "n_estimators = [100, 500, 900, 1100, 1500]\n",
        "max_depth = [2, 3, 5, 10, 15]\n",
        "base_score=[0.25,0.5,0.75,1]\n",
        "learning_rate=[0.05,0.1,0.15,0.20]\n",
        "min_child_weight=[1,2,3,4]"
      ],
      "execution_count": null,
      "outputs": []
    },
    {
      "cell_type": "code",
      "metadata": {
        "id": "lgTJuMmpbgKH"
      },
      "source": [
        "hyperparameter_grid = {\n",
        "    'n_estimators': n_estimators,\n",
        "    'max_depth':max_depth\n",
        "    }"
      ],
      "execution_count": null,
      "outputs": []
    },
    {
      "cell_type": "code",
      "metadata": {
        "id": "Ev-vAzahbp42"
      },
      "source": [
        "import xgboost\n",
        "classifier =xgboost.XGBClassifier() \n",
        "\n",
        "from sklearn.ensemble import RandomForestClassifier\n",
        "RFclassifier = RandomForestClassifier()"
      ],
      "execution_count": null,
      "outputs": []
    },
    {
      "cell_type": "code",
      "metadata": {
        "id": "FrcKUi-DbjyV"
      },
      "source": [
        "random_cv = RandomizedSearchCV(estimator=RFclassifier,\n",
        "            param_distributions=hyperparameter_grid,\n",
        "            cv=5, n_iter=50,\n",
        "            scoring = 'neg_mean_absolute_error',n_jobs = 4,\n",
        "            verbose = 5, \n",
        "            return_train_score = True,\n",
        "            random_state=42)"
      ],
      "execution_count": null,
      "outputs": []
    },
    {
      "cell_type": "code",
      "metadata": {
        "id": "prRYzijVbr9X"
      },
      "source": [
        "random_cv.fit(X_train,y_train)"
      ],
      "execution_count": null,
      "outputs": []
    },
    {
      "cell_type": "code",
      "metadata": {
        "id": "PleVw7XrbiO8"
      },
      "source": [
        "from sklearn.model_selection import RandomizedSearchCV"
      ],
      "execution_count": null,
      "outputs": []
    },
    {
      "cell_type": "code",
      "metadata": {
        "id": "Dkq-xQ-fIC6S"
      },
      "source": [
        "classifiers = [\n",
        "    RandomForestClassifier(criterion='entropy', max_depth=40,  min_samples_split=8, n_estimators=500, random_state=42),\n",
        "    XGBClassifier( learning_rate=0.05, n_estimators=500, subsample= 1,random_state = 42, gamma = 1, max_depth=40)]"
      ],
      "execution_count": null,
      "outputs": []
    },
    {
      "cell_type": "code",
      "metadata": {
        "id": "6ZMSqYiyaDgV"
      },
      "source": [
        "res_cols=[\"Classifier\", \"Accuracy\", \"Log Loss\", \"Cross Val\", \"Recall\", \"Roc Auc\",\"F1\", \n",
        "          \"False Positive Rate\", \"Error Rate\"]\n",
        "results = pd.DataFrame(columns=res_cols)"
      ],
      "execution_count": null,
      "outputs": []
    },
    {
      "cell_type": "code",
      "metadata": {
        "id": "amXY-UaeamBt"
      },
      "source": [
        "res_X_train = X_train_ns\n",
        "res_y_train = y_train_ns\n",
        "res_X_test = X_test\n",
        "res_y_test = y_test"
      ],
      "execution_count": null,
      "outputs": []
    },
    {
      "cell_type": "code",
      "metadata": {
        "id": "Kf3D7V9ocYyY"
      },
      "source": [
        "results = []"
      ],
      "execution_count": null,
      "outputs": []
    },
    {
      "cell_type": "code",
      "metadata": {
        "id": "WPxt2qYfc7Uw"
      },
      "source": [
        "import pickle"
      ],
      "execution_count": null,
      "outputs": []
    },
    {
      "cell_type": "code",
      "metadata": {
        "id": "d_bpMNOQaGK3"
      },
      "source": [
        "\n",
        "for clf in classifiers:\n",
        "    clf.fit(res_X_train, res_y_train)\n",
        "    name = clf.__class__.__name__\n",
        "    \n",
        "    print(\"\\n\"*3)\n",
        "    print(name,\"Results:\")\n",
        "       \n",
        "    print('*'*40)\n",
        "    y_pred = clf.predict(res_X_test)\n",
        "    acc = accuracy_score(res_y_test, y_pred)\n",
        "    print(\"Accuracy: {:.4%}\".format(acc))\n",
        "    \n",
        "    cv= np.mean(cross_val_score(clf, res_X_train, res_y_train, cv=3))\n",
        "    print(\"Cross validation scores:\",cv)\n",
        "    \n",
        "    \n",
        "    train_predictions = clf.predict_proba(res_X_test)\n",
        "    logloss = log_loss(res_y_test, train_predictions)\n",
        "    print(\"Log Loss: {}\".format(logloss))\n",
        "    \n",
        "    cm = confusion_matrix(res_y_test, y_pred)\n",
        "    print(cm)\n",
        "    print(classification_report(res_y_test,y_pred))\n",
        "    cm_plot(cm)\n",
        "    \n",
        "    #FPR and Error Rate setup\n",
        "    tn, fp, fn, tp = confusion_matrix(res_y_test,y_pred).ravel()\n",
        "    \n",
        "    fpr = fp/(tn+fp)\n",
        "    ers = 1-acc\n",
        "    rec= recall_score(res_y_test, y_pred)\n",
        "    roc=roc_auc_score(res_y_test, y_pred)\n",
        "    f1s=f1_score(res_y_test, y_pred)\n",
        "    results_final = pd.DataFrame([[name, round(acc*100,3), round(logloss,3), \n",
        "                                   round(cv*100,3), round(rec*100,3), round(roc*100,3),\n",
        "                                   round(f1s*100,3),round(fpr*100,3),round(ers*100,3)]],\n",
        "                                 columns=res_cols)\n",
        "    file_name = \"/content/drive/MyDrive/Classification/accidents/model{0}.pkl\".format(name)\n",
        "    pickle.dump(clf, open(filename, 'wb'))\n",
        "    results = results.append(results_final)\n",
        "    \n",
        "print(\"*\"*40)"
      ],
      "execution_count": null,
      "outputs": []
    },
    {
      "cell_type": "code",
      "metadata": {
        "id": "cZAuQlbScUB1"
      },
      "source": [
        "print(\"Results Shape\",results.shape)\n",
        "results.head(10)"
      ],
      "execution_count": null,
      "outputs": []
    }
  ]
}