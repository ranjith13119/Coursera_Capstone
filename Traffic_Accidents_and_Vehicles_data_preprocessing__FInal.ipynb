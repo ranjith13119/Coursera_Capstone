{
  "nbformat": 4,
  "nbformat_minor": 0,
  "metadata": {
    "colab": {
      "name": "Traffic Accidents and Vehicles - data - preprocessing _FInal.ipynb",
      "provenance": [],
      "collapsed_sections": [],
      "mount_file_id": "1e3_jMcJWQaOc6JTRMGcd6RIAMjX24vcR",
      "authorship_tag": "ABX9TyMzGHSgjwkYo7gK9DoakJJH",
      "include_colab_link": true
    },
    "kernelspec": {
      "name": "python3",
      "display_name": "Python 3"
    },
    "language_info": {
      "name": "python"
    },
    "accelerator": "TPU"
  },
  "cells": [
    {
      "cell_type": "markdown",
      "metadata": {
        "id": "view-in-github",
        "colab_type": "text"
      },
      "source": [
        "<a href=\"https://colab.research.google.com/github/ranjith13119/Coursera_Capstone/blob/master/Traffic_Accidents_and_Vehicles_data_preprocessing__FInal.ipynb\" target=\"_parent\"><img src=\"https://colab.research.google.com/assets/colab-badge.svg\" alt=\"Open In Colab\"/></a>"
      ]
    },
    {
      "cell_type": "code",
      "metadata": {
        "id": "FGqhtEYC2Zew"
      },
      "source": [
        "# import os\n",
        "# os.environ['KAGGLE_CONFIG_DIR'] = \"/content/drive/MyDrive/Kaggle\"\n",
        "# %cd /content/drive/MyDrive/Classification/accidents\n",
        "# !kaggle datasets download -d tsiaras/uk-road-safety-accidents-and-vehicles\n",
        "# #unzipping the zip files and deleting the zip files\n",
        "# !unzip \\*.zip  && rm *.zipy"
      ],
      "execution_count": null,
      "outputs": []
    },
    {
      "cell_type": "code",
      "metadata": {
        "id": "jYC_fygU5gi5"
      },
      "source": [
        "import pandas as pd \n",
        "import numpy as np"
      ],
      "execution_count": null,
      "outputs": []
    },
    {
      "cell_type": "code",
      "metadata": {
        "id": "cfLPwiib5dm0"
      },
      "source": [
        "data_accident = pd.read_csv(\"/content/drive/MyDrive/Classification/accidents/Accident_Information.csv\", low_memory=False, chunksize=30000)"
      ],
      "execution_count": null,
      "outputs": []
    },
    {
      "cell_type": "code",
      "metadata": {
        "id": "ScbwZXb35ycp"
      },
      "source": [
        "data_vic = pd.read_csv(\"/content/drive/MyDrive/Classification/accidents/Vehicle_Information.csv\",  encoding= 'unicode_escape', low_memory=False, chunksize=30000)"
      ],
      "execution_count": null,
      "outputs": []
    },
    {
      "cell_type": "code",
      "metadata": {
        "id": "zmsBQmUdBJOq"
      },
      "source": [
        "data_accident_chunk = []\n",
        "\n",
        "for chunk in data_accident:\n",
        "  preprocessedData = chunk [\n",
        "        (chunk.Year.astype(int) >= 2010) &  # select the data from 2010 to 2017\n",
        "        (chunk.Year.astype(int) <= 2017) &\n",
        "        (chunk['Latitude'].notnull()) &\n",
        "        (chunk['Longitude'].notnull())       \n",
        "  ]\n",
        "  data_accident_chunk.append(preprocessedData)"
      ],
      "execution_count": null,
      "outputs": []
    },
    {
      "cell_type": "code",
      "metadata": {
        "id": "6xKA_e7nBwC2"
      },
      "source": [
        "df_accident = pd.concat(data_accident_chunk)"
      ],
      "execution_count": null,
      "outputs": []
    },
    {
      "cell_type": "code",
      "metadata": {
        "colab": {
          "base_uri": "https://localhost:8080/"
        },
        "id": "9ZRacXziEgIK",
        "outputId": "74acae6a-9e1a-42f1-91d3-fa8dafbb6bea"
      },
      "source": [
        "df_accident.shape"
      ],
      "execution_count": null,
      "outputs": [
        {
          "output_type": "execute_result",
          "data": {
            "text/plain": [
              "(1143037, 34)"
            ]
          },
          "metadata": {
            "tags": []
          },
          "execution_count": 7
        }
      ]
    },
    {
      "cell_type": "code",
      "metadata": {
        "id": "Mi_8qyS_B37G"
      },
      "source": [
        "vcchunk = []\n",
        "for chunk2 in data_vic:\n",
        "    vcchunk_filter = chunk2[\n",
        "        (chunk2.Year.astype(int) >= 2010)&\n",
        "        (chunk2.Year.astype(int) <= 2017)         \n",
        "    ]\n",
        "    vcchunk.append(vcchunk_filter)"
      ],
      "execution_count": null,
      "outputs": []
    },
    {
      "cell_type": "code",
      "metadata": {
        "id": "MUMn24cLCL8Q"
      },
      "source": [
        "df_vichle_final = pd.concat(vcchunk)"
      ],
      "execution_count": null,
      "outputs": []
    },
    {
      "cell_type": "code",
      "metadata": {
        "colab": {
          "base_uri": "https://localhost:8080/"
        },
        "id": "dGRvOGahDJGa",
        "outputId": "6b1c8dce-ed55-4b84-b5b4-6b86894466e4"
      },
      "source": [
        "df_vichle_final.shape"
      ],
      "execution_count": null,
      "outputs": [
        {
          "output_type": "execute_result",
          "data": {
            "text/plain": [
              "(1399165, 24)"
            ]
          },
          "metadata": {
            "tags": []
          },
          "execution_count": 10
        }
      ]
    },
    {
      "cell_type": "code",
      "metadata": {
        "id": "6g_7r0cfDVfY"
      },
      "source": [
        "df = pd.merge(df_accident, df_vichle_final, how = 'inner', on = 'Accident_Index')"
      ],
      "execution_count": null,
      "outputs": []
    },
    {
      "cell_type": "code",
      "metadata": {
        "colab": {
          "base_uri": "https://localhost:8080/"
        },
        "id": "nb4Wr4xwDVlf",
        "outputId": "0685b348-0ca7-4284-9791-163f20a02c73"
      },
      "source": [
        "df.shape"
      ],
      "execution_count": null,
      "outputs": [
        {
          "output_type": "execute_result",
          "data": {
            "text/plain": [
              "(1399100, 57)"
            ]
          },
          "metadata": {
            "tags": []
          },
          "execution_count": 12
        }
      ]
    },
    {
      "cell_type": "code",
      "metadata": {
        "colab": {
          "base_uri": "https://localhost:8080/",
          "height": 411
        },
        "id": "zU1ZZTwhDVn-",
        "outputId": "0c3717f6-0f42-4708-a3e0-e30046c18c2f"
      },
      "source": [
        "df.head()"
      ],
      "execution_count": null,
      "outputs": [
        {
          "output_type": "execute_result",
          "data": {
            "text/html": [
              "<div>\n",
              "<style scoped>\n",
              "    .dataframe tbody tr th:only-of-type {\n",
              "        vertical-align: middle;\n",
              "    }\n",
              "\n",
              "    .dataframe tbody tr th {\n",
              "        vertical-align: top;\n",
              "    }\n",
              "\n",
              "    .dataframe thead th {\n",
              "        text-align: right;\n",
              "    }\n",
              "</style>\n",
              "<table border=\"1\" class=\"dataframe\">\n",
              "  <thead>\n",
              "    <tr style=\"text-align: right;\">\n",
              "      <th></th>\n",
              "      <th>Accident_Index</th>\n",
              "      <th>1st_Road_Class</th>\n",
              "      <th>1st_Road_Number</th>\n",
              "      <th>2nd_Road_Class</th>\n",
              "      <th>2nd_Road_Number</th>\n",
              "      <th>Accident_Severity</th>\n",
              "      <th>Carriageway_Hazards</th>\n",
              "      <th>Date</th>\n",
              "      <th>Day_of_Week</th>\n",
              "      <th>Did_Police_Officer_Attend_Scene_of_Accident</th>\n",
              "      <th>Junction_Control</th>\n",
              "      <th>Junction_Detail</th>\n",
              "      <th>Latitude</th>\n",
              "      <th>Light_Conditions</th>\n",
              "      <th>Local_Authority_(District)</th>\n",
              "      <th>Local_Authority_(Highway)</th>\n",
              "      <th>Location_Easting_OSGR</th>\n",
              "      <th>Location_Northing_OSGR</th>\n",
              "      <th>Longitude</th>\n",
              "      <th>LSOA_of_Accident_Location</th>\n",
              "      <th>Number_of_Casualties</th>\n",
              "      <th>Number_of_Vehicles</th>\n",
              "      <th>Pedestrian_Crossing-Human_Control</th>\n",
              "      <th>Pedestrian_Crossing-Physical_Facilities</th>\n",
              "      <th>Police_Force</th>\n",
              "      <th>Road_Surface_Conditions</th>\n",
              "      <th>Road_Type</th>\n",
              "      <th>Special_Conditions_at_Site</th>\n",
              "      <th>Speed_limit</th>\n",
              "      <th>Time</th>\n",
              "      <th>Urban_or_Rural_Area</th>\n",
              "      <th>Weather_Conditions</th>\n",
              "      <th>Year_x</th>\n",
              "      <th>InScotland</th>\n",
              "      <th>Age_Band_of_Driver</th>\n",
              "      <th>Age_of_Vehicle</th>\n",
              "      <th>Driver_Home_Area_Type</th>\n",
              "      <th>Driver_IMD_Decile</th>\n",
              "      <th>Engine_Capacity_.CC.</th>\n",
              "      <th>Hit_Object_in_Carriageway</th>\n",
              "      <th>Hit_Object_off_Carriageway</th>\n",
              "      <th>Journey_Purpose_of_Driver</th>\n",
              "      <th>Junction_Location</th>\n",
              "      <th>make</th>\n",
              "      <th>model</th>\n",
              "      <th>Propulsion_Code</th>\n",
              "      <th>Sex_of_Driver</th>\n",
              "      <th>Skidding_and_Overturning</th>\n",
              "      <th>Towing_and_Articulation</th>\n",
              "      <th>Vehicle_Leaving_Carriageway</th>\n",
              "      <th>Vehicle_Location.Restricted_Lane</th>\n",
              "      <th>Vehicle_Manoeuvre</th>\n",
              "      <th>Vehicle_Reference</th>\n",
              "      <th>Vehicle_Type</th>\n",
              "      <th>Was_Vehicle_Left_Hand_Drive</th>\n",
              "      <th>X1st_Point_of_Impact</th>\n",
              "      <th>Year_y</th>\n",
              "    </tr>\n",
              "  </thead>\n",
              "  <tbody>\n",
              "    <tr>\n",
              "      <th>0</th>\n",
              "      <td>201001BS70003</td>\n",
              "      <td>B</td>\n",
              "      <td>302.0</td>\n",
              "      <td>Unclassified</td>\n",
              "      <td>0.0</td>\n",
              "      <td>Slight</td>\n",
              "      <td>None</td>\n",
              "      <td>2010-01-11</td>\n",
              "      <td>Monday</td>\n",
              "      <td>1.0</td>\n",
              "      <td>Give way or uncontrolled</td>\n",
              "      <td>T or staggered junction</td>\n",
              "      <td>51.484087</td>\n",
              "      <td>Daylight</td>\n",
              "      <td>Kensington and Chelsea</td>\n",
              "      <td>Kensington and Chelsea</td>\n",
              "      <td>527580.0</td>\n",
              "      <td>177730.0</td>\n",
              "      <td>-0.164002</td>\n",
              "      <td>E01002900</td>\n",
              "      <td>1</td>\n",
              "      <td>2</td>\n",
              "      <td>0.0</td>\n",
              "      <td>0.0</td>\n",
              "      <td>Metropolitan Police</td>\n",
              "      <td>Wet or damp</td>\n",
              "      <td>Single carriageway</td>\n",
              "      <td>None</td>\n",
              "      <td>30.0</td>\n",
              "      <td>07:30</td>\n",
              "      <td>Urban</td>\n",
              "      <td>Other</td>\n",
              "      <td>2010</td>\n",
              "      <td>No</td>\n",
              "      <td>36 - 45</td>\n",
              "      <td>1.0</td>\n",
              "      <td>Urban area</td>\n",
              "      <td>1.0</td>\n",
              "      <td>1360.0</td>\n",
              "      <td>None</td>\n",
              "      <td>None</td>\n",
              "      <td>Commuting to/from work</td>\n",
              "      <td>Mid Junction - on roundabout or on main road</td>\n",
              "      <td>CITROEN</td>\n",
              "      <td>BERLINGO FIRST 600</td>\n",
              "      <td>Petrol</td>\n",
              "      <td>Female</td>\n",
              "      <td>None</td>\n",
              "      <td>No tow/articulation</td>\n",
              "      <td>Did not leave carriageway</td>\n",
              "      <td>0.0</td>\n",
              "      <td>Turning right</td>\n",
              "      <td>1</td>\n",
              "      <td>Van / Goods 3.5 tonnes mgw or under</td>\n",
              "      <td>No</td>\n",
              "      <td>Front</td>\n",
              "      <td>2010</td>\n",
              "    </tr>\n",
              "    <tr>\n",
              "      <th>1</th>\n",
              "      <td>201001BS70004</td>\n",
              "      <td>A</td>\n",
              "      <td>402.0</td>\n",
              "      <td>A</td>\n",
              "      <td>4204.0</td>\n",
              "      <td>Slight</td>\n",
              "      <td>None</td>\n",
              "      <td>2010-01-11</td>\n",
              "      <td>Monday</td>\n",
              "      <td>1.0</td>\n",
              "      <td>Auto traffic signal</td>\n",
              "      <td>T or staggered junction</td>\n",
              "      <td>51.509212</td>\n",
              "      <td>Darkness - lights lit</td>\n",
              "      <td>Kensington and Chelsea</td>\n",
              "      <td>Kensington and Chelsea</td>\n",
              "      <td>525340.0</td>\n",
              "      <td>180470.0</td>\n",
              "      <td>-0.195273</td>\n",
              "      <td>E01002884</td>\n",
              "      <td>1</td>\n",
              "      <td>1</td>\n",
              "      <td>0.0</td>\n",
              "      <td>5.0</td>\n",
              "      <td>Metropolitan Police</td>\n",
              "      <td>Wet or damp</td>\n",
              "      <td>Single carriageway</td>\n",
              "      <td>None</td>\n",
              "      <td>30.0</td>\n",
              "      <td>18:35</td>\n",
              "      <td>Urban</td>\n",
              "      <td>Raining no high winds</td>\n",
              "      <td>2010</td>\n",
              "      <td>No</td>\n",
              "      <td>46 - 55</td>\n",
              "      <td>3.0</td>\n",
              "      <td>Urban area</td>\n",
              "      <td>5.0</td>\n",
              "      <td>1870.0</td>\n",
              "      <td>None</td>\n",
              "      <td>None</td>\n",
              "      <td>Journey as part of work</td>\n",
              "      <td>Mid Junction - on roundabout or on main road</td>\n",
              "      <td>RENAULT</td>\n",
              "      <td>SCENIC DYN DCI 130</td>\n",
              "      <td>Heavy oil</td>\n",
              "      <td>Male</td>\n",
              "      <td>None</td>\n",
              "      <td>No tow/articulation</td>\n",
              "      <td>Did not leave carriageway</td>\n",
              "      <td>0.0</td>\n",
              "      <td>Going ahead other</td>\n",
              "      <td>1</td>\n",
              "      <td>Car</td>\n",
              "      <td>No</td>\n",
              "      <td>Front</td>\n",
              "      <td>2010</td>\n",
              "    </tr>\n",
              "    <tr>\n",
              "      <th>2</th>\n",
              "      <td>201001BS70006</td>\n",
              "      <td>A</td>\n",
              "      <td>402.0</td>\n",
              "      <td>B</td>\n",
              "      <td>450.0</td>\n",
              "      <td>Slight</td>\n",
              "      <td>None</td>\n",
              "      <td>2010-01-12</td>\n",
              "      <td>Tuesday</td>\n",
              "      <td>1.0</td>\n",
              "      <td>Auto traffic signal</td>\n",
              "      <td>T or staggered junction</td>\n",
              "      <td>51.507804</td>\n",
              "      <td>Daylight</td>\n",
              "      <td>Kensington and Chelsea</td>\n",
              "      <td>Kensington and Chelsea</td>\n",
              "      <td>524800.0</td>\n",
              "      <td>180300.0</td>\n",
              "      <td>-0.203110</td>\n",
              "      <td>E01002871</td>\n",
              "      <td>1</td>\n",
              "      <td>2</td>\n",
              "      <td>0.0</td>\n",
              "      <td>5.0</td>\n",
              "      <td>Metropolitan Police</td>\n",
              "      <td>Dry</td>\n",
              "      <td>Single carriageway</td>\n",
              "      <td>None</td>\n",
              "      <td>30.0</td>\n",
              "      <td>10:22</td>\n",
              "      <td>Urban</td>\n",
              "      <td>Fine no high winds</td>\n",
              "      <td>2010</td>\n",
              "      <td>No</td>\n",
              "      <td>36 - 45</td>\n",
              "      <td>8.0</td>\n",
              "      <td>Urban area</td>\n",
              "      <td>2.0</td>\n",
              "      <td>3920.0</td>\n",
              "      <td>None</td>\n",
              "      <td>None</td>\n",
              "      <td>Journey as part of work</td>\n",
              "      <td>Mid Junction - on roundabout or on main road</td>\n",
              "      <td>IVECO-FORD</td>\n",
              "      <td>NaN</td>\n",
              "      <td>Heavy oil</td>\n",
              "      <td>Male</td>\n",
              "      <td>None</td>\n",
              "      <td>No tow/articulation</td>\n",
              "      <td>Did not leave carriageway</td>\n",
              "      <td>0.0</td>\n",
              "      <td>Turning left</td>\n",
              "      <td>1</td>\n",
              "      <td>Goods over 3.5t. and under 7.5t</td>\n",
              "      <td>No</td>\n",
              "      <td>Nearside</td>\n",
              "      <td>2010</td>\n",
              "    </tr>\n",
              "    <tr>\n",
              "      <th>3</th>\n",
              "      <td>201001BS70007</td>\n",
              "      <td>Unclassified</td>\n",
              "      <td>0.0</td>\n",
              "      <td>Unclassified</td>\n",
              "      <td>0.0</td>\n",
              "      <td>Slight</td>\n",
              "      <td>None</td>\n",
              "      <td>2010-01-02</td>\n",
              "      <td>Saturday</td>\n",
              "      <td>1.0</td>\n",
              "      <td>Give way or uncontrolled</td>\n",
              "      <td>Mini-roundabout</td>\n",
              "      <td>51.513314</td>\n",
              "      <td>Darkness - lights lit</td>\n",
              "      <td>Kensington and Chelsea</td>\n",
              "      <td>Kensington and Chelsea</td>\n",
              "      <td>525080.0</td>\n",
              "      <td>180920.0</td>\n",
              "      <td>-0.198858</td>\n",
              "      <td>E01002886</td>\n",
              "      <td>1</td>\n",
              "      <td>2</td>\n",
              "      <td>0.0</td>\n",
              "      <td>0.0</td>\n",
              "      <td>Metropolitan Police</td>\n",
              "      <td>Dry</td>\n",
              "      <td>Roundabout</td>\n",
              "      <td>None</td>\n",
              "      <td>30.0</td>\n",
              "      <td>21:21</td>\n",
              "      <td>Urban</td>\n",
              "      <td>Fine no high winds</td>\n",
              "      <td>2010</td>\n",
              "      <td>No</td>\n",
              "      <td>21 - 25</td>\n",
              "      <td>7.0</td>\n",
              "      <td>Urban area</td>\n",
              "      <td>3.0</td>\n",
              "      <td>1998.0</td>\n",
              "      <td>None</td>\n",
              "      <td>None</td>\n",
              "      <td>Other/Not known (2005-10)</td>\n",
              "      <td>Mid Junction - on roundabout or on main road</td>\n",
              "      <td>NISSAN</td>\n",
              "      <td>PRIMERA SVE CVT</td>\n",
              "      <td>Petrol</td>\n",
              "      <td>Female</td>\n",
              "      <td>None</td>\n",
              "      <td>No tow/articulation</td>\n",
              "      <td>Did not leave carriageway</td>\n",
              "      <td>0.0</td>\n",
              "      <td>Going ahead right-hand bend</td>\n",
              "      <td>1</td>\n",
              "      <td>Car</td>\n",
              "      <td>No</td>\n",
              "      <td>Nearside</td>\n",
              "      <td>2010</td>\n",
              "    </tr>\n",
              "    <tr>\n",
              "      <th>4</th>\n",
              "      <td>201001BS70007</td>\n",
              "      <td>Unclassified</td>\n",
              "      <td>0.0</td>\n",
              "      <td>Unclassified</td>\n",
              "      <td>0.0</td>\n",
              "      <td>Slight</td>\n",
              "      <td>None</td>\n",
              "      <td>2010-01-02</td>\n",
              "      <td>Saturday</td>\n",
              "      <td>1.0</td>\n",
              "      <td>Give way or uncontrolled</td>\n",
              "      <td>Mini-roundabout</td>\n",
              "      <td>51.513314</td>\n",
              "      <td>Darkness - lights lit</td>\n",
              "      <td>Kensington and Chelsea</td>\n",
              "      <td>Kensington and Chelsea</td>\n",
              "      <td>525080.0</td>\n",
              "      <td>180920.0</td>\n",
              "      <td>-0.198858</td>\n",
              "      <td>E01002886</td>\n",
              "      <td>1</td>\n",
              "      <td>2</td>\n",
              "      <td>0.0</td>\n",
              "      <td>0.0</td>\n",
              "      <td>Metropolitan Police</td>\n",
              "      <td>Dry</td>\n",
              "      <td>Roundabout</td>\n",
              "      <td>None</td>\n",
              "      <td>30.0</td>\n",
              "      <td>21:21</td>\n",
              "      <td>Urban</td>\n",
              "      <td>Fine no high winds</td>\n",
              "      <td>2010</td>\n",
              "      <td>No</td>\n",
              "      <td>36 - 45</td>\n",
              "      <td>11.0</td>\n",
              "      <td>Rural</td>\n",
              "      <td>9.0</td>\n",
              "      <td>1397.0</td>\n",
              "      <td>None</td>\n",
              "      <td>None</td>\n",
              "      <td>Other/Not known (2005-10)</td>\n",
              "      <td>Mid Junction - on roundabout or on main road</td>\n",
              "      <td>MERCEDES</td>\n",
              "      <td>A140 ELEGANCE</td>\n",
              "      <td>Petrol</td>\n",
              "      <td>Female</td>\n",
              "      <td>None</td>\n",
              "      <td>No tow/articulation</td>\n",
              "      <td>Did not leave carriageway</td>\n",
              "      <td>0.0</td>\n",
              "      <td>Going ahead other</td>\n",
              "      <td>2</td>\n",
              "      <td>Car</td>\n",
              "      <td>No</td>\n",
              "      <td>Front</td>\n",
              "      <td>2010</td>\n",
              "    </tr>\n",
              "  </tbody>\n",
              "</table>\n",
              "</div>"
            ],
            "text/plain": [
              "  Accident_Index 1st_Road_Class  ...  X1st_Point_of_Impact Year_y\n",
              "0  201001BS70003              B  ...                 Front   2010\n",
              "1  201001BS70004              A  ...                 Front   2010\n",
              "2  201001BS70006              A  ...              Nearside   2010\n",
              "3  201001BS70007   Unclassified  ...              Nearside   2010\n",
              "4  201001BS70007   Unclassified  ...                 Front   2010\n",
              "\n",
              "[5 rows x 57 columns]"
            ]
          },
          "metadata": {
            "tags": []
          },
          "execution_count": 13
        }
      ]
    },
    {
      "cell_type": "code",
      "metadata": {
        "colab": {
          "base_uri": "https://localhost:8080/"
        },
        "id": "Wjv6XL-QDVqu",
        "outputId": "f4943341-202d-4431-8c7d-de820c29c0e0"
      },
      "source": [
        "df[\"Age_Band_of_Driver\"].value_counts()"
      ],
      "execution_count": null,
      "outputs": [
        {
          "output_type": "execute_result",
          "data": {
            "text/plain": [
              "26 - 35                         287933\n",
              "36 - 45                         262069\n",
              "46 - 55                         228923\n",
              "21 - 25                         157307\n",
              "56 - 65                         131654\n",
              "Data missing or out of range    117838\n",
              "16 - 20                         107870\n",
              "66 - 75                          62744\n",
              "Over 75                          38475\n",
              "11 - 15                           3301\n",
              "6 - 10                             863\n",
              "0 - 5                              123\n",
              "Name: Age_Band_of_Driver, dtype: int64"
            ]
          },
          "metadata": {
            "tags": []
          },
          "execution_count": 14
        }
      ]
    },
    {
      "cell_type": "code",
      "metadata": {
        "colab": {
          "base_uri": "https://localhost:8080/"
        },
        "id": "uyh0OsXLDVtf",
        "outputId": "f628d0ed-f496-47af-d556-dcad91d38eea"
      },
      "source": [
        "df.isnull().sum().sort_values(ascending=False)/df.shape[0]*100"
      ],
      "execution_count": null,
      "outputs": [
        {
          "output_type": "execute_result",
          "data": {
            "text/plain": [
              "2nd_Road_Class                                 39.761204\n",
              "Driver_IMD_Decile                              36.904081\n",
              "Age_of_Vehicle                                 17.600172\n",
              "model                                          14.015653\n",
              "Engine_Capacity_.CC.                           13.658566\n",
              "Propulsion_Code                                13.251019\n",
              "make                                            7.920949\n",
              "LSOA_of_Accident_Location                       6.325709\n",
              "2nd_Road_Number                                 0.816668\n",
              "Pedestrian_Crossing-Physical_Facilities         0.096133\n",
              "Vehicle_Location.Restricted_Lane                0.079337\n",
              "Pedestrian_Crossing-Human_Control               0.045243\n",
              "Time                                            0.005361\n",
              "Speed_limit                                     0.004646\n",
              "Did_Police_Officer_Attend_Scene_of_Accident     0.001215\n",
              "Junction_Control                                0.000000\n",
              "Number_of_Vehicles                              0.000000\n",
              "Number_of_Casualties                            0.000000\n",
              "1st_Road_Class                                  0.000000\n",
              "1st_Road_Number                                 0.000000\n",
              "Longitude                                       0.000000\n",
              "Location_Northing_OSGR                          0.000000\n",
              "Location_Easting_OSGR                           0.000000\n",
              "Local_Authority_(Highway)                       0.000000\n",
              "Local_Authority_(District)                      0.000000\n",
              "Accident_Severity                               0.000000\n",
              "Light_Conditions                                0.000000\n",
              "Carriageway_Hazards                             0.000000\n",
              "Date                                            0.000000\n",
              "Latitude                                        0.000000\n",
              "Day_of_Week                                     0.000000\n",
              "Junction_Detail                                 0.000000\n",
              "Year_y                                          0.000000\n",
              "Police_Force                                    0.000000\n",
              "Road_Surface_Conditions                         0.000000\n",
              "Was_Vehicle_Left_Hand_Drive                     0.000000\n",
              "Vehicle_Type                                    0.000000\n",
              "Vehicle_Reference                               0.000000\n",
              "Vehicle_Manoeuvre                               0.000000\n",
              "Vehicle_Leaving_Carriageway                     0.000000\n",
              "Towing_and_Articulation                         0.000000\n",
              "Skidding_and_Overturning                        0.000000\n",
              "Sex_of_Driver                                   0.000000\n",
              "Junction_Location                               0.000000\n",
              "Journey_Purpose_of_Driver                       0.000000\n",
              "Hit_Object_off_Carriageway                      0.000000\n",
              "Hit_Object_in_Carriageway                       0.000000\n",
              "Driver_Home_Area_Type                           0.000000\n",
              "Age_Band_of_Driver                              0.000000\n",
              "InScotland                                      0.000000\n",
              "Year_x                                          0.000000\n",
              "Weather_Conditions                              0.000000\n",
              "Urban_or_Rural_Area                             0.000000\n",
              "X1st_Point_of_Impact                            0.000000\n",
              "Special_Conditions_at_Site                      0.000000\n",
              "Road_Type                                       0.000000\n",
              "Accident_Index                                  0.000000\n",
              "dtype: float64"
            ]
          },
          "metadata": {
            "tags": []
          },
          "execution_count": 15
        }
      ]
    },
    {
      "cell_type": "code",
      "metadata": {
        "colab": {
          "base_uri": "https://localhost:8080/",
          "height": 444
        },
        "id": "hxNL1nXiDVv_",
        "outputId": "37bde3a4-6dc4-4918-d331-ff77a77155d9"
      },
      "source": [
        "df.describe(include ='all')"
      ],
      "execution_count": null,
      "outputs": [
        {
          "output_type": "execute_result",
          "data": {
            "text/html": [
              "<div>\n",
              "<style scoped>\n",
              "    .dataframe tbody tr th:only-of-type {\n",
              "        vertical-align: middle;\n",
              "    }\n",
              "\n",
              "    .dataframe tbody tr th {\n",
              "        vertical-align: top;\n",
              "    }\n",
              "\n",
              "    .dataframe thead th {\n",
              "        text-align: right;\n",
              "    }\n",
              "</style>\n",
              "<table border=\"1\" class=\"dataframe\">\n",
              "  <thead>\n",
              "    <tr style=\"text-align: right;\">\n",
              "      <th></th>\n",
              "      <th>Accident_Index</th>\n",
              "      <th>1st_Road_Class</th>\n",
              "      <th>1st_Road_Number</th>\n",
              "      <th>2nd_Road_Class</th>\n",
              "      <th>2nd_Road_Number</th>\n",
              "      <th>Accident_Severity</th>\n",
              "      <th>Carriageway_Hazards</th>\n",
              "      <th>Date</th>\n",
              "      <th>Day_of_Week</th>\n",
              "      <th>Did_Police_Officer_Attend_Scene_of_Accident</th>\n",
              "      <th>Junction_Control</th>\n",
              "      <th>Junction_Detail</th>\n",
              "      <th>Latitude</th>\n",
              "      <th>Light_Conditions</th>\n",
              "      <th>Local_Authority_(District)</th>\n",
              "      <th>Local_Authority_(Highway)</th>\n",
              "      <th>Location_Easting_OSGR</th>\n",
              "      <th>Location_Northing_OSGR</th>\n",
              "      <th>Longitude</th>\n",
              "      <th>LSOA_of_Accident_Location</th>\n",
              "      <th>Number_of_Casualties</th>\n",
              "      <th>Number_of_Vehicles</th>\n",
              "      <th>Pedestrian_Crossing-Human_Control</th>\n",
              "      <th>Pedestrian_Crossing-Physical_Facilities</th>\n",
              "      <th>Police_Force</th>\n",
              "      <th>Road_Surface_Conditions</th>\n",
              "      <th>Road_Type</th>\n",
              "      <th>Special_Conditions_at_Site</th>\n",
              "      <th>Speed_limit</th>\n",
              "      <th>Time</th>\n",
              "      <th>Urban_or_Rural_Area</th>\n",
              "      <th>Weather_Conditions</th>\n",
              "      <th>Year_x</th>\n",
              "      <th>InScotland</th>\n",
              "      <th>Age_Band_of_Driver</th>\n",
              "      <th>Age_of_Vehicle</th>\n",
              "      <th>Driver_Home_Area_Type</th>\n",
              "      <th>Driver_IMD_Decile</th>\n",
              "      <th>Engine_Capacity_.CC.</th>\n",
              "      <th>Hit_Object_in_Carriageway</th>\n",
              "      <th>Hit_Object_off_Carriageway</th>\n",
              "      <th>Journey_Purpose_of_Driver</th>\n",
              "      <th>Junction_Location</th>\n",
              "      <th>make</th>\n",
              "      <th>model</th>\n",
              "      <th>Propulsion_Code</th>\n",
              "      <th>Sex_of_Driver</th>\n",
              "      <th>Skidding_and_Overturning</th>\n",
              "      <th>Towing_and_Articulation</th>\n",
              "      <th>Vehicle_Leaving_Carriageway</th>\n",
              "      <th>Vehicle_Location.Restricted_Lane</th>\n",
              "      <th>Vehicle_Manoeuvre</th>\n",
              "      <th>Vehicle_Reference</th>\n",
              "      <th>Vehicle_Type</th>\n",
              "      <th>Was_Vehicle_Left_Hand_Drive</th>\n",
              "      <th>X1st_Point_of_Impact</th>\n",
              "      <th>Year_y</th>\n",
              "    </tr>\n",
              "  </thead>\n",
              "  <tbody>\n",
              "    <tr>\n",
              "      <th>count</th>\n",
              "      <td>1399100</td>\n",
              "      <td>1399100</td>\n",
              "      <td>1.399100e+06</td>\n",
              "      <td>842801</td>\n",
              "      <td>1.387674e+06</td>\n",
              "      <td>1399100</td>\n",
              "      <td>1399100</td>\n",
              "      <td>1399100</td>\n",
              "      <td>1399100</td>\n",
              "      <td>1.399083e+06</td>\n",
              "      <td>1399100</td>\n",
              "      <td>1399100</td>\n",
              "      <td>1.399100e+06</td>\n",
              "      <td>1399100</td>\n",
              "      <td>1399100</td>\n",
              "      <td>1399100</td>\n",
              "      <td>1.399100e+06</td>\n",
              "      <td>1.399100e+06</td>\n",
              "      <td>1.399100e+06</td>\n",
              "      <td>1310597</td>\n",
              "      <td>1.399100e+06</td>\n",
              "      <td>1.399100e+06</td>\n",
              "      <td>1.398467e+06</td>\n",
              "      <td>1.397755e+06</td>\n",
              "      <td>1399100</td>\n",
              "      <td>1399100</td>\n",
              "      <td>1399100</td>\n",
              "      <td>1399100</td>\n",
              "      <td>1.399035e+06</td>\n",
              "      <td>1399025</td>\n",
              "      <td>1399100</td>\n",
              "      <td>1399100</td>\n",
              "      <td>1.399100e+06</td>\n",
              "      <td>1399100</td>\n",
              "      <td>1399100</td>\n",
              "      <td>1.152856e+06</td>\n",
              "      <td>1399100</td>\n",
              "      <td>882775.000000</td>\n",
              "      <td>1.208003e+06</td>\n",
              "      <td>1399100</td>\n",
              "      <td>1399100</td>\n",
              "      <td>1399100</td>\n",
              "      <td>1399100</td>\n",
              "      <td>1288278</td>\n",
              "      <td>1203007</td>\n",
              "      <td>1213705</td>\n",
              "      <td>1399100</td>\n",
              "      <td>1399100</td>\n",
              "      <td>1399100</td>\n",
              "      <td>1399100</td>\n",
              "      <td>1.397990e+06</td>\n",
              "      <td>1399100</td>\n",
              "      <td>1.399100e+06</td>\n",
              "      <td>1399100</td>\n",
              "      <td>1399100</td>\n",
              "      <td>1399100</td>\n",
              "      <td>1.399100e+06</td>\n",
              "    </tr>\n",
              "    <tr>\n",
              "      <th>unique</th>\n",
              "      <td>875263</td>\n",
              "      <td>6</td>\n",
              "      <td>NaN</td>\n",
              "      <td>6</td>\n",
              "      <td>NaN</td>\n",
              "      <td>3</td>\n",
              "      <td>7</td>\n",
              "      <td>2557</td>\n",
              "      <td>7</td>\n",
              "      <td>NaN</td>\n",
              "      <td>6</td>\n",
              "      <td>10</td>\n",
              "      <td>NaN</td>\n",
              "      <td>6</td>\n",
              "      <td>380</td>\n",
              "      <td>207</td>\n",
              "      <td>NaN</td>\n",
              "      <td>NaN</td>\n",
              "      <td>NaN</td>\n",
              "      <td>35266</td>\n",
              "      <td>NaN</td>\n",
              "      <td>NaN</td>\n",
              "      <td>NaN</td>\n",
              "      <td>NaN</td>\n",
              "      <td>51</td>\n",
              "      <td>6</td>\n",
              "      <td>6</td>\n",
              "      <td>9</td>\n",
              "      <td>NaN</td>\n",
              "      <td>1439</td>\n",
              "      <td>2</td>\n",
              "      <td>10</td>\n",
              "      <td>NaN</td>\n",
              "      <td>2</td>\n",
              "      <td>12</td>\n",
              "      <td>NaN</td>\n",
              "      <td>4</td>\n",
              "      <td>NaN</td>\n",
              "      <td>NaN</td>\n",
              "      <td>13</td>\n",
              "      <td>13</td>\n",
              "      <td>8</td>\n",
              "      <td>10</td>\n",
              "      <td>473</td>\n",
              "      <td>32815</td>\n",
              "      <td>12</td>\n",
              "      <td>4</td>\n",
              "      <td>7</td>\n",
              "      <td>7</td>\n",
              "      <td>10</td>\n",
              "      <td>NaN</td>\n",
              "      <td>19</td>\n",
              "      <td>NaN</td>\n",
              "      <td>21</td>\n",
              "      <td>3</td>\n",
              "      <td>6</td>\n",
              "      <td>NaN</td>\n",
              "    </tr>\n",
              "    <tr>\n",
              "      <th>top</th>\n",
              "      <td>2013460234852</td>\n",
              "      <td>A</td>\n",
              "      <td>NaN</td>\n",
              "      <td>Unclassified</td>\n",
              "      <td>NaN</td>\n",
              "      <td>Slight</td>\n",
              "      <td>None</td>\n",
              "      <td>2016-11-25</td>\n",
              "      <td>Friday</td>\n",
              "      <td>NaN</td>\n",
              "      <td>Give way or uncontrolled</td>\n",
              "      <td>Not at junction or within 20 metres</td>\n",
              "      <td>NaN</td>\n",
              "      <td>Daylight</td>\n",
              "      <td>Birmingham</td>\n",
              "      <td>Kent</td>\n",
              "      <td>NaN</td>\n",
              "      <td>NaN</td>\n",
              "      <td>NaN</td>\n",
              "      <td>E01032739</td>\n",
              "      <td>NaN</td>\n",
              "      <td>NaN</td>\n",
              "      <td>NaN</td>\n",
              "      <td>NaN</td>\n",
              "      <td>Metropolitan Police</td>\n",
              "      <td>Dry</td>\n",
              "      <td>Single carriageway</td>\n",
              "      <td>None</td>\n",
              "      <td>NaN</td>\n",
              "      <td>17:00</td>\n",
              "      <td>Urban</td>\n",
              "      <td>Fine no high winds</td>\n",
              "      <td>NaN</td>\n",
              "      <td>No</td>\n",
              "      <td>26 - 35</td>\n",
              "      <td>NaN</td>\n",
              "      <td>Urban area</td>\n",
              "      <td>NaN</td>\n",
              "      <td>NaN</td>\n",
              "      <td>None</td>\n",
              "      <td>None</td>\n",
              "      <td>Not known</td>\n",
              "      <td>Not at or within 20 metres of junction</td>\n",
              "      <td>FORD</td>\n",
              "      <td>MISSING</td>\n",
              "      <td>Petrol</td>\n",
              "      <td>Male</td>\n",
              "      <td>None</td>\n",
              "      <td>No tow/articulation</td>\n",
              "      <td>Did not leave carriageway</td>\n",
              "      <td>NaN</td>\n",
              "      <td>Going ahead other</td>\n",
              "      <td>NaN</td>\n",
              "      <td>Car</td>\n",
              "      <td>No</td>\n",
              "      <td>Front</td>\n",
              "      <td>NaN</td>\n",
              "    </tr>\n",
              "    <tr>\n",
              "      <th>freq</th>\n",
              "      <td>53</td>\n",
              "      <td>671384</td>\n",
              "      <td>NaN</td>\n",
              "      <td>568012</td>\n",
              "      <td>NaN</td>\n",
              "      <td>1198760</td>\n",
              "      <td>1375825</td>\n",
              "      <td>1052</td>\n",
              "      <td>231789</td>\n",
              "      <td>NaN</td>\n",
              "      <td>692503</td>\n",
              "      <td>545033</td>\n",
              "      <td>NaN</td>\n",
              "      <td>1046156</td>\n",
              "      <td>26426</td>\n",
              "      <td>43406</td>\n",
              "      <td>NaN</td>\n",
              "      <td>NaN</td>\n",
              "      <td>NaN</td>\n",
              "      <td>1137</td>\n",
              "      <td>NaN</td>\n",
              "      <td>NaN</td>\n",
              "      <td>NaN</td>\n",
              "      <td>NaN</td>\n",
              "      <td>220188</td>\n",
              "      <td>987374</td>\n",
              "      <td>1021322</td>\n",
              "      <td>1365286</td>\n",
              "      <td>NaN</td>\n",
              "      <td>13398</td>\n",
              "      <td>881801</td>\n",
              "      <td>1137992</td>\n",
              "      <td>NaN</td>\n",
              "      <td>1312993</td>\n",
              "      <td>287933</td>\n",
              "      <td>NaN</td>\n",
              "      <td>937464</td>\n",
              "      <td>NaN</td>\n",
              "      <td>NaN</td>\n",
              "      <td>1340588</td>\n",
              "      <td>1282004</td>\n",
              "      <td>834585</td>\n",
              "      <td>545364</td>\n",
              "      <td>165755</td>\n",
              "      <td>11877</td>\n",
              "      <td>704198</td>\n",
              "      <td>923984</td>\n",
              "      <td>1235470</td>\n",
              "      <td>1376607</td>\n",
              "      <td>1239064</td>\n",
              "      <td>NaN</td>\n",
              "      <td>636206</td>\n",
              "      <td>NaN</td>\n",
              "      <td>1047888</td>\n",
              "      <td>1393468</td>\n",
              "      <td>681036</td>\n",
              "      <td>NaN</td>\n",
              "    </tr>\n",
              "    <tr>\n",
              "      <th>mean</th>\n",
              "      <td>NaN</td>\n",
              "      <td>NaN</td>\n",
              "      <td>9.775001e+02</td>\n",
              "      <td>NaN</td>\n",
              "      <td>3.748740e+02</td>\n",
              "      <td>NaN</td>\n",
              "      <td>NaN</td>\n",
              "      <td>NaN</td>\n",
              "      <td>NaN</td>\n",
              "      <td>1.175339e+00</td>\n",
              "      <td>NaN</td>\n",
              "      <td>NaN</td>\n",
              "      <td>5.251939e+01</td>\n",
              "      <td>NaN</td>\n",
              "      <td>NaN</td>\n",
              "      <td>NaN</td>\n",
              "      <td>4.447670e+05</td>\n",
              "      <td>2.924059e+05</td>\n",
              "      <td>-1.361171e+00</td>\n",
              "      <td>NaN</td>\n",
              "      <td>1.445300e+00</td>\n",
              "      <td>2.121557e+00</td>\n",
              "      <td>8.640175e-03</td>\n",
              "      <td>7.675029e-01</td>\n",
              "      <td>NaN</td>\n",
              "      <td>NaN</td>\n",
              "      <td>NaN</td>\n",
              "      <td>NaN</td>\n",
              "      <td>3.936062e+01</td>\n",
              "      <td>NaN</td>\n",
              "      <td>NaN</td>\n",
              "      <td>NaN</td>\n",
              "      <td>2.013271e+03</td>\n",
              "      <td>NaN</td>\n",
              "      <td>NaN</td>\n",
              "      <td>7.608708e+00</td>\n",
              "      <td>NaN</td>\n",
              "      <td>5.371040</td>\n",
              "      <td>1.943540e+03</td>\n",
              "      <td>NaN</td>\n",
              "      <td>NaN</td>\n",
              "      <td>NaN</td>\n",
              "      <td>NaN</td>\n",
              "      <td>NaN</td>\n",
              "      <td>NaN</td>\n",
              "      <td>NaN</td>\n",
              "      <td>NaN</td>\n",
              "      <td>NaN</td>\n",
              "      <td>NaN</td>\n",
              "      <td>NaN</td>\n",
              "      <td>1.114193e-01</td>\n",
              "      <td>NaN</td>\n",
              "      <td>1.549756e+00</td>\n",
              "      <td>NaN</td>\n",
              "      <td>NaN</td>\n",
              "      <td>NaN</td>\n",
              "      <td>2.013271e+03</td>\n",
              "    </tr>\n",
              "    <tr>\n",
              "      <th>std</th>\n",
              "      <td>NaN</td>\n",
              "      <td>NaN</td>\n",
              "      <td>1.781831e+03</td>\n",
              "      <td>NaN</td>\n",
              "      <td>1.286897e+03</td>\n",
              "      <td>NaN</td>\n",
              "      <td>NaN</td>\n",
              "      <td>NaN</td>\n",
              "      <td>NaN</td>\n",
              "      <td>3.878890e-01</td>\n",
              "      <td>NaN</td>\n",
              "      <td>NaN</td>\n",
              "      <td>1.428561e+00</td>\n",
              "      <td>NaN</td>\n",
              "      <td>NaN</td>\n",
              "      <td>NaN</td>\n",
              "      <td>9.483916e+04</td>\n",
              "      <td>1.586293e+05</td>\n",
              "      <td>1.392506e+00</td>\n",
              "      <td>NaN</td>\n",
              "      <td>1.066435e+00</td>\n",
              "      <td>9.773146e-01</td>\n",
              "      <td>1.231836e-01</td>\n",
              "      <td>1.862469e+00</td>\n",
              "      <td>NaN</td>\n",
              "      <td>NaN</td>\n",
              "      <td>NaN</td>\n",
              "      <td>NaN</td>\n",
              "      <td>1.446142e+01</td>\n",
              "      <td>NaN</td>\n",
              "      <td>NaN</td>\n",
              "      <td>NaN</td>\n",
              "      <td>2.054014e+00</td>\n",
              "      <td>NaN</td>\n",
              "      <td>NaN</td>\n",
              "      <td>4.777040e+00</td>\n",
              "      <td>NaN</td>\n",
              "      <td>2.817492</td>\n",
              "      <td>1.749640e+03</td>\n",
              "      <td>NaN</td>\n",
              "      <td>NaN</td>\n",
              "      <td>NaN</td>\n",
              "      <td>NaN</td>\n",
              "      <td>NaN</td>\n",
              "      <td>NaN</td>\n",
              "      <td>NaN</td>\n",
              "      <td>NaN</td>\n",
              "      <td>NaN</td>\n",
              "      <td>NaN</td>\n",
              "      <td>NaN</td>\n",
              "      <td>9.044086e-01</td>\n",
              "      <td>NaN</td>\n",
              "      <td>7.825704e-01</td>\n",
              "      <td>NaN</td>\n",
              "      <td>NaN</td>\n",
              "      <td>NaN</td>\n",
              "      <td>2.054014e+00</td>\n",
              "    </tr>\n",
              "    <tr>\n",
              "      <th>min</th>\n",
              "      <td>NaN</td>\n",
              "      <td>NaN</td>\n",
              "      <td>0.000000e+00</td>\n",
              "      <td>NaN</td>\n",
              "      <td>0.000000e+00</td>\n",
              "      <td>NaN</td>\n",
              "      <td>NaN</td>\n",
              "      <td>NaN</td>\n",
              "      <td>NaN</td>\n",
              "      <td>1.000000e+00</td>\n",
              "      <td>NaN</td>\n",
              "      <td>NaN</td>\n",
              "      <td>4.991294e+01</td>\n",
              "      <td>NaN</td>\n",
              "      <td>NaN</td>\n",
              "      <td>NaN</td>\n",
              "      <td>6.495000e+04</td>\n",
              "      <td>1.029000e+04</td>\n",
              "      <td>-7.516225e+00</td>\n",
              "      <td>NaN</td>\n",
              "      <td>1.000000e+00</td>\n",
              "      <td>1.000000e+00</td>\n",
              "      <td>0.000000e+00</td>\n",
              "      <td>0.000000e+00</td>\n",
              "      <td>NaN</td>\n",
              "      <td>NaN</td>\n",
              "      <td>NaN</td>\n",
              "      <td>NaN</td>\n",
              "      <td>0.000000e+00</td>\n",
              "      <td>NaN</td>\n",
              "      <td>NaN</td>\n",
              "      <td>NaN</td>\n",
              "      <td>2.010000e+03</td>\n",
              "      <td>NaN</td>\n",
              "      <td>NaN</td>\n",
              "      <td>1.000000e+00</td>\n",
              "      <td>NaN</td>\n",
              "      <td>1.000000</td>\n",
              "      <td>2.000000e+00</td>\n",
              "      <td>NaN</td>\n",
              "      <td>NaN</td>\n",
              "      <td>NaN</td>\n",
              "      <td>NaN</td>\n",
              "      <td>NaN</td>\n",
              "      <td>NaN</td>\n",
              "      <td>NaN</td>\n",
              "      <td>NaN</td>\n",
              "      <td>NaN</td>\n",
              "      <td>NaN</td>\n",
              "      <td>NaN</td>\n",
              "      <td>0.000000e+00</td>\n",
              "      <td>NaN</td>\n",
              "      <td>1.000000e+00</td>\n",
              "      <td>NaN</td>\n",
              "      <td>NaN</td>\n",
              "      <td>NaN</td>\n",
              "      <td>2.010000e+03</td>\n",
              "    </tr>\n",
              "    <tr>\n",
              "      <th>25%</th>\n",
              "      <td>NaN</td>\n",
              "      <td>NaN</td>\n",
              "      <td>0.000000e+00</td>\n",
              "      <td>NaN</td>\n",
              "      <td>0.000000e+00</td>\n",
              "      <td>NaN</td>\n",
              "      <td>NaN</td>\n",
              "      <td>NaN</td>\n",
              "      <td>NaN</td>\n",
              "      <td>1.000000e+00</td>\n",
              "      <td>NaN</td>\n",
              "      <td>NaN</td>\n",
              "      <td>5.147627e+01</td>\n",
              "      <td>NaN</td>\n",
              "      <td>NaN</td>\n",
              "      <td>NaN</td>\n",
              "      <td>3.834590e+05</td>\n",
              "      <td>1.767100e+05</td>\n",
              "      <td>-2.248461e+00</td>\n",
              "      <td>NaN</td>\n",
              "      <td>1.000000e+00</td>\n",
              "      <td>2.000000e+00</td>\n",
              "      <td>0.000000e+00</td>\n",
              "      <td>0.000000e+00</td>\n",
              "      <td>NaN</td>\n",
              "      <td>NaN</td>\n",
              "      <td>NaN</td>\n",
              "      <td>NaN</td>\n",
              "      <td>3.000000e+01</td>\n",
              "      <td>NaN</td>\n",
              "      <td>NaN</td>\n",
              "      <td>NaN</td>\n",
              "      <td>2.011000e+03</td>\n",
              "      <td>NaN</td>\n",
              "      <td>NaN</td>\n",
              "      <td>4.000000e+00</td>\n",
              "      <td>NaN</td>\n",
              "      <td>3.000000</td>\n",
              "      <td>1.298000e+03</td>\n",
              "      <td>NaN</td>\n",
              "      <td>NaN</td>\n",
              "      <td>NaN</td>\n",
              "      <td>NaN</td>\n",
              "      <td>NaN</td>\n",
              "      <td>NaN</td>\n",
              "      <td>NaN</td>\n",
              "      <td>NaN</td>\n",
              "      <td>NaN</td>\n",
              "      <td>NaN</td>\n",
              "      <td>NaN</td>\n",
              "      <td>0.000000e+00</td>\n",
              "      <td>NaN</td>\n",
              "      <td>1.000000e+00</td>\n",
              "      <td>NaN</td>\n",
              "      <td>NaN</td>\n",
              "      <td>NaN</td>\n",
              "      <td>2.011000e+03</td>\n",
              "    </tr>\n",
              "    <tr>\n",
              "      <th>50%</th>\n",
              "      <td>NaN</td>\n",
              "      <td>NaN</td>\n",
              "      <td>1.250000e+02</td>\n",
              "      <td>NaN</td>\n",
              "      <td>0.000000e+00</td>\n",
              "      <td>NaN</td>\n",
              "      <td>NaN</td>\n",
              "      <td>NaN</td>\n",
              "      <td>NaN</td>\n",
              "      <td>1.000000e+00</td>\n",
              "      <td>NaN</td>\n",
              "      <td>NaN</td>\n",
              "      <td>5.212393e+01</td>\n",
              "      <td>NaN</td>\n",
              "      <td>NaN</td>\n",
              "      <td>NaN</td>\n",
              "      <td>4.474650e+05</td>\n",
              "      <td>2.487830e+05</td>\n",
              "      <td>-1.299891e+00</td>\n",
              "      <td>NaN</td>\n",
              "      <td>1.000000e+00</td>\n",
              "      <td>2.000000e+00</td>\n",
              "      <td>0.000000e+00</td>\n",
              "      <td>0.000000e+00</td>\n",
              "      <td>NaN</td>\n",
              "      <td>NaN</td>\n",
              "      <td>NaN</td>\n",
              "      <td>NaN</td>\n",
              "      <td>3.000000e+01</td>\n",
              "      <td>NaN</td>\n",
              "      <td>NaN</td>\n",
              "      <td>NaN</td>\n",
              "      <td>2.013000e+03</td>\n",
              "      <td>NaN</td>\n",
              "      <td>NaN</td>\n",
              "      <td>7.000000e+00</td>\n",
              "      <td>NaN</td>\n",
              "      <td>5.000000</td>\n",
              "      <td>1.598000e+03</td>\n",
              "      <td>NaN</td>\n",
              "      <td>NaN</td>\n",
              "      <td>NaN</td>\n",
              "      <td>NaN</td>\n",
              "      <td>NaN</td>\n",
              "      <td>NaN</td>\n",
              "      <td>NaN</td>\n",
              "      <td>NaN</td>\n",
              "      <td>NaN</td>\n",
              "      <td>NaN</td>\n",
              "      <td>NaN</td>\n",
              "      <td>0.000000e+00</td>\n",
              "      <td>NaN</td>\n",
              "      <td>1.000000e+00</td>\n",
              "      <td>NaN</td>\n",
              "      <td>NaN</td>\n",
              "      <td>NaN</td>\n",
              "      <td>2.013000e+03</td>\n",
              "    </tr>\n",
              "    <tr>\n",
              "      <th>75%</th>\n",
              "      <td>NaN</td>\n",
              "      <td>NaN</td>\n",
              "      <td>6.910000e+02</td>\n",
              "      <td>NaN</td>\n",
              "      <td>0.000000e+00</td>\n",
              "      <td>NaN</td>\n",
              "      <td>NaN</td>\n",
              "      <td>NaN</td>\n",
              "      <td>NaN</td>\n",
              "      <td>1.000000e+00</td>\n",
              "      <td>NaN</td>\n",
              "      <td>NaN</td>\n",
              "      <td>5.343232e+01</td>\n",
              "      <td>NaN</td>\n",
              "      <td>NaN</td>\n",
              "      <td>NaN</td>\n",
              "      <td>5.251800e+05</td>\n",
              "      <td>3.930872e+05</td>\n",
              "      <td>-1.951900e-01</td>\n",
              "      <td>NaN</td>\n",
              "      <td>2.000000e+00</td>\n",
              "      <td>2.000000e+00</td>\n",
              "      <td>0.000000e+00</td>\n",
              "      <td>0.000000e+00</td>\n",
              "      <td>NaN</td>\n",
              "      <td>NaN</td>\n",
              "      <td>NaN</td>\n",
              "      <td>NaN</td>\n",
              "      <td>5.000000e+01</td>\n",
              "      <td>NaN</td>\n",
              "      <td>NaN</td>\n",
              "      <td>NaN</td>\n",
              "      <td>2.015000e+03</td>\n",
              "      <td>NaN</td>\n",
              "      <td>NaN</td>\n",
              "      <td>1.100000e+01</td>\n",
              "      <td>NaN</td>\n",
              "      <td>8.000000</td>\n",
              "      <td>1.995000e+03</td>\n",
              "      <td>NaN</td>\n",
              "      <td>NaN</td>\n",
              "      <td>NaN</td>\n",
              "      <td>NaN</td>\n",
              "      <td>NaN</td>\n",
              "      <td>NaN</td>\n",
              "      <td>NaN</td>\n",
              "      <td>NaN</td>\n",
              "      <td>NaN</td>\n",
              "      <td>NaN</td>\n",
              "      <td>NaN</td>\n",
              "      <td>0.000000e+00</td>\n",
              "      <td>NaN</td>\n",
              "      <td>2.000000e+00</td>\n",
              "      <td>NaN</td>\n",
              "      <td>NaN</td>\n",
              "      <td>NaN</td>\n",
              "      <td>2.015000e+03</td>\n",
              "    </tr>\n",
              "    <tr>\n",
              "      <th>max</th>\n",
              "      <td>NaN</td>\n",
              "      <td>NaN</td>\n",
              "      <td>9.999000e+03</td>\n",
              "      <td>NaN</td>\n",
              "      <td>9.999000e+03</td>\n",
              "      <td>NaN</td>\n",
              "      <td>NaN</td>\n",
              "      <td>NaN</td>\n",
              "      <td>NaN</td>\n",
              "      <td>3.000000e+00</td>\n",
              "      <td>NaN</td>\n",
              "      <td>NaN</td>\n",
              "      <td>6.066204e+01</td>\n",
              "      <td>NaN</td>\n",
              "      <td>NaN</td>\n",
              "      <td>NaN</td>\n",
              "      <td>6.553700e+05</td>\n",
              "      <td>1.198000e+06</td>\n",
              "      <td>1.759382e+00</td>\n",
              "      <td>NaN</td>\n",
              "      <td>9.300000e+01</td>\n",
              "      <td>6.700000e+01</td>\n",
              "      <td>2.000000e+00</td>\n",
              "      <td>8.000000e+00</td>\n",
              "      <td>NaN</td>\n",
              "      <td>NaN</td>\n",
              "      <td>NaN</td>\n",
              "      <td>NaN</td>\n",
              "      <td>7.000000e+01</td>\n",
              "      <td>NaN</td>\n",
              "      <td>NaN</td>\n",
              "      <td>NaN</td>\n",
              "      <td>2.016000e+03</td>\n",
              "      <td>NaN</td>\n",
              "      <td>NaN</td>\n",
              "      <td>1.110000e+02</td>\n",
              "      <td>NaN</td>\n",
              "      <td>10.000000</td>\n",
              "      <td>9.100000e+04</td>\n",
              "      <td>NaN</td>\n",
              "      <td>NaN</td>\n",
              "      <td>NaN</td>\n",
              "      <td>NaN</td>\n",
              "      <td>NaN</td>\n",
              "      <td>NaN</td>\n",
              "      <td>NaN</td>\n",
              "      <td>NaN</td>\n",
              "      <td>NaN</td>\n",
              "      <td>NaN</td>\n",
              "      <td>NaN</td>\n",
              "      <td>9.000000e+00</td>\n",
              "      <td>NaN</td>\n",
              "      <td>9.100000e+01</td>\n",
              "      <td>NaN</td>\n",
              "      <td>NaN</td>\n",
              "      <td>NaN</td>\n",
              "      <td>2.016000e+03</td>\n",
              "    </tr>\n",
              "  </tbody>\n",
              "</table>\n",
              "</div>"
            ],
            "text/plain": [
              "       Accident_Index 1st_Road_Class  ...  X1st_Point_of_Impact        Year_y\n",
              "count         1399100        1399100  ...               1399100  1.399100e+06\n",
              "unique         875263              6  ...                     6           NaN\n",
              "top     2013460234852              A  ...                 Front           NaN\n",
              "freq               53         671384  ...                681036           NaN\n",
              "mean              NaN            NaN  ...                   NaN  2.013271e+03\n",
              "std               NaN            NaN  ...                   NaN  2.054014e+00\n",
              "min               NaN            NaN  ...                   NaN  2.010000e+03\n",
              "25%               NaN            NaN  ...                   NaN  2.011000e+03\n",
              "50%               NaN            NaN  ...                   NaN  2.013000e+03\n",
              "75%               NaN            NaN  ...                   NaN  2.015000e+03\n",
              "max               NaN            NaN  ...                   NaN  2.016000e+03\n",
              "\n",
              "[11 rows x 57 columns]"
            ]
          },
          "metadata": {
            "tags": []
          },
          "execution_count": 16
        }
      ]
    },
    {
      "cell_type": "code",
      "metadata": {
        "colab": {
          "base_uri": "https://localhost:8080/"
        },
        "id": "9jMFSiWEDVyc",
        "outputId": "37c885d3-943e-4772-b3fa-46ee65a8618d"
      },
      "source": [
        "df.info()  "
      ],
      "execution_count": null,
      "outputs": [
        {
          "output_type": "stream",
          "text": [
            "<class 'pandas.core.frame.DataFrame'>\n",
            "Int64Index: 1399100 entries, 0 to 1399099\n",
            "Data columns (total 57 columns):\n",
            " #   Column                                       Non-Null Count    Dtype  \n",
            "---  ------                                       --------------    -----  \n",
            " 0   Accident_Index                               1399100 non-null  object \n",
            " 1   1st_Road_Class                               1399100 non-null  object \n",
            " 2   1st_Road_Number                              1399100 non-null  float64\n",
            " 3   2nd_Road_Class                               842801 non-null   object \n",
            " 4   2nd_Road_Number                              1387674 non-null  float64\n",
            " 5   Accident_Severity                            1399100 non-null  object \n",
            " 6   Carriageway_Hazards                          1399100 non-null  object \n",
            " 7   Date                                         1399100 non-null  object \n",
            " 8   Day_of_Week                                  1399100 non-null  object \n",
            " 9   Did_Police_Officer_Attend_Scene_of_Accident  1399083 non-null  float64\n",
            " 10  Junction_Control                             1399100 non-null  object \n",
            " 11  Junction_Detail                              1399100 non-null  object \n",
            " 12  Latitude                                     1399100 non-null  float64\n",
            " 13  Light_Conditions                             1399100 non-null  object \n",
            " 14  Local_Authority_(District)                   1399100 non-null  object \n",
            " 15  Local_Authority_(Highway)                    1399100 non-null  object \n",
            " 16  Location_Easting_OSGR                        1399100 non-null  float64\n",
            " 17  Location_Northing_OSGR                       1399100 non-null  float64\n",
            " 18  Longitude                                    1399100 non-null  float64\n",
            " 19  LSOA_of_Accident_Location                    1310597 non-null  object \n",
            " 20  Number_of_Casualties                         1399100 non-null  int64  \n",
            " 21  Number_of_Vehicles                           1399100 non-null  int64  \n",
            " 22  Pedestrian_Crossing-Human_Control            1398467 non-null  float64\n",
            " 23  Pedestrian_Crossing-Physical_Facilities      1397755 non-null  float64\n",
            " 24  Police_Force                                 1399100 non-null  object \n",
            " 25  Road_Surface_Conditions                      1399100 non-null  object \n",
            " 26  Road_Type                                    1399100 non-null  object \n",
            " 27  Special_Conditions_at_Site                   1399100 non-null  object \n",
            " 28  Speed_limit                                  1399035 non-null  float64\n",
            " 29  Time                                         1399025 non-null  object \n",
            " 30  Urban_or_Rural_Area                          1399100 non-null  object \n",
            " 31  Weather_Conditions                           1399100 non-null  object \n",
            " 32  Year_x                                       1399100 non-null  int64  \n",
            " 33  InScotland                                   1399100 non-null  object \n",
            " 34  Age_Band_of_Driver                           1399100 non-null  object \n",
            " 35  Age_of_Vehicle                               1152856 non-null  float64\n",
            " 36  Driver_Home_Area_Type                        1399100 non-null  object \n",
            " 37  Driver_IMD_Decile                            882775 non-null   float64\n",
            " 38  Engine_Capacity_.CC.                         1208003 non-null  float64\n",
            " 39  Hit_Object_in_Carriageway                    1399100 non-null  object \n",
            " 40  Hit_Object_off_Carriageway                   1399100 non-null  object \n",
            " 41  Journey_Purpose_of_Driver                    1399100 non-null  object \n",
            " 42  Junction_Location                            1399100 non-null  object \n",
            " 43  make                                         1288278 non-null  object \n",
            " 44  model                                        1203007 non-null  object \n",
            " 45  Propulsion_Code                              1213705 non-null  object \n",
            " 46  Sex_of_Driver                                1399100 non-null  object \n",
            " 47  Skidding_and_Overturning                     1399100 non-null  object \n",
            " 48  Towing_and_Articulation                      1399100 non-null  object \n",
            " 49  Vehicle_Leaving_Carriageway                  1399100 non-null  object \n",
            " 50  Vehicle_Location.Restricted_Lane             1397990 non-null  float64\n",
            " 51  Vehicle_Manoeuvre                            1399100 non-null  object \n",
            " 52  Vehicle_Reference                            1399100 non-null  int64  \n",
            " 53  Vehicle_Type                                 1399100 non-null  object \n",
            " 54  Was_Vehicle_Left_Hand_Drive                  1399100 non-null  object \n",
            " 55  X1st_Point_of_Impact                         1399100 non-null  object \n",
            " 56  Year_y                                       1399100 non-null  int64  \n",
            "dtypes: float64(14), int64(5), object(38)\n",
            "memory usage: 619.1+ MB\n"
          ],
          "name": "stdout"
        }
      ]
    },
    {
      "cell_type": "code",
      "metadata": {
        "colab": {
          "base_uri": "https://localhost:8080/"
        },
        "id": "Ez4HtyXpIeXk",
        "outputId": "46642f77-1107-4ae7-a60a-a50a8ebefed2"
      },
      "source": [
        "max(df['2nd_Road_Class'].value_counts())"
      ],
      "execution_count": null,
      "outputs": [
        {
          "output_type": "execute_result",
          "data": {
            "text/plain": [
              "568012"
            ]
          },
          "metadata": {
            "tags": []
          },
          "execution_count": 18
        }
      ]
    },
    {
      "cell_type": "code",
      "metadata": {
        "colab": {
          "base_uri": "https://localhost:8080/"
        },
        "id": "WKWFkkEAIyTk",
        "outputId": "ad545df7-b16c-40e0-f13e-ca03c5de4591"
      },
      "source": [
        "(max(df['2nd_Road_Class'].value_counts())/df['2nd_Road_Class'].shape[0])*100"
      ],
      "execution_count": null,
      "outputs": [
        {
          "output_type": "execute_result",
          "data": {
            "text/plain": [
              "40.59838467586305"
            ]
          },
          "metadata": {
            "tags": []
          },
          "execution_count": 19
        }
      ]
    },
    {
      "cell_type": "markdown",
      "metadata": {
        "id": "ioIH2mljKC7c"
      },
      "source": [
        "As we are havin more that 40% of data in unclassified data I'm droping this feature"
      ]
    },
    {
      "cell_type": "code",
      "metadata": {
        "id": "UPAoODk2JS8f"
      },
      "source": [
        "df.drop(\"2nd_Road_Class\", axis = 1, inplace=True)"
      ],
      "execution_count": null,
      "outputs": []
    },
    {
      "cell_type": "code",
      "metadata": {
        "colab": {
          "base_uri": "https://localhost:8080/"
        },
        "id": "LYrrePOEJu-e",
        "outputId": "cd43df95-6092-4b92-c715-6e9eb4fd57cf"
      },
      "source": [
        "#check corr b/t Location_Easting_OSGR & Location_Northing_OSGR AND Longitude and Latitude\n",
        "\n",
        "print(df['Location_Easting_OSGR'].corr(df['Longitude']))\n",
        "print(df['Location_Northing_OSGR'].corr(df['Latitude']))"
      ],
      "execution_count": null,
      "outputs": [
        {
          "output_type": "stream",
          "text": [
            "0.9993766439630065\n",
            "0.9999725836579388\n"
          ],
          "name": "stdout"
        }
      ]
    },
    {
      "cell_type": "markdown",
      "metadata": {
        "id": "JSQbVnYjKH_i"
      },
      "source": [
        "There is high correlation bw these feature. so i'm droping these feature also to reduce the curse of dimentinallity"
      ]
    },
    {
      "cell_type": "code",
      "metadata": {
        "id": "WoQHiBSfJvBT"
      },
      "source": [
        "df.drop(['Longitude', 'Latitude'], axis = 1, inplace = True)"
      ],
      "execution_count": null,
      "outputs": []
    },
    {
      "cell_type": "code",
      "metadata": {
        "colab": {
          "base_uri": "https://localhost:8080/"
        },
        "id": "lpDzDJriKgjl",
        "outputId": "46b88050-a1c7-4a7e-a689-b180e30b363d"
      },
      "source": [
        "df.shape"
      ],
      "execution_count": null,
      "outputs": [
        {
          "output_type": "execute_result",
          "data": {
            "text/plain": [
              "(1399100, 54)"
            ]
          },
          "metadata": {
            "tags": []
          },
          "execution_count": 23
        }
      ]
    },
    {
      "cell_type": "code",
      "metadata": {
        "id": "FjOulSXoKi_8"
      },
      "source": [
        "df.columns = map(str.lower, df.columns)\n",
        "df.columns = df.columns.str.replace('.','')\n",
        "df.columns = df.columns.str.replace('(','')\n",
        "df.columns = df.columns.str.replace(')','')"
      ],
      "execution_count": null,
      "outputs": []
    },
    {
      "cell_type": "code",
      "metadata": {
        "id": "_RH0irnLKmHe"
      },
      "source": [
        "df['date'] = pd.to_datetime((df['date']), format= \"%Y-%m-%d\")"
      ],
      "execution_count": null,
      "outputs": []
    },
    {
      "cell_type": "code",
      "metadata": {
        "colab": {
          "base_uri": "https://localhost:8080/"
        },
        "id": "jJP6htB3KtJ7",
        "outputId": "36aa0826-76df-455c-db0b-ab8138d70068"
      },
      "source": [
        "df.columns.to_series().groupby(df.dtypes).groups"
      ],
      "execution_count": null,
      "outputs": [
        {
          "output_type": "execute_result",
          "data": {
            "text/plain": [
              "{float64: ['1st_road_number', '2nd_road_number', 'did_police_officer_attend_scene_of_accident', 'location_easting_osgr', 'location_northing_osgr', 'pedestrian_crossing-human_control', 'pedestrian_crossing-physical_facilities', 'speed_limit', 'age_of_vehicle', 'driver_imd_decile', 'engine_capacity_cc', 'vehicle_locationrestricted_lane'], datetime64[ns]: ['date'], int64: ['number_of_casualties', 'number_of_vehicles', 'year_x', 'vehicle_reference', 'year_y'], object: ['accident_index', '1st_road_class', 'accident_severity', 'carriageway_hazards', 'day_of_week', 'junction_control', 'junction_detail', 'light_conditions', 'local_authority_district', 'local_authority_highway', 'lsoa_of_accident_location', 'police_force', 'road_surface_conditions', 'road_type', 'special_conditions_at_site', 'time', 'urban_or_rural_area', 'weather_conditions', 'inscotland', 'age_band_of_driver', 'driver_home_area_type', 'hit_object_in_carriageway', 'hit_object_off_carriageway', 'journey_purpose_of_driver', 'junction_location', 'make', 'model', 'propulsion_code', 'sex_of_driver', 'skidding_and_overturning', 'towing_and_articulation', 'vehicle_leaving_carriageway', 'vehicle_manoeuvre', 'vehicle_type', 'was_vehicle_left_hand_drive', 'x1st_point_of_impact']}"
            ]
          },
          "metadata": {
            "tags": []
          },
          "execution_count": 26
        }
      ]
    },
    {
      "cell_type": "markdown",
      "metadata": {
        "id": "0YrSRWnNLRma"
      },
      "source": [
        "{float64: ['1st_road_number', '2nd_road_number', 'did_police_officer_attend_scene_of_accident', 'location_easting_osgr', 'location_northing_osgr', 'pedestrian_crossing-human_control', 'pedestrian_crossing-physical_facilities', 'speed_limit', 'age_of_vehicle', 'driver_imd_decile', 'engine_capacity_cc', 'vehicle_locationrestricted_lane'], \n",
        "\n",
        "datetime64[ns]: ['date'], \n",
        "\n",
        "int64: ['number_of_casualties', 'number_of_vehicles', 'year_x', 'vehicle_reference', 'year_y'], \n",
        "\n",
        "object: ['accident_index', '1st_road_class', 'accident_severity', 'carriageway_hazards', 'day_of_week', 'junction_control', 'junction_detail', 'light_conditions', 'local_authority_district', 'local_authority_highway', 'lsoa_of_accident_location', 'police_force', 'road_surface_conditions', 'road_type', 'special_conditions_at_site', 'time', 'urban_or_rural_area', 'weather_conditions', 'inscotland', 'age_band_of_driver', 'driver_home_area_type', 'hit_object_in_carriageway', 'hit_object_off_carriageway', 'journey_purpose_of_driver', 'junction_location', 'make', 'model', 'propulsion_code', 'sex_of_driver', 'skidding_and_overturning', 'towing_and_articulation', 'vehicle_leaving_carriageway', 'vehicle_manoeuvre', 'vehicle_type', 'was_vehicle_left_hand_drive', 'x1st_point_of_impact']}"
      ]
    },
    {
      "cell_type": "code",
      "metadata": {
        "id": "e0fbPrSuKtMb"
      },
      "source": [
        "df[['did_police_officer_attend_scene_of_accident',\n",
        "    'driver_imd_decile','vehicle_reference',\n",
        "    'vehicle_locationrestricted_lane','1st_road_number',\n",
        "    '2nd_road_number','driver_imd_decile',\n",
        "    'pedestrian_crossing-physical_facilities',\n",
        "   'pedestrian_crossing-human_control']]= df[['did_police_officer_attend_scene_of_accident',\n",
        "    'driver_imd_decile','vehicle_reference',\n",
        "    'vehicle_locationrestricted_lane','1st_road_number',\n",
        "    '2nd_road_number','driver_imd_decile',\n",
        "    'pedestrian_crossing-physical_facilities',\n",
        "   'pedestrian_crossing-human_control']].astype('object')"
      ],
      "execution_count": null,
      "outputs": []
    },
    {
      "cell_type": "code",
      "metadata": {
        "colab": {
          "base_uri": "https://localhost:8080/"
        },
        "id": "uRx_gSqQLrdD",
        "outputId": "2109e473-e40f-4f8e-e24d-26631f750ae6"
      },
      "source": [
        "df['driver_imd_decile'].value_counts()"
      ],
      "execution_count": null,
      "outputs": [
        {
          "output_type": "execute_result",
          "data": {
            "text/plain": [
              "3.0     93601\n",
              "4.0     93214\n",
              "2.0     92998\n",
              "5.0     92621\n",
              "6.0     91494\n",
              "7.0     87673\n",
              "1.0     86861\n",
              "8.0     85444\n",
              "9.0     83118\n",
              "10.0    75751\n",
              "Name: driver_imd_decile, dtype: int64"
            ]
          },
          "metadata": {
            "tags": []
          },
          "execution_count": 28
        }
      ]
    },
    {
      "cell_type": "code",
      "metadata": {
        "colab": {
          "base_uri": "https://localhost:8080/"
        },
        "id": "4gnJatTMLsSz",
        "outputId": "dcb146bb-7989-4dc3-ca99-b23106c17a4e"
      },
      "source": [
        "df['age_of_vehicle'].describe()"
      ],
      "execution_count": null,
      "outputs": [
        {
          "output_type": "execute_result",
          "data": {
            "text/plain": [
              "count    1.152856e+06\n",
              "mean     7.608708e+00\n",
              "std      4.777040e+00\n",
              "min      1.000000e+00\n",
              "25%      4.000000e+00\n",
              "50%      7.000000e+00\n",
              "75%      1.100000e+01\n",
              "max      1.110000e+02\n",
              "Name: age_of_vehicle, dtype: float64"
            ]
          },
          "metadata": {
            "tags": []
          },
          "execution_count": 29
        }
      ]
    },
    {
      "cell_type": "code",
      "metadata": {
        "colab": {
          "base_uri": "https://localhost:8080/"
        },
        "id": "G5q2BK3ILsVT",
        "outputId": "719da285-18c4-48f3-eb03-f26028a70ca1"
      },
      "source": [
        "df['age_of_vehicle'].isna().sum()"
      ],
      "execution_count": null,
      "outputs": [
        {
          "output_type": "execute_result",
          "data": {
            "text/plain": [
              "246244"
            ]
          },
          "metadata": {
            "tags": []
          },
          "execution_count": 30
        }
      ]
    },
    {
      "cell_type": "code",
      "metadata": {
        "colab": {
          "base_uri": "https://localhost:8080/",
          "height": 293
        },
        "id": "ETJHzYvWLsYI",
        "outputId": "825d4124-a3f2-49af-dd59-b8fc4d27e025"
      },
      "source": [
        "df['age_of_vehicle'].plot.hist(bins=5)"
      ],
      "execution_count": null,
      "outputs": [
        {
          "output_type": "execute_result",
          "data": {
            "text/plain": [
              "<matplotlib.axes._subplots.AxesSubplot at 0x7f4f53aabfd0>"
            ]
          },
          "metadata": {
            "tags": []
          },
          "execution_count": 31
        },
        {
          "output_type": "display_data",
          "data": {
            "image/png": "[encoded data removed]",
            "text/plain": [
              "<Figure size 432x288 with 1 Axes>"
            ]
          },
          "metadata": {
            "tags": [],
            "needs_background": "light"
          }
        }
      ]
    },
    {
      "cell_type": "code",
      "metadata": {
        "colab": {
          "base_uri": "https://localhost:8080/"
        },
        "id": "75QkEzBFLsfW",
        "outputId": "cde57618-7cd7-47f6-814f-dca4bb4061f7"
      },
      "source": [
        "df['age_of_vehicle'].median()"
      ],
      "execution_count": null,
      "outputs": [
        {
          "output_type": "execute_result",
          "data": {
            "text/plain": [
              "7.0"
            ]
          },
          "metadata": {
            "tags": []
          },
          "execution_count": 32
        }
      ]
    },
    {
      "cell_type": "code",
      "metadata": {
        "id": "AmdYiLC7Lsif"
      },
      "source": [
        "df['age_of_vehicle'].fillna(df['age_of_vehicle'].median(), inplace = True)"
      ],
      "execution_count": null,
      "outputs": []
    },
    {
      "cell_type": "code",
      "metadata": {
        "colab": {
          "base_uri": "https://localhost:8080/"
        },
        "id": "BqT9UcqXLslC",
        "outputId": "f745769e-c684-47e1-e8f8-5d1bfc92964f"
      },
      "source": [
        "df['age_of_vehicle'].isna().sum()"
      ],
      "execution_count": null,
      "outputs": [
        {
          "output_type": "execute_result",
          "data": {
            "text/plain": [
              "0"
            ]
          },
          "metadata": {
            "tags": []
          },
          "execution_count": 34
        }
      ]
    },
    {
      "cell_type": "code",
      "metadata": {
        "colab": {
          "base_uri": "https://localhost:8080/",
          "height": 293
        },
        "id": "frpJBTPkLsn7",
        "outputId": "9e6b88be-4e53-4612-c793-bfabbab25095"
      },
      "source": [
        "df['age_of_vehicle'].plot.hist(bins=5)"
      ],
      "execution_count": null,
      "outputs": [
        {
          "output_type": "execute_result",
          "data": {
            "text/plain": [
              "<matplotlib.axes._subplots.AxesSubplot at 0x7f4f539d77d0>"
            ]
          },
          "metadata": {
            "tags": []
          },
          "execution_count": 35
        },
        {
          "output_type": "display_data",
          "data": {
            "image/png": "[encoded data removed]",
            "text/plain": [
              "<Figure size 432x288 with 1 Axes>"
            ]
          },
          "metadata": {
            "tags": [],
            "needs_background": "light"
          }
        }
      ]
    },
    {
      "cell_type": "code",
      "metadata": {
        "colab": {
          "base_uri": "https://localhost:8080/"
        },
        "id": "pG9LPgJUMeo8",
        "outputId": "65691109-4967-4040-b9bd-bded30adb90d"
      },
      "source": [
        "max(df['age_of_vehicle'])"
      ],
      "execution_count": null,
      "outputs": [
        {
          "output_type": "execute_result",
          "data": {
            "text/plain": [
              "111.0"
            ]
          },
          "metadata": {
            "tags": []
          },
          "execution_count": 36
        }
      ]
    },
    {
      "cell_type": "markdown",
      "metadata": {
        "id": "TQ1ss11hNMWO"
      },
      "source": [
        "Vichle Age may play a role in the accident. So i'm creating the diff. category based on the age group."
      ]
    },
    {
      "cell_type": "code",
      "metadata": {
        "id": "fp0MFGGUNH5Z"
      },
      "source": [
        "def fixedvehicleage(age):\n",
        "    if age>=0 and age<=120:\n",
        "        return age\n",
        "    else:\n",
        "        return np.nan"
      ],
      "execution_count": null,
      "outputs": []
    },
    {
      "cell_type": "code",
      "metadata": {
        "id": "b0lNCTFXNH7j"
      },
      "source": [
        "df['age_of_vehicle'] = df['age_of_vehicle'].apply(fixedvehicleage)"
      ],
      "execution_count": null,
      "outputs": []
    },
    {
      "cell_type": "code",
      "metadata": {
        "colab": {
          "base_uri": "https://localhost:8080/"
        },
        "id": "rGGOwJOWNIWG",
        "outputId": "f1481e14-0277-4863-c8f1-d41406be35b5"
      },
      "source": [
        "df['age_of_vehicle'].isna().sum()"
      ],
      "execution_count": null,
      "outputs": [
        {
          "output_type": "execute_result",
          "data": {
            "text/plain": [
              "0"
            ]
          },
          "metadata": {
            "tags": []
          },
          "execution_count": 39
        }
      ]
    },
    {
      "cell_type": "code",
      "metadata": {
        "id": "Jn_bl5rRNIYL"
      },
      "source": [
        "df['age_of_vehicle'] = pd.cut(df['age_of_vehicle'], [0,5, 10, 20,40,60,80,100,120], labels=['1', '2', '3','4','5','6', '7', '8'])"
      ],
      "execution_count": null,
      "outputs": []
    },
    {
      "cell_type": "code",
      "metadata": {
        "colab": {
          "base_uri": "https://localhost:8080/"
        },
        "id": "R-R6NkdoNIaj",
        "outputId": "e390d1b1-4e06-425b-e3b4-f16741cdc6b1"
      },
      "source": [
        "df['age_of_vehicle'].nunique()"
      ],
      "execution_count": null,
      "outputs": [
        {
          "output_type": "execute_result",
          "data": {
            "text/plain": [
              "8"
            ]
          },
          "metadata": {
            "tags": []
          },
          "execution_count": 41
        }
      ]
    },
    {
      "cell_type": "code",
      "metadata": {
        "colab": {
          "base_uri": "https://localhost:8080/"
        },
        "id": "TYPdJVBdOIeV",
        "outputId": "927c34a4-a317-479c-b6f5-c44076a87ecb"
      },
      "source": [
        "#model\n",
        "df['model'].value_counts()/df.shape[0]*100"
      ],
      "execution_count": null,
      "outputs": [
        {
          "output_type": "execute_result",
          "data": {
            "text/plain": [
              "MISSING                           0.848903\n",
              "KA                                0.320849\n",
              "CLIO DYNAMIQUE 16V                0.288328\n",
              "SPRINTER 313 CDI                  0.268959\n",
              "FIESTA ZETEC                      0.239082\n",
              "                                    ...   \n",
              "BRERA 1750 TBI                    0.000071\n",
              "TIGUAN SE TSI 4MOTION             0.000071\n",
              "KUGA TITANIUM X SPORT 4X4 A       0.000071\n",
              "CADDY MAXI C20 MATCH TDI S-A      0.000071\n",
              "TOUAREG V6 R-LINE TDI BMT AUTO    0.000071\n",
              "Name: model, Length: 32815, dtype: float64"
            ]
          },
          "metadata": {
            "tags": []
          },
          "execution_count": 42
        }
      ]
    },
    {
      "cell_type": "markdown",
      "metadata": {
        "id": "lX8r9Xi2Oj4o"
      },
      "source": [
        "A lot of the values of \"model' are labeled as \"missing\". I do not want to change these because the model could have actually been missing from the car from the accident or it could not be recognizable at the time of the accident."
      ]
    },
    {
      "cell_type": "code",
      "metadata": {
        "id": "VsuiSr7IOIv0"
      },
      "source": [
        "df.drop(['model'], axis = 1 , inplace = True)"
      ],
      "execution_count": null,
      "outputs": []
    },
    {
      "cell_type": "code",
      "metadata": {
        "colab": {
          "base_uri": "https://localhost:8080/",
          "height": 351
        },
        "id": "u5CjJbCmOIyK",
        "outputId": "adf1a668-4b85-4235-ccd5-675d1ba67e6f"
      },
      "source": [
        "import seaborn as sns\n",
        "sns.distplot(df['engine_capacity_cc'])"
      ],
      "execution_count": null,
      "outputs": [
        {
          "output_type": "stream",
          "text": [
            "/usr/local/lib/python3.7/dist-packages/seaborn/distributions.py:2557: FutureWarning: `distplot` is a deprecated function and will be removed in a future version. Please adapt your code to use either `displot` (a figure-level function with similar flexibility) or `histplot` (an axes-level function for histograms).\n",
            "  warnings.warn(msg, FutureWarning)\n"
          ],
          "name": "stderr"
        },
        {
          "output_type": "execute_result",
          "data": {
            "text/plain": [
              "<matplotlib.axes._subplots.AxesSubplot at 0x7f4f47db8090>"
            ]
          },
          "metadata": {
            "tags": []
          },
          "execution_count": 44
        },
        {
          "output_type": "display_data",
          "data": {
            "image/png": "[encoded data removed]",
            "text/plain": [
              "<Figure size 432x288 with 1 Axes>"
            ]
          },
          "metadata": {
            "tags": [],
            "needs_background": "light"
          }
        }
      ]
    },
    {
      "cell_type": "markdown",
      "metadata": {
        "id": "hzzYksL1QZSE"
      },
      "source": [
        "The plot is showing that it is a left skwed data"
      ]
    },
    {
      "cell_type": "code",
      "metadata": {
        "colab": {
          "base_uri": "https://localhost:8080/",
          "height": 350
        },
        "id": "YraKRjvTOJCT",
        "outputId": "f90abc7a-5bc4-4004-d6c8-54dbbbc3e745"
      },
      "source": [
        "df.groupby(['accident_severity'])['engine_capacity_cc'].plot(kind = 'kde')"
      ],
      "execution_count": null,
      "outputs": [
        {
          "output_type": "execute_result",
          "data": {
            "text/plain": [
              "accident_severity\n",
              "Fatal      AxesSubplot(0.125,0.125;0.775x0.755)\n",
              "Serious    AxesSubplot(0.125,0.125;0.775x0.755)\n",
              "Slight     AxesSubplot(0.125,0.125;0.775x0.755)\n",
              "Name: engine_capacity_cc, dtype: object"
            ]
          },
          "metadata": {
            "tags": []
          },
          "execution_count": 45
        },
        {
          "output_type": "display_data",
          "data": {
            "image/png": "[encoded data removed]",
            "text/plain": [
              "<Figure size 432x288 with 1 Axes>"
            ]
          },
          "metadata": {
            "tags": [],
            "needs_background": "light"
          }
        }
      ]
    },
    {
      "cell_type": "code",
      "metadata": {
        "colab": {
          "base_uri": "https://localhost:8080/"
        },
        "id": "bwVZZ6MSOJGr",
        "outputId": "2d6f1053-961b-459f-8fbf-6bd62d9c5be9"
      },
      "source": [
        "q75, q25 = np.percentile(df['engine_capacity_cc'].dropna(), [75 ,25])\n",
        "iqr = q75 - q25\n",
        " \n",
        "ecmin = q25 - (iqr*1.5)\n",
        "ecmax = q75 + (iqr*1.5)\n",
        "\n",
        "print(ecmax)\n",
        "print(ecmin)"
      ],
      "execution_count": null,
      "outputs": [
        {
          "output_type": "stream",
          "text": [
            "3040.5\n",
            "252.5\n"
          ],
          "name": "stdout"
        }
      ]
    },
    {
      "cell_type": "code",
      "metadata": {
        "colab": {
          "base_uri": "https://localhost:8080/"
        },
        "id": "9n-mjK2BVI5t",
        "outputId": "97401533-8fdb-4f2c-c6c2-4f729c468e0b"
      },
      "source": [
        "IQR=df['engine_capacity_cc'].quantile(0.75)-df['engine_capacity_cc'].quantile(0.25)\n",
        "ower_bridge=df['engine_capacity_cc'].quantile(0.25)-(IQR*3)\n",
        "upper_bridge=df['engine_capacity_cc'].quantile(0.75)+(IQR*3)\n",
        "print(ower_bridge), print(upper_bridge)"
      ],
      "execution_count": null,
      "outputs": [
        {
          "output_type": "stream",
          "text": [
            "-793.0\n",
            "4086.0\n"
          ],
          "name": "stdout"
        },
        {
          "output_type": "execute_result",
          "data": {
            "text/plain": [
              "(None, None)"
            ]
          },
          "metadata": {
            "tags": []
          },
          "execution_count": 47
        }
      ]
    },
    {
      "cell_type": "code",
      "metadata": {
        "id": "SUTT_BBdVRjt"
      },
      "source": [
        "df.loc[df['engine_capacity_cc'] >= upper_bridge, 'engine_capacity_cc'] = upper_bridge"
      ],
      "execution_count": null,
      "outputs": []
    },
    {
      "cell_type": "code",
      "metadata": {
        "colab": {
          "base_uri": "https://localhost:8080/"
        },
        "id": "tZz_RuFXS-JL",
        "outputId": "9eaee45b-ec7d-47f0-ca03-338c8fe34109"
      },
      "source": [
        "df['engine_capacity_cc'].skew()"
      ],
      "execution_count": null,
      "outputs": [
        {
          "output_type": "execute_result",
          "data": {
            "text/plain": [
              "1.0544725971108875"
            ]
          },
          "metadata": {
            "tags": []
          },
          "execution_count": 49
        }
      ]
    },
    {
      "cell_type": "code",
      "metadata": {
        "id": "eUQ8QjbcS-Q-"
      },
      "source": [
        "df['engine_capacity_cc'].fillna(df['engine_capacity_cc'].median(), inplace=True)"
      ],
      "execution_count": null,
      "outputs": []
    },
    {
      "cell_type": "code",
      "metadata": {
        "colab": {
          "base_uri": "https://localhost:8080/",
          "height": 351
        },
        "id": "szimd-r1WYdM",
        "outputId": "1828b770-bbd8-4e8c-8cdc-076dad898bd8"
      },
      "source": [
        "sns.boxplot(df['engine_capacity_cc'])"
      ],
      "execution_count": null,
      "outputs": [
        {
          "output_type": "stream",
          "text": [
            "/usr/local/lib/python3.7/dist-packages/seaborn/_decorators.py:43: FutureWarning: Pass the following variable as a keyword arg: x. From version 0.12, the only valid positional argument will be `data`, and passing other arguments without an explicit keyword will result in an error or misinterpretation.\n",
            "  FutureWarning\n"
          ],
          "name": "stderr"
        },
        {
          "output_type": "execute_result",
          "data": {
            "text/plain": [
              "<matplotlib.axes._subplots.AxesSubplot at 0x7f4f3d4343d0>"
            ]
          },
          "metadata": {
            "tags": []
          },
          "execution_count": 51
        },
        {
          "output_type": "display_data",
          "data": {
            "image/png": "[encoded data removed]",
            "text/plain": [
              "<Figure size 432x288 with 1 Axes>"
            ]
          },
          "metadata": {
            "tags": [],
            "needs_background": "light"
          }
        }
      ]
    },
    {
      "cell_type": "code",
      "metadata": {
        "id": "DvirN9cxWxUs"
      },
      "source": [
        "df.drop('make', axis = 1, inplace=True)"
      ],
      "execution_count": null,
      "outputs": []
    },
    {
      "cell_type": "code",
      "metadata": {
        "colab": {
          "base_uri": "https://localhost:8080/"
        },
        "id": "WK5vxUz2Vt97",
        "outputId": "7c7aff17-4f09-498d-dd9d-c9c3785c7d0b"
      },
      "source": [
        "df.isnull().sum().sort_values(ascending=False)"
      ],
      "execution_count": null,
      "outputs": [
        {
          "output_type": "execute_result",
          "data": {
            "text/plain": [
              "driver_imd_decile                              516325\n",
              "propulsion_code                                185395\n",
              "lsoa_of_accident_location                       88503\n",
              "2nd_road_number                                 11426\n",
              "pedestrian_crossing-physical_facilities          1345\n",
              "vehicle_locationrestricted_lane                  1110\n",
              "pedestrian_crossing-human_control                 633\n",
              "time                                               75\n",
              "speed_limit                                        65\n",
              "did_police_officer_attend_scene_of_accident        17\n",
              "local_authority_highway                             0\n",
              "police_force                                        0\n",
              "number_of_vehicles                                  0\n",
              "number_of_casualties                                0\n",
              "location_northing_osgr                              0\n",
              "location_easting_osgr                               0\n",
              "light_conditions                                    0\n",
              "local_authority_district                            0\n",
              "road_type                                           0\n",
              "junction_detail                                     0\n",
              "junction_control                                    0\n",
              "day_of_week                                         0\n",
              "date                                                0\n",
              "carriageway_hazards                                 0\n",
              "accident_severity                                   0\n",
              "1st_road_number                                     0\n",
              "1st_road_class                                      0\n",
              "road_surface_conditions                             0\n",
              "year_y                                              0\n",
              "special_conditions_at_site                          0\n",
              "journey_purpose_of_driver                           0\n",
              "was_vehicle_left_hand_drive                         0\n",
              "vehicle_type                                        0\n",
              "vehicle_reference                                   0\n",
              "vehicle_manoeuvre                                   0\n",
              "vehicle_leaving_carriageway                         0\n",
              "towing_and_articulation                             0\n",
              "skidding_and_overturning                            0\n",
              "sex_of_driver                                       0\n",
              "junction_location                                   0\n",
              "hit_object_off_carriageway                          0\n",
              "x1st_point_of_impact                                0\n",
              "hit_object_in_carriageway                           0\n",
              "engine_capacity_cc                                  0\n",
              "driver_home_area_type                               0\n",
              "age_of_vehicle                                      0\n",
              "age_band_of_driver                                  0\n",
              "inscotland                                          0\n",
              "year_x                                              0\n",
              "weather_conditions                                  0\n",
              "urban_or_rural_area                                 0\n",
              "accident_index                                      0\n",
              "dtype: int64"
            ]
          },
          "metadata": {
            "tags": []
          },
          "execution_count": 53
        }
      ]
    },
    {
      "cell_type": "code",
      "metadata": {
        "colab": {
          "base_uri": "https://localhost:8080/"
        },
        "id": "_KuStVG-XW3x",
        "outputId": "4b2cbb5e-3e1c-4a55-e86e-d7180f8a78e0"
      },
      "source": [
        "df['lsoa_of_accident_location'].describe()"
      ],
      "execution_count": null,
      "outputs": [
        {
          "output_type": "execute_result",
          "data": {
            "text/plain": [
              "count       1310597\n",
              "unique        35266\n",
              "top       E01032739\n",
              "freq           1137\n",
              "Name: lsoa_of_accident_location, dtype: object"
            ]
          },
          "metadata": {
            "tags": []
          },
          "execution_count": 54
        }
      ]
    },
    {
      "cell_type": "code",
      "metadata": {
        "colab": {
          "base_uri": "https://localhost:8080/"
        },
        "id": "Na-q9EI-Xqhq",
        "outputId": "185268c0-820b-4990-bec3-fb9359997612"
      },
      "source": [
        "df.isnull().sum().sort_values(ascending=False)/df.shape[0]*100"
      ],
      "execution_count": null,
      "outputs": [
        {
          "output_type": "execute_result",
          "data": {
            "text/plain": [
              "driver_imd_decile                              36.904081\n",
              "propulsion_code                                13.251019\n",
              "lsoa_of_accident_location                       6.325709\n",
              "2nd_road_number                                 0.816668\n",
              "pedestrian_crossing-physical_facilities         0.096133\n",
              "vehicle_locationrestricted_lane                 0.079337\n",
              "pedestrian_crossing-human_control               0.045243\n",
              "time                                            0.005361\n",
              "speed_limit                                     0.004646\n",
              "did_police_officer_attend_scene_of_accident     0.001215\n",
              "local_authority_highway                         0.000000\n",
              "police_force                                    0.000000\n",
              "number_of_vehicles                              0.000000\n",
              "number_of_casualties                            0.000000\n",
              "location_northing_osgr                          0.000000\n",
              "location_easting_osgr                           0.000000\n",
              "light_conditions                                0.000000\n",
              "local_authority_district                        0.000000\n",
              "road_type                                       0.000000\n",
              "junction_detail                                 0.000000\n",
              "junction_control                                0.000000\n",
              "day_of_week                                     0.000000\n",
              "date                                            0.000000\n",
              "carriageway_hazards                             0.000000\n",
              "accident_severity                               0.000000\n",
              "1st_road_number                                 0.000000\n",
              "1st_road_class                                  0.000000\n",
              "road_surface_conditions                         0.000000\n",
              "year_y                                          0.000000\n",
              "special_conditions_at_site                      0.000000\n",
              "journey_purpose_of_driver                       0.000000\n",
              "was_vehicle_left_hand_drive                     0.000000\n",
              "vehicle_type                                    0.000000\n",
              "vehicle_reference                               0.000000\n",
              "vehicle_manoeuvre                               0.000000\n",
              "vehicle_leaving_carriageway                     0.000000\n",
              "towing_and_articulation                         0.000000\n",
              "skidding_and_overturning                        0.000000\n",
              "sex_of_driver                                   0.000000\n",
              "junction_location                               0.000000\n",
              "hit_object_off_carriageway                      0.000000\n",
              "x1st_point_of_impact                            0.000000\n",
              "hit_object_in_carriageway                       0.000000\n",
              "engine_capacity_cc                              0.000000\n",
              "driver_home_area_type                           0.000000\n",
              "age_of_vehicle                                  0.000000\n",
              "age_band_of_driver                              0.000000\n",
              "inscotland                                      0.000000\n",
              "year_x                                          0.000000\n",
              "weather_conditions                              0.000000\n",
              "urban_or_rural_area                             0.000000\n",
              "accident_index                                  0.000000\n",
              "dtype: float64"
            ]
          },
          "metadata": {
            "tags": []
          },
          "execution_count": 55
        }
      ]
    },
    {
      "cell_type": "code",
      "metadata": {
        "colab": {
          "base_uri": "https://localhost:8080/",
          "height": 351
        },
        "id": "Q20E4QAYX65m",
        "outputId": "72019d35-4714-4c36-ab05-8a47d9193821"
      },
      "source": [
        "sns.boxplot(df.driver_imd_decile)"
      ],
      "execution_count": null,
      "outputs": [
        {
          "output_type": "stream",
          "text": [
            "/usr/local/lib/python3.7/dist-packages/seaborn/_decorators.py:43: FutureWarning: Pass the following variable as a keyword arg: x. From version 0.12, the only valid positional argument will be `data`, and passing other arguments without an explicit keyword will result in an error or misinterpretation.\n",
            "  FutureWarning\n"
          ],
          "name": "stderr"
        },
        {
          "output_type": "execute_result",
          "data": {
            "text/plain": [
              "<matplotlib.axes._subplots.AxesSubplot at 0x7f4f3d36ca10>"
            ]
          },
          "metadata": {
            "tags": []
          },
          "execution_count": 56
        },
        {
          "output_type": "display_data",
          "data": {
            "image/png": "[encoded data removed]",
            "text/plain": [
              "<Figure size 432x288 with 1 Axes>"
            ]
          },
          "metadata": {
            "tags": [],
            "needs_background": "light"
          }
        }
      ]
    },
    {
      "cell_type": "code",
      "metadata": {
        "colab": {
          "base_uri": "https://localhost:8080/",
          "height": 282
        },
        "id": "iUlGSy-hYiQM",
        "outputId": "15c514ab-7f18-46a8-8055-ac0451ee4eae"
      },
      "source": [
        "df.driver_imd_decile.plot.hist()"
      ],
      "execution_count": null,
      "outputs": [
        {
          "output_type": "execute_result",
          "data": {
            "text/plain": [
              "<matplotlib.axes._subplots.AxesSubplot at 0x7f4f3d359990>"
            ]
          },
          "metadata": {
            "tags": []
          },
          "execution_count": 57
        },
        {
          "output_type": "display_data",
          "data": {
            "image/png": "[encoded data removed]",
            "text/plain": [
              "<Figure size 432x288 with 1 Axes>"
            ]
          },
          "metadata": {
            "tags": [],
            "needs_background": "light"
          }
        }
      ]
    },
    {
      "cell_type": "code",
      "metadata": {
        "id": "b6gpj6v2YuNJ"
      },
      "source": [
        "df.driver_imd_decile.fillna(method='ffill', inplace = True)"
      ],
      "execution_count": null,
      "outputs": []
    },
    {
      "cell_type": "code",
      "metadata": {
        "colab": {
          "base_uri": "https://localhost:8080/"
        },
        "id": "6ThqY09BZBry",
        "outputId": "c764d32c-b8a2-4a97-cf1b-45c0612da622"
      },
      "source": [
        "df.isnull().sum().sort_values(ascending=False)/df.shape[0]*100"
      ],
      "execution_count": null,
      "outputs": [
        {
          "output_type": "execute_result",
          "data": {
            "text/plain": [
              "propulsion_code                                13.251019\n",
              "lsoa_of_accident_location                       6.325709\n",
              "2nd_road_number                                 0.816668\n",
              "pedestrian_crossing-physical_facilities         0.096133\n",
              "vehicle_locationrestricted_lane                 0.079337\n",
              "pedestrian_crossing-human_control               0.045243\n",
              "time                                            0.005361\n",
              "speed_limit                                     0.004646\n",
              "did_police_officer_attend_scene_of_accident     0.001215\n",
              "local_authority_highway                         0.000000\n",
              "police_force                                    0.000000\n",
              "number_of_vehicles                              0.000000\n",
              "number_of_casualties                            0.000000\n",
              "location_northing_osgr                          0.000000\n",
              "location_easting_osgr                           0.000000\n",
              "junction_detail                                 0.000000\n",
              "local_authority_district                        0.000000\n",
              "light_conditions                                0.000000\n",
              "road_type                                       0.000000\n",
              "junction_control                                0.000000\n",
              "day_of_week                                     0.000000\n",
              "date                                            0.000000\n",
              "carriageway_hazards                             0.000000\n",
              "accident_severity                               0.000000\n",
              "1st_road_number                                 0.000000\n",
              "1st_road_class                                  0.000000\n",
              "road_surface_conditions                         0.000000\n",
              "year_y                                          0.000000\n",
              "special_conditions_at_site                      0.000000\n",
              "x1st_point_of_impact                            0.000000\n",
              "was_vehicle_left_hand_drive                     0.000000\n",
              "vehicle_type                                    0.000000\n",
              "vehicle_reference                               0.000000\n",
              "vehicle_manoeuvre                               0.000000\n",
              "vehicle_leaving_carriageway                     0.000000\n",
              "towing_and_articulation                         0.000000\n",
              "skidding_and_overturning                        0.000000\n",
              "sex_of_driver                                   0.000000\n",
              "junction_location                               0.000000\n",
              "journey_purpose_of_driver                       0.000000\n",
              "hit_object_off_carriageway                      0.000000\n",
              "hit_object_in_carriageway                       0.000000\n",
              "engine_capacity_cc                              0.000000\n",
              "driver_imd_decile                               0.000000\n",
              "driver_home_area_type                           0.000000\n",
              "age_of_vehicle                                  0.000000\n",
              "age_band_of_driver                              0.000000\n",
              "inscotland                                      0.000000\n",
              "year_x                                          0.000000\n",
              "weather_conditions                              0.000000\n",
              "urban_or_rural_area                             0.000000\n",
              "accident_index                                  0.000000\n",
              "dtype: float64"
            ]
          },
          "metadata": {
            "tags": []
          },
          "execution_count": 59
        }
      ]
    },
    {
      "cell_type": "code",
      "metadata": {
        "colab": {
          "base_uri": "https://localhost:8080/"
        },
        "id": "5Rpp6AkWZhcK",
        "outputId": "3a208f27-19e9-45fb-84b0-c0c18445b883"
      },
      "source": [
        "df.propulsion_code.value_counts()"
      ],
      "execution_count": null,
      "outputs": [
        {
          "output_type": "execute_result",
          "data": {
            "text/plain": [
              "Petrol                 704198\n",
              "Heavy oil              498981\n",
              "Hybrid electric          8336\n",
              "Gas/Bi-fuel              1089\n",
              "Electric                  443\n",
              "Petrol/Gas (LPG)          385\n",
              "Electric diesel           142\n",
              "Gas                       113\n",
              "New fuel technology         8\n",
              "Gas Diesel                  6\n",
              "Steam                       3\n",
              "Fuel cells                  1\n",
              "Name: propulsion_code, dtype: int64"
            ]
          },
          "metadata": {
            "tags": []
          },
          "execution_count": 60
        }
      ]
    },
    {
      "cell_type": "code",
      "metadata": {
        "id": "demrsowWZ-4u"
      },
      "source": [
        "df['propulsion_code'] = df['propulsion_code'].replace(to_replace=\"Gas\", value=\"LPG\")\n",
        "df['propulsion_code'] = df['propulsion_code'].replace(to_replace=\"Gas/Bi-fuel\", value=\"Bio-fuel\")\n",
        "df['propulsion_code'] = df['propulsion_code'].replace(to_replace=\"Petrol/Gas (LPG)\", value=\"LPG\")\n",
        "df['propulsion_code'] = df['propulsion_code'].replace(to_replace=\"Gas Diesel\", value=\"Diesel\")"
      ],
      "execution_count": null,
      "outputs": []
    },
    {
      "cell_type": "code",
      "metadata": {
        "colab": {
          "base_uri": "https://localhost:8080/"
        },
        "id": "ityXG9QuZGQT",
        "outputId": "a5993aba-59eb-423f-81b9-4689cd514fc0"
      },
      "source": [
        "df.propulsion_code.value_counts()"
      ],
      "execution_count": null,
      "outputs": [
        {
          "output_type": "execute_result",
          "data": {
            "text/plain": [
              "Petrol                 704198\n",
              "Heavy oil              498981\n",
              "Hybrid electric          8336\n",
              "Bio-fuel                 1089\n",
              "LPG                       498\n",
              "Electric                  443\n",
              "Electric diesel           142\n",
              "New fuel technology         8\n",
              "Diesel                      6\n",
              "Steam                       3\n",
              "Fuel cells                  1\n",
              "Name: propulsion_code, dtype: int64"
            ]
          },
          "metadata": {
            "tags": []
          },
          "execution_count": 62
        }
      ]
    },
    {
      "cell_type": "code",
      "metadata": {
        "id": "SbNx6nRrahgT"
      },
      "source": [
        "df.propulsion_code = np.where(df.propulsion_code.isnull(), \"Missing\", df.propulsion_code)"
      ],
      "execution_count": null,
      "outputs": []
    },
    {
      "cell_type": "code",
      "metadata": {
        "id": "uxZjtdvCbUF9"
      },
      "source": [
        "df['lsoa_of_accident_location'].fillna(method='ffill', inplace=True)"
      ],
      "execution_count": null,
      "outputs": []
    },
    {
      "cell_type": "markdown",
      "metadata": {
        "id": "85XscTQebrwK"
      },
      "source": [
        "There is very high outlairs in this feature. so i decided to drop this feature"
      ]
    },
    {
      "cell_type": "code",
      "metadata": {
        "colab": {
          "base_uri": "https://localhost:8080/",
          "height": 283
        },
        "id": "uazFN6a5bhAq",
        "outputId": "9a54adc8-7b46-4618-bf2c-66fb3fc0b8e8"
      },
      "source": [
        "df['2nd_road_number'].plot(kind='box')"
      ],
      "execution_count": null,
      "outputs": [
        {
          "output_type": "execute_result",
          "data": {
            "text/plain": [
              "<matplotlib.axes._subplots.AxesSubplot at 0x7f4f66a6c990>"
            ]
          },
          "metadata": {
            "tags": []
          },
          "execution_count": 65
        },
        {
          "output_type": "display_data",
          "data": {
            "image/png": "[encoded data removed]",
            "text/plain": [
              "<Figure size 432x288 with 1 Axes>"
            ]
          },
          "metadata": {
            "tags": [],
            "needs_background": "light"
          }
        }
      ]
    },
    {
      "cell_type": "code",
      "metadata": {
        "colab": {
          "base_uri": "https://localhost:8080/"
        },
        "id": "4_KIlO7RbtGq",
        "outputId": "8c05f3cc-03a9-4534-dcc7-9828511fd880"
      },
      "source": [
        "IQR=df['2nd_road_number'].quantile(0.75)-df['2nd_road_number'].quantile(0.25)\n",
        "ower_bridge=df['2nd_road_number'].quantile(0.25)-(IQR*3)\n",
        "upper_bridge=df['2nd_road_number'].quantile(0.75)+(IQR*3)\n",
        "print(ower_bridge), print(upper_bridge)"
      ],
      "execution_count": null,
      "outputs": [
        {
          "output_type": "stream",
          "text": [
            "0.0\n",
            "0.0\n"
          ],
          "name": "stdout"
        },
        {
          "output_type": "execute_result",
          "data": {
            "text/plain": [
              "(None, None)"
            ]
          },
          "metadata": {
            "tags": []
          },
          "execution_count": 66
        }
      ]
    },
    {
      "cell_type": "code",
      "metadata": {
        "id": "xuqMTHpmcC9T"
      },
      "source": [
        "df.drop(['2nd_road_number'], inplace = True, axis = 1)"
      ],
      "execution_count": null,
      "outputs": []
    },
    {
      "cell_type": "code",
      "metadata": {
        "id": "fOoDgxuFcfRq"
      },
      "source": [
        "df.dropna(inplace=True)"
      ],
      "execution_count": null,
      "outputs": []
    },
    {
      "cell_type": "code",
      "metadata": {
        "colab": {
          "base_uri": "https://localhost:8080/"
        },
        "id": "GJ0f2JlUcoyC",
        "outputId": "fdc6f1d6-1e72-444d-8446-7965e65ce803"
      },
      "source": [
        "df.isnull().sum()"
      ],
      "execution_count": null,
      "outputs": [
        {
          "output_type": "execute_result",
          "data": {
            "text/plain": [
              "accident_index                                 0\n",
              "1st_road_class                                 0\n",
              "1st_road_number                                0\n",
              "accident_severity                              0\n",
              "carriageway_hazards                            0\n",
              "date                                           0\n",
              "day_of_week                                    0\n",
              "did_police_officer_attend_scene_of_accident    0\n",
              "junction_control                               0\n",
              "junction_detail                                0\n",
              "light_conditions                               0\n",
              "local_authority_district                       0\n",
              "local_authority_highway                        0\n",
              "location_easting_osgr                          0\n",
              "location_northing_osgr                         0\n",
              "lsoa_of_accident_location                      0\n",
              "number_of_casualties                           0\n",
              "number_of_vehicles                             0\n",
              "pedestrian_crossing-human_control              0\n",
              "pedestrian_crossing-physical_facilities        0\n",
              "police_force                                   0\n",
              "road_surface_conditions                        0\n",
              "road_type                                      0\n",
              "special_conditions_at_site                     0\n",
              "speed_limit                                    0\n",
              "time                                           0\n",
              "urban_or_rural_area                            0\n",
              "weather_conditions                             0\n",
              "year_x                                         0\n",
              "inscotland                                     0\n",
              "age_band_of_driver                             0\n",
              "age_of_vehicle                                 0\n",
              "driver_home_area_type                          0\n",
              "driver_imd_decile                              0\n",
              "engine_capacity_cc                             0\n",
              "hit_object_in_carriageway                      0\n",
              "hit_object_off_carriageway                     0\n",
              "journey_purpose_of_driver                      0\n",
              "junction_location                              0\n",
              "propulsion_code                                0\n",
              "sex_of_driver                                  0\n",
              "skidding_and_overturning                       0\n",
              "towing_and_articulation                        0\n",
              "vehicle_leaving_carriageway                    0\n",
              "vehicle_locationrestricted_lane                0\n",
              "vehicle_manoeuvre                              0\n",
              "vehicle_reference                              0\n",
              "vehicle_type                                   0\n",
              "was_vehicle_left_hand_drive                    0\n",
              "x1st_point_of_impact                           0\n",
              "year_y                                         0\n",
              "dtype: int64"
            ]
          },
          "metadata": {
            "tags": []
          },
          "execution_count": 69
        }
      ]
    },
    {
      "cell_type": "code",
      "metadata": {
        "colab": {
          "base_uri": "https://localhost:8080/"
        },
        "id": "Hf8Uy1dJcfVk",
        "outputId": "a1a2353c-7ed9-4b5b-d770-595e0be6d192"
      },
      "source": [
        "df.shape"
      ],
      "execution_count": null,
      "outputs": [
        {
          "output_type": "execute_result",
          "data": {
            "text/plain": [
              "(1396895, 51)"
            ]
          },
          "metadata": {
            "tags": []
          },
          "execution_count": 70
        }
      ]
    },
    {
      "cell_type": "code",
      "metadata": {
        "id": "Aqzq2miPcriP"
      },
      "source": [
        "df['date'] = pd.to_datetime(df['date'])"
      ],
      "execution_count": null,
      "outputs": []
    },
    {
      "cell_type": "code",
      "metadata": {
        "id": "R_nUbuAXcyAK"
      },
      "source": [
        "df['month'] = df ['date'].apply(lambda time: time.month)"
      ],
      "execution_count": null,
      "outputs": []
    },
    {
      "cell_type": "code",
      "metadata": {
        "id": "hzbihd43cyGd"
      },
      "source": [
        "#creating a weekend feature that includes Friday-Sunday. Because we need give high importance to these days. \n",
        "df['weekend']= np.where(df['day_of_week'].isin(['Friday', 'Saturday', 'Sunday']), 1, 0)"
      ],
      "execution_count": null,
      "outputs": []
    },
    {
      "cell_type": "code",
      "metadata": {
        "id": "1FHJTBkUcyH-"
      },
      "source": [
        "timeofdaygroups = {1: \"Morning Rush (6-10)\",\n",
        "                   2: \"Day (10-12)\",\n",
        "                   3: \"Lunch Rush (12-14)\",\n",
        "                   4: \"Afternoon (14-16)\",\n",
        "                   5: \"After Work Rush (16-18)\",\n",
        "                   6: \"Evening (18-22)\",\n",
        "                   7: \"Night (22-6)\"}"
      ],
      "execution_count": null,
      "outputs": []
    },
    {
      "cell_type": "code",
      "metadata": {
        "colab": {
          "base_uri": "https://localhost:8080/"
        },
        "id": "DPy_ViELcyKU",
        "outputId": "80addb8a-aa19-4a1f-8517-92523adaa299"
      },
      "source": [
        "df['time'].value_counts()"
      ],
      "execution_count": null,
      "outputs": [
        {
          "output_type": "execute_result",
          "data": {
            "text/plain": [
              "17:00    13360\n",
              "17:30    12793\n",
              "18:00    11951\n",
              "16:00    11685\n",
              "16:30    11392\n",
              "         ...  \n",
              "04:42       39\n",
              "04:26       36\n",
              "04:37       35\n",
              "04:34       33\n",
              "04:01       31\n",
              "Name: time, Length: 1439, dtype: int64"
            ]
          },
          "metadata": {
            "tags": []
          },
          "execution_count": 75
        }
      ]
    },
    {
      "cell_type": "code",
      "metadata": {
        "id": "BKnRibBfeY57"
      },
      "source": [
        "#pull time data and create hour column\n",
        "df['hour'] = df['time'].str[0:2]\n",
        " \n",
        "#convert to numeric    \n",
        "df['hour'] =  pd.to_numeric(df['hour'])\n",
        "\n",
        "#convert to integer\n",
        "df['hour'] = df['hour'].astype('int')"
      ],
      "execution_count": null,
      "outputs": []
    },
    {
      "cell_type": "code",
      "metadata": {
        "colab": {
          "base_uri": "https://localhost:8080/"
        },
        "id": "6j4wVTPHecp9",
        "outputId": "452eb508-a9ba-41e9-cb2f-f0834d585e23"
      },
      "source": [
        "df['hour']"
      ],
      "execution_count": null,
      "outputs": [
        {
          "output_type": "execute_result",
          "data": {
            "text/plain": [
              "0           7\n",
              "1          18\n",
              "2          10\n",
              "3          21\n",
              "4          21\n",
              "           ..\n",
              "1399095    16\n",
              "1399096    16\n",
              "1399097     7\n",
              "1399098    20\n",
              "1399099    12\n",
              "Name: hour, Length: 1396895, dtype: int64"
            ]
          },
          "metadata": {
            "tags": []
          },
          "execution_count": 77
        }
      ]
    },
    {
      "cell_type": "code",
      "metadata": {
        "id": "4yoYRWsxcyNH"
      },
      "source": [
        "def daygroup(hour):\n",
        "    if hour >= 6 and hour < 10:\n",
        "        return \"1\"\n",
        "    elif hour >= 10 and hour < 12:\n",
        "        return \"2\"\n",
        "    elif hour >= 12 and hour < 14:\n",
        "        return \"3\"\n",
        "    elif hour >= 14 and hour < 16:\n",
        "        return \"4\"\n",
        "    elif hour >= 16 and hour < 18:\n",
        "        return \"5\"\n",
        "    elif hour >= 18 and hour < 22:\n",
        "        return \"6\"\n",
        "    else:\n",
        "        return \"7\""
      ],
      "execution_count": null,
      "outputs": []
    },
    {
      "cell_type": "code",
      "metadata": {
        "id": "AxLOKgoucyPz"
      },
      "source": [
        "df['time_of_day']= df['hour'].apply(daygroup)"
      ],
      "execution_count": null,
      "outputs": []
    },
    {
      "cell_type": "code",
      "metadata": {
        "colab": {
          "base_uri": "https://localhost:8080/"
        },
        "id": "80ggD8VjcyRv",
        "outputId": "b516f09d-77e5-49be-b0cc-03617e9eb044"
      },
      "source": [
        "df['vehicle_type'].value_counts()"
      ],
      "execution_count": null,
      "outputs": [
        {
          "output_type": "execute_result",
          "data": {
            "text/plain": [
              "Car                                      1046323\n",
              "Van / Goods 3.5 tonnes mgw or under        77212\n",
              "Motorcycle 125cc and under                 44071\n",
              "Motorcycle over 500cc                      42932\n",
              "Pedal cycle                                38449\n",
              "Bus or coach (17 or more pass seats)       35924\n",
              "Taxi/Private hire car                      30394\n",
              "Goods 7.5 tonnes mgw and over              26868\n",
              "Motorcycle 50cc and under                  13138\n",
              "Motorcycle over 125cc and up to 500cc      13085\n",
              "Goods over 3.5t. and under 7.5t            10180\n",
              "Other vehicle                               8009\n",
              "Minibus (8 - 16 passenger seats)            3402\n",
              "Agricultural vehicle                        3144\n",
              "Goods vehicle - unknown weight              1846\n",
              "Motorcycle - unknown cc                      731\n",
              "Mobility scooter                             498\n",
              "Data missing or out of range                 348\n",
              "Ridden horse                                 223\n",
              "Electric motorcycle                           77\n",
              "Tram                                          41\n",
              "Name: vehicle_type, dtype: int64"
            ]
          },
          "metadata": {
            "tags": []
          },
          "execution_count": 80
        }
      ]
    },
    {
      "cell_type": "code",
      "metadata": {
        "id": "uTylAj6Bcrk0"
      },
      "source": [
        "#motorcycles\n",
        "df['vehicle_type'] = df['vehicle_type'].replace(to_replace=\"Motorcycle over 500cc\", \n",
        "                                                        value=\"Motorcycle\")\n",
        "df['vehicle_type'] = df['vehicle_type'].replace(to_replace=\n",
        "                                                        \"Motorcycle over 125cc and up to 500cc\",\n",
        "                                                        value=\"Motorcycle\")\n",
        "df['vehicle_type'] = df['vehicle_type'].replace(to_replace=\"Motorcycle 125cc and under\", \n",
        "                                                value=\"Motorcycle\")\n",
        "df['vehicle_type'] = df['vehicle_type'].replace(to_replace=\"Motorcycle 50cc and under\", \n",
        "                                                        value=\"Motorcycle\")\n",
        "df['vehicle_type'] = df['vehicle_type'].replace(to_replace=\"Electric motorcycle\", \n",
        "                                                        value=\"Motorcycle\")\n",
        "df['vehicle_type'] = df['vehicle_type'].replace(to_replace=\"Motorcycle - unknown cc\", \n",
        "                                                        value=\"Motorcycle\")\n",
        "\n",
        "\n",
        "#Goods_vehicle\n",
        "df['vehicle_type'] = df['vehicle_type'].replace(to_replace=\n",
        "                                                        \"Van / Goods 3.5 tonnes mgw or under\", \n",
        "                                                        value=\"Goods Vehicle\")\n",
        "df['vehicle_type'] = df['vehicle_type'].replace(to_replace=\"Goods over 3.5t. and under 7.5t\", \n",
        "                                                        value=\"Goods Vehicle\")\n",
        "df['vehicle_type'] = df['vehicle_type'].replace(to_replace=\"Goods vehicle - unknown weight\", \n",
        "                                                        value=\"Goods Vehicle\")\n",
        "df['vehicle_type'] = df['vehicle_type'].replace(to_replace=\"Goods 7.5 tonnes mgw and over\", \n",
        "                                                        value=\"Goods Vehicle\")\n",
        "\n",
        "#car\n",
        "df['vehicle_type'] = df['vehicle_type'].replace(to_replace=\"Taxi/Private hire car\", \n",
        "                                                        value=\"Car\")\n",
        "\n",
        "\n",
        "#bus\n",
        "df['vehicle_type'] = df['vehicle_type'].replace(to_replace=\"Minibus (8 - 16 passenger seats)\", \n",
        "                                                        value=\"Bus\")\n",
        "df['vehicle_type'] = df['vehicle_type'].replace(to_replace=\n",
        "                                                        \"Bus or coach (17 or more pass seats)\", \n",
        "                                                        value=\"Bus\")\n",
        "\n",
        "#other vehicle\n",
        "df['vehicle_type'] = df['vehicle_type'].replace(to_replace=\"Agricultural vehicle\", \n",
        "                                                        value=\"Other Vehicle\")\n",
        "df['vehicle_type'] = df['vehicle_type'].replace(to_replace=\"Other vehicle\", \n",
        "                                                        value=\"Other Vehicle\")"
      ],
      "execution_count": null,
      "outputs": []
    },
    {
      "cell_type": "code",
      "metadata": {
        "colab": {
          "base_uri": "https://localhost:8080/"
        },
        "id": "p6kYyoEzqNb8",
        "outputId": "427e60f5-dffd-4ffb-fc02-a1faa8870037"
      },
      "source": [
        "df['vehicle_type'].value_counts()"
      ],
      "execution_count": null,
      "outputs": [
        {
          "output_type": "execute_result",
          "data": {
            "text/plain": [
              "Car                             1076717\n",
              "Goods Vehicle                    116106\n",
              "Motorcycle                       114034\n",
              "Bus                               39326\n",
              "Pedal cycle                       38449\n",
              "Other Vehicle                     11153\n",
              "Mobility scooter                    498\n",
              "Data missing or out of range        348\n",
              "Ridden horse                        223\n",
              "Tram                                 41\n",
              "Name: vehicle_type, dtype: int64"
            ]
          },
          "metadata": {
            "tags": []
          },
          "execution_count": 82
        }
      ]
    },
    {
      "cell_type": "code",
      "metadata": {
        "colab": {
          "base_uri": "https://localhost:8080/"
        },
        "id": "qkRMqk01qU3V",
        "outputId": "e037b08b-b7b3-46b3-bf3d-7be55a1d52d3"
      },
      "source": [
        "df['age_band_of_driver'].value_counts()"
      ],
      "execution_count": null,
      "outputs": [
        {
          "output_type": "execute_result",
          "data": {
            "text/plain": [
              "26 - 35                         287538\n",
              "36 - 45                         261755\n",
              "46 - 55                         228652\n",
              "21 - 25                         157122\n",
              "56 - 65                         131513\n",
              "Data missing or out of range    117227\n",
              "16 - 20                         107678\n",
              "66 - 75                          62689\n",
              "Over 75                          38449\n",
              "11 - 15                           3290\n",
              "6 - 10                             860\n",
              "0 - 5                              122\n",
              "Name: age_band_of_driver, dtype: int64"
            ]
          },
          "metadata": {
            "tags": []
          },
          "execution_count": 83
        }
      ]
    },
    {
      "cell_type": "code",
      "metadata": {
        "id": "3UDlHgozqVCQ"
      },
      "source": [
        "age1 = [\"0 - 5\", \"6 - 10\", \"11 - 15\"]\n",
        "age2 = [\"16 - 20\",\"21 - 25\"]\n",
        "age3 = [\"26 - 35\",\"36 - 45\"]\n",
        "age4 = [\"46 - 55\", \"56 - 65\"]\n",
        "age5 = [\"66 - 75\", \"Over 75\"]"
      ],
      "execution_count": null,
      "outputs": []
    },
    {
      "cell_type": "code",
      "metadata": {
        "id": "f6ijnxNXtSyY"
      },
      "source": [
        "#motorcycles\n",
        "df['age_band_of_driver'].replace(to_replace=\"0 - 5\", value=\"Under 16\", inplace = True)\n",
        "df['age_band_of_driver'].replace(to_replace= \"6 - 10\" ,  value=\"Under 16\", inplace = True)\n",
        "df['age_band_of_driver'].replace(to_replace= \"11 - 15\" ,  value=\"Under 16\", inplace = True)\n",
        "df['age_band_of_driver'].replace(to_replace= \"16 - 20\" ,  value=\"16-25\", inplace = True)\n",
        "df['age_band_of_driver'].replace(to_replace=\"21 - 25\", value=\"16-25\", inplace = True)\n",
        "\n",
        "df['age_band_of_driver'].replace(to_replace= \"26 - 35\" ,  value=\"26-45\", inplace = True)\n",
        "df['age_band_of_driver'].replace(to_replace= \"36 - 45\" ,  value=\"26-45\", inplace = True)\n",
        "df['age_band_of_driver'].replace(to_replace=\"46 - 55\", value=\"46-65\", inplace = True)\n",
        "df['age_band_of_driver'].replace(to_replace=\"56 - 65\", value=\"46-65\", inplace = True)\n",
        "df['age_band_of_driver'].replace(to_replace= \"66 - 75\" ,  value=\"Over 65\", inplace = True)\n",
        "df['age_band_of_driver'].replace(to_replace= \"Over 75\" ,  value=\"Over 65\", inplace = True)"
      ],
      "execution_count": null,
      "outputs": []
    },
    {
      "cell_type": "code",
      "metadata": {
        "colab": {
          "base_uri": "https://localhost:8080/"
        },
        "id": "-Ne0AobDqVMK",
        "outputId": "d7baecab-6f15-4c9d-b0a8-b495631561ce"
      },
      "source": [
        "df['age_band_of_driver'].value_counts()"
      ],
      "execution_count": null,
      "outputs": [
        {
          "output_type": "execute_result",
          "data": {
            "text/plain": [
              "26-45                           549293\n",
              "46-65                           360165\n",
              "16-25                           264800\n",
              "Data missing or out of range    117227\n",
              "Over 65                         101138\n",
              "Under 16                          4272\n",
              "Name: age_band_of_driver, dtype: int64"
            ]
          },
          "metadata": {
            "tags": []
          },
          "execution_count": 86
        }
      ]
    },
    {
      "cell_type": "code",
      "metadata": {
        "id": "sTMIaaHXq1mk"
      },
      "source": [
        "#group number_of_vehicles\n",
        "\n",
        "def vehicles(num_veh):\n",
        "    if num_veh >=1 and num_veh <2:\n",
        "        return \"1\"\n",
        "    elif num_veh >=2 and num_veh <3:\n",
        "        return \"2\"\n",
        "    elif num_veh >=3 and num_veh <4:\n",
        "        return \"3\"\n",
        "    elif num_veh >= 4: \n",
        "        return \"4+\"\n",
        "  \n",
        "#apply function   \n",
        "df['number_of_vehicles']= df['number_of_vehicles'].apply(vehicles)"
      ],
      "execution_count": null,
      "outputs": []
    },
    {
      "cell_type": "code",
      "metadata": {
        "colab": {
          "base_uri": "https://localhost:8080/"
        },
        "id": "fq5AY1r7rEFt",
        "outputId": "bb326e85-4afd-4835-82d7-90bd83785cda"
      },
      "source": [
        "df['number_of_vehicles'].dtypes"
      ],
      "execution_count": null,
      "outputs": [
        {
          "output_type": "execute_result",
          "data": {
            "text/plain": [
              "dtype('O')"
            ]
          },
          "metadata": {
            "tags": []
          },
          "execution_count": 88
        }
      ]
    },
    {
      "cell_type": "code",
      "metadata": {
        "id": "BTD0rWlTrCs3"
      },
      "source": [
        "df['number_of_vehicles']=df['number_of_vehicles'].astype('object')"
      ],
      "execution_count": null,
      "outputs": []
    },
    {
      "cell_type": "code",
      "metadata": {
        "id": "-Wb6gdlkrGUN"
      },
      "source": [
        "def getSeason(month):\n",
        "    if (month == 12 or month == 1 or month == 2):\n",
        "       return \"winter\"\n",
        "    elif(month == 3 or month == 4 or month == 5):\n",
        "       return \"spring\"\n",
        "    elif(month == 6 or month== 7 or month == 8):\n",
        "       return \"summer\"\n",
        "    else:\n",
        "       return \"fall\"\n",
        "\n",
        "df['season'] = df['month'].apply(getSeason)"
      ],
      "execution_count": null,
      "outputs": []
    },
    {
      "cell_type": "code",
      "metadata": {
        "id": "JH3oJamXrJCa"
      },
      "source": [
        "def enginecap(eng_cc):\n",
        "    if eng_cc <=1500:\n",
        "        return \"small engine cc\"\n",
        "    if eng_cc >1500 and eng_cc <=2000:\n",
        "        return \"medium engine cc\"\n",
        "    if eng_cc >2000:\n",
        "        return \"large engine cc\"\n",
        "\n",
        "\n",
        "df['engine_capacity_cc_size'] = df['engine_capacity_cc'].apply(enginecap)"
      ],
      "execution_count": null,
      "outputs": []
    },
    {
      "cell_type": "code",
      "metadata": {
        "id": "YAsYY0YgrRVF"
      },
      "source": [
        "df.to_pickle(\"/content/drive/MyDrive/Classification/accidents/df.pkl\")"
      ],
      "execution_count": null,
      "outputs": []
    },
    {
      "cell_type": "code",
      "metadata": {
        "colab": {
          "base_uri": "https://localhost:8080/",
          "height": 411
        },
        "id": "Hh4yRgSWrRf5",
        "outputId": "5d479528-c1eb-4d5a-9dec-e6148db6af32"
      },
      "source": [
        "#import pickled file\n",
        "df = pd.read_pickle(\"/content/drive/MyDrive/Classification/accidents/df.pkl\")\n",
        "df.head()"
      ],
      "execution_count": null,
      "outputs": [
        {
          "output_type": "execute_result",
          "data": {
            "text/html": [
              "<div>\n",
              "<style scoped>\n",
              "    .dataframe tbody tr th:only-of-type {\n",
              "        vertical-align: middle;\n",
              "    }\n",
              "\n",
              "    .dataframe tbody tr th {\n",
              "        vertical-align: top;\n",
              "    }\n",
              "\n",
              "    .dataframe thead th {\n",
              "        text-align: right;\n",
              "    }\n",
              "</style>\n",
              "<table border=\"1\" class=\"dataframe\">\n",
              "  <thead>\n",
              "    <tr style=\"text-align: right;\">\n",
              "      <th></th>\n",
              "      <th>accident_index</th>\n",
              "      <th>1st_road_class</th>\n",
              "      <th>1st_road_number</th>\n",
              "      <th>accident_severity</th>\n",
              "      <th>carriageway_hazards</th>\n",
              "      <th>date</th>\n",
              "      <th>day_of_week</th>\n",
              "      <th>did_police_officer_attend_scene_of_accident</th>\n",
              "      <th>junction_control</th>\n",
              "      <th>junction_detail</th>\n",
              "      <th>light_conditions</th>\n",
              "      <th>local_authority_district</th>\n",
              "      <th>local_authority_highway</th>\n",
              "      <th>location_easting_osgr</th>\n",
              "      <th>location_northing_osgr</th>\n",
              "      <th>lsoa_of_accident_location</th>\n",
              "      <th>number_of_casualties</th>\n",
              "      <th>number_of_vehicles</th>\n",
              "      <th>pedestrian_crossing-human_control</th>\n",
              "      <th>pedestrian_crossing-physical_facilities</th>\n",
              "      <th>police_force</th>\n",
              "      <th>road_surface_conditions</th>\n",
              "      <th>road_type</th>\n",
              "      <th>special_conditions_at_site</th>\n",
              "      <th>speed_limit</th>\n",
              "      <th>time</th>\n",
              "      <th>urban_or_rural_area</th>\n",
              "      <th>weather_conditions</th>\n",
              "      <th>year_x</th>\n",
              "      <th>inscotland</th>\n",
              "      <th>age_band_of_driver</th>\n",
              "      <th>age_of_vehicle</th>\n",
              "      <th>driver_home_area_type</th>\n",
              "      <th>driver_imd_decile</th>\n",
              "      <th>engine_capacity_cc</th>\n",
              "      <th>hit_object_in_carriageway</th>\n",
              "      <th>hit_object_off_carriageway</th>\n",
              "      <th>journey_purpose_of_driver</th>\n",
              "      <th>junction_location</th>\n",
              "      <th>propulsion_code</th>\n",
              "      <th>sex_of_driver</th>\n",
              "      <th>skidding_and_overturning</th>\n",
              "      <th>towing_and_articulation</th>\n",
              "      <th>vehicle_leaving_carriageway</th>\n",
              "      <th>vehicle_locationrestricted_lane</th>\n",
              "      <th>vehicle_manoeuvre</th>\n",
              "      <th>vehicle_reference</th>\n",
              "      <th>vehicle_type</th>\n",
              "      <th>was_vehicle_left_hand_drive</th>\n",
              "      <th>x1st_point_of_impact</th>\n",
              "      <th>year_y</th>\n",
              "      <th>month</th>\n",
              "      <th>weekend</th>\n",
              "      <th>hour</th>\n",
              "      <th>time_of_day</th>\n",
              "      <th>season</th>\n",
              "      <th>engine_capacity_cc_size</th>\n",
              "    </tr>\n",
              "  </thead>\n",
              "  <tbody>\n",
              "    <tr>\n",
              "      <th>0</th>\n",
              "      <td>201001BS70003</td>\n",
              "      <td>B</td>\n",
              "      <td>302</td>\n",
              "      <td>Slight</td>\n",
              "      <td>None</td>\n",
              "      <td>2010-01-11</td>\n",
              "      <td>Monday</td>\n",
              "      <td>1</td>\n",
              "      <td>Give way or uncontrolled</td>\n",
              "      <td>T or staggered junction</td>\n",
              "      <td>Daylight</td>\n",
              "      <td>Kensington and Chelsea</td>\n",
              "      <td>Kensington and Chelsea</td>\n",
              "      <td>527580.0</td>\n",
              "      <td>177730.0</td>\n",
              "      <td>E01002900</td>\n",
              "      <td>1</td>\n",
              "      <td>2</td>\n",
              "      <td>0</td>\n",
              "      <td>0</td>\n",
              "      <td>Metropolitan Police</td>\n",
              "      <td>Wet or damp</td>\n",
              "      <td>Single carriageway</td>\n",
              "      <td>None</td>\n",
              "      <td>30.0</td>\n",
              "      <td>07:30</td>\n",
              "      <td>Urban</td>\n",
              "      <td>Other</td>\n",
              "      <td>2010</td>\n",
              "      <td>No</td>\n",
              "      <td>26-45</td>\n",
              "      <td>1</td>\n",
              "      <td>Urban area</td>\n",
              "      <td>1.0</td>\n",
              "      <td>1360.0</td>\n",
              "      <td>None</td>\n",
              "      <td>None</td>\n",
              "      <td>Commuting to/from work</td>\n",
              "      <td>Mid Junction - on roundabout or on main road</td>\n",
              "      <td>Petrol</td>\n",
              "      <td>Female</td>\n",
              "      <td>None</td>\n",
              "      <td>No tow/articulation</td>\n",
              "      <td>Did not leave carriageway</td>\n",
              "      <td>0</td>\n",
              "      <td>Turning right</td>\n",
              "      <td>1</td>\n",
              "      <td>Goods Vehicle</td>\n",
              "      <td>No</td>\n",
              "      <td>Front</td>\n",
              "      <td>2010</td>\n",
              "      <td>1</td>\n",
              "      <td>0</td>\n",
              "      <td>7</td>\n",
              "      <td>1</td>\n",
              "      <td>winter</td>\n",
              "      <td>small engine cc</td>\n",
              "    </tr>\n",
              "    <tr>\n",
              "      <th>1</th>\n",
              "      <td>201001BS70004</td>\n",
              "      <td>A</td>\n",
              "      <td>402</td>\n",
              "      <td>Slight</td>\n",
              "      <td>None</td>\n",
              "      <td>2010-01-11</td>\n",
              "      <td>Monday</td>\n",
              "      <td>1</td>\n",
              "      <td>Auto traffic signal</td>\n",
              "      <td>T or staggered junction</td>\n",
              "      <td>Darkness - lights lit</td>\n",
              "      <td>Kensington and Chelsea</td>\n",
              "      <td>Kensington and Chelsea</td>\n",
              "      <td>525340.0</td>\n",
              "      <td>180470.0</td>\n",
              "      <td>E01002884</td>\n",
              "      <td>1</td>\n",
              "      <td>1</td>\n",
              "      <td>0</td>\n",
              "      <td>5</td>\n",
              "      <td>Metropolitan Police</td>\n",
              "      <td>Wet or damp</td>\n",
              "      <td>Single carriageway</td>\n",
              "      <td>None</td>\n",
              "      <td>30.0</td>\n",
              "      <td>18:35</td>\n",
              "      <td>Urban</td>\n",
              "      <td>Raining no high winds</td>\n",
              "      <td>2010</td>\n",
              "      <td>No</td>\n",
              "      <td>46-65</td>\n",
              "      <td>1</td>\n",
              "      <td>Urban area</td>\n",
              "      <td>5.0</td>\n",
              "      <td>1870.0</td>\n",
              "      <td>None</td>\n",
              "      <td>None</td>\n",
              "      <td>Journey as part of work</td>\n",
              "      <td>Mid Junction - on roundabout or on main road</td>\n",
              "      <td>Heavy oil</td>\n",
              "      <td>Male</td>\n",
              "      <td>None</td>\n",
              "      <td>No tow/articulation</td>\n",
              "      <td>Did not leave carriageway</td>\n",
              "      <td>0</td>\n",
              "      <td>Going ahead other</td>\n",
              "      <td>1</td>\n",
              "      <td>Car</td>\n",
              "      <td>No</td>\n",
              "      <td>Front</td>\n",
              "      <td>2010</td>\n",
              "      <td>1</td>\n",
              "      <td>0</td>\n",
              "      <td>18</td>\n",
              "      <td>6</td>\n",
              "      <td>winter</td>\n",
              "      <td>medium engine cc</td>\n",
              "    </tr>\n",
              "    <tr>\n",
              "      <th>2</th>\n",
              "      <td>201001BS70006</td>\n",
              "      <td>A</td>\n",
              "      <td>402</td>\n",
              "      <td>Slight</td>\n",
              "      <td>None</td>\n",
              "      <td>2010-01-12</td>\n",
              "      <td>Tuesday</td>\n",
              "      <td>1</td>\n",
              "      <td>Auto traffic signal</td>\n",
              "      <td>T or staggered junction</td>\n",
              "      <td>Daylight</td>\n",
              "      <td>Kensington and Chelsea</td>\n",
              "      <td>Kensington and Chelsea</td>\n",
              "      <td>524800.0</td>\n",
              "      <td>180300.0</td>\n",
              "      <td>E01002871</td>\n",
              "      <td>1</td>\n",
              "      <td>2</td>\n",
              "      <td>0</td>\n",
              "      <td>5</td>\n",
              "      <td>Metropolitan Police</td>\n",
              "      <td>Dry</td>\n",
              "      <td>Single carriageway</td>\n",
              "      <td>None</td>\n",
              "      <td>30.0</td>\n",
              "      <td>10:22</td>\n",
              "      <td>Urban</td>\n",
              "      <td>Fine no high winds</td>\n",
              "      <td>2010</td>\n",
              "      <td>No</td>\n",
              "      <td>26-45</td>\n",
              "      <td>2</td>\n",
              "      <td>Urban area</td>\n",
              "      <td>2.0</td>\n",
              "      <td>3920.0</td>\n",
              "      <td>None</td>\n",
              "      <td>None</td>\n",
              "      <td>Journey as part of work</td>\n",
              "      <td>Mid Junction - on roundabout or on main road</td>\n",
              "      <td>Heavy oil</td>\n",
              "      <td>Male</td>\n",
              "      <td>None</td>\n",
              "      <td>No tow/articulation</td>\n",
              "      <td>Did not leave carriageway</td>\n",
              "      <td>0</td>\n",
              "      <td>Turning left</td>\n",
              "      <td>1</td>\n",
              "      <td>Goods Vehicle</td>\n",
              "      <td>No</td>\n",
              "      <td>Nearside</td>\n",
              "      <td>2010</td>\n",
              "      <td>1</td>\n",
              "      <td>0</td>\n",
              "      <td>10</td>\n",
              "      <td>2</td>\n",
              "      <td>winter</td>\n",
              "      <td>large engine cc</td>\n",
              "    </tr>\n",
              "    <tr>\n",
              "      <th>3</th>\n",
              "      <td>201001BS70007</td>\n",
              "      <td>Unclassified</td>\n",
              "      <td>0</td>\n",
              "      <td>Slight</td>\n",
              "      <td>None</td>\n",
              "      <td>2010-01-02</td>\n",
              "      <td>Saturday</td>\n",
              "      <td>1</td>\n",
              "      <td>Give way or uncontrolled</td>\n",
              "      <td>Mini-roundabout</td>\n",
              "      <td>Darkness - lights lit</td>\n",
              "      <td>Kensington and Chelsea</td>\n",
              "      <td>Kensington and Chelsea</td>\n",
              "      <td>525080.0</td>\n",
              "      <td>180920.0</td>\n",
              "      <td>E01002886</td>\n",
              "      <td>1</td>\n",
              "      <td>2</td>\n",
              "      <td>0</td>\n",
              "      <td>0</td>\n",
              "      <td>Metropolitan Police</td>\n",
              "      <td>Dry</td>\n",
              "      <td>Roundabout</td>\n",
              "      <td>None</td>\n",
              "      <td>30.0</td>\n",
              "      <td>21:21</td>\n",
              "      <td>Urban</td>\n",
              "      <td>Fine no high winds</td>\n",
              "      <td>2010</td>\n",
              "      <td>No</td>\n",
              "      <td>16-25</td>\n",
              "      <td>2</td>\n",
              "      <td>Urban area</td>\n",
              "      <td>3.0</td>\n",
              "      <td>1998.0</td>\n",
              "      <td>None</td>\n",
              "      <td>None</td>\n",
              "      <td>Other/Not known (2005-10)</td>\n",
              "      <td>Mid Junction - on roundabout or on main road</td>\n",
              "      <td>Petrol</td>\n",
              "      <td>Female</td>\n",
              "      <td>None</td>\n",
              "      <td>No tow/articulation</td>\n",
              "      <td>Did not leave carriageway</td>\n",
              "      <td>0</td>\n",
              "      <td>Going ahead right-hand bend</td>\n",
              "      <td>1</td>\n",
              "      <td>Car</td>\n",
              "      <td>No</td>\n",
              "      <td>Nearside</td>\n",
              "      <td>2010</td>\n",
              "      <td>1</td>\n",
              "      <td>1</td>\n",
              "      <td>21</td>\n",
              "      <td>6</td>\n",
              "      <td>winter</td>\n",
              "      <td>medium engine cc</td>\n",
              "    </tr>\n",
              "    <tr>\n",
              "      <th>4</th>\n",
              "      <td>201001BS70007</td>\n",
              "      <td>Unclassified</td>\n",
              "      <td>0</td>\n",
              "      <td>Slight</td>\n",
              "      <td>None</td>\n",
              "      <td>2010-01-02</td>\n",
              "      <td>Saturday</td>\n",
              "      <td>1</td>\n",
              "      <td>Give way or uncontrolled</td>\n",
              "      <td>Mini-roundabout</td>\n",
              "      <td>Darkness - lights lit</td>\n",
              "      <td>Kensington and Chelsea</td>\n",
              "      <td>Kensington and Chelsea</td>\n",
              "      <td>525080.0</td>\n",
              "      <td>180920.0</td>\n",
              "      <td>E01002886</td>\n",
              "      <td>1</td>\n",
              "      <td>2</td>\n",
              "      <td>0</td>\n",
              "      <td>0</td>\n",
              "      <td>Metropolitan Police</td>\n",
              "      <td>Dry</td>\n",
              "      <td>Roundabout</td>\n",
              "      <td>None</td>\n",
              "      <td>30.0</td>\n",
              "      <td>21:21</td>\n",
              "      <td>Urban</td>\n",
              "      <td>Fine no high winds</td>\n",
              "      <td>2010</td>\n",
              "      <td>No</td>\n",
              "      <td>26-45</td>\n",
              "      <td>3</td>\n",
              "      <td>Rural</td>\n",
              "      <td>9.0</td>\n",
              "      <td>1397.0</td>\n",
              "      <td>None</td>\n",
              "      <td>None</td>\n",
              "      <td>Other/Not known (2005-10)</td>\n",
              "      <td>Mid Junction - on roundabout or on main road</td>\n",
              "      <td>Petrol</td>\n",
              "      <td>Female</td>\n",
              "      <td>None</td>\n",
              "      <td>No tow/articulation</td>\n",
              "      <td>Did not leave carriageway</td>\n",
              "      <td>0</td>\n",
              "      <td>Going ahead other</td>\n",
              "      <td>2</td>\n",
              "      <td>Car</td>\n",
              "      <td>No</td>\n",
              "      <td>Front</td>\n",
              "      <td>2010</td>\n",
              "      <td>1</td>\n",
              "      <td>1</td>\n",
              "      <td>21</td>\n",
              "      <td>6</td>\n",
              "      <td>winter</td>\n",
              "      <td>small engine cc</td>\n",
              "    </tr>\n",
              "  </tbody>\n",
              "</table>\n",
              "</div>"
            ],
            "text/plain": [
              "  accident_index 1st_road_class  ...  season engine_capacity_cc_size\n",
              "0  201001BS70003              B  ...  winter         small engine cc\n",
              "1  201001BS70004              A  ...  winter        medium engine cc\n",
              "2  201001BS70006              A  ...  winter         large engine cc\n",
              "3  201001BS70007   Unclassified  ...  winter        medium engine cc\n",
              "4  201001BS70007   Unclassified  ...  winter         small engine cc\n",
              "\n",
              "[5 rows x 57 columns]"
            ]
          },
          "metadata": {
            "tags": []
          },
          "execution_count": 93
        }
      ]
    },
    {
      "cell_type": "code",
      "metadata": {
        "id": "Zic3m1NSvq18"
      },
      "source": [
        "df.info()"
      ],
      "execution_count": null,
      "outputs": []
    },
    {
      "cell_type": "code",
      "metadata": {
        "colab": {
          "base_uri": "https://localhost:8080/"
        },
        "id": "d30dLiG9vq4P",
        "outputId": "65a05944-74af-4b0a-aced-5815530e5aee"
      },
      "source": [
        "df['age_of_vehicle'].astype('object')"
      ],
      "execution_count": null,
      "outputs": [
        {
          "output_type": "execute_result",
          "data": {
            "text/plain": [
              "0          1\n",
              "1          1\n",
              "2          2\n",
              "3          2\n",
              "4          3\n",
              "          ..\n",
              "1399095    3\n",
              "1399096    2\n",
              "1399097    2\n",
              "1399098    3\n",
              "1399099    1\n",
              "Name: age_of_vehicle, Length: 1396895, dtype: object"
            ]
          },
          "metadata": {
            "tags": []
          },
          "execution_count": 95
        }
      ]
    },
    {
      "cell_type": "code",
      "metadata": {
        "id": "ycaeAjRFvy-S"
      },
      "source": [
        "categorical_features = df.select_dtypes('object')"
      ],
      "execution_count": null,
      "outputs": []
    },
    {
      "cell_type": "code",
      "metadata": {
        "colab": {
          "base_uri": "https://localhost:8080/"
        },
        "id": "KyGxa-TewNwD",
        "outputId": "b8d1d973-c3d5-42fa-ac5f-a394565e85d2"
      },
      "source": [
        "len(categorical_features.columns)"
      ],
      "execution_count": null,
      "outputs": [
        {
          "output_type": "execute_result",
          "data": {
            "text/plain": [
              "44"
            ]
          },
          "metadata": {
            "tags": []
          },
          "execution_count": 97
        }
      ]
    },
    {
      "cell_type": "code",
      "metadata": {
        "id": "s9yjGRnavzBY"
      },
      "source": [
        "numerical_features = df.select_dtypes(['int64', 'float64'])"
      ],
      "execution_count": null,
      "outputs": []
    },
    {
      "cell_type": "code",
      "metadata": {
        "colab": {
          "base_uri": "https://localhost:8080/"
        },
        "id": "qjBW459mwn5c",
        "outputId": "0ab301a5-1c47-47f6-f659-2d4bf3e51fbc"
      },
      "source": [
        "len(numerical_features.columns)"
      ],
      "execution_count": null,
      "outputs": [
        {
          "output_type": "execute_result",
          "data": {
            "text/plain": [
              "11"
            ]
          },
          "metadata": {
            "tags": []
          },
          "execution_count": 99
        }
      ]
    },
    {
      "cell_type": "code",
      "metadata": {
        "id": "x6EUnEbewvFq"
      },
      "source": [
        "import matplotlib.pyplot as plt\n",
        "import scipy.stats as stat\n",
        "import pylab"
      ],
      "execution_count": null,
      "outputs": []
    },
    {
      "cell_type": "code",
      "metadata": {
        "id": "grJmu9mvvHSw"
      },
      "source": [
        "def plot_feature_distribution(df, feature):\n",
        "  plt.figure(figsize=(10,3))\n",
        "  plt.subplot(1,2,1)\n",
        "  df[feature].hist()\n",
        "  plt.subplot(1,2,2)\n",
        "  plt.title(feature)\n",
        "  stat.probplot((df[feature] **1/2),dist='norm',plot=pylab)\n",
        "  plt.show()"
      ],
      "execution_count": null,
      "outputs": []
    },
    {
      "cell_type": "code",
      "metadata": {
        "id": "2-KLED-wvHi0"
      },
      "source": [
        "discreate_Feature = [feature for feature in numerical_features if len(df[feature].unique())<25]"
      ],
      "execution_count": null,
      "outputs": []
    },
    {
      "cell_type": "code",
      "metadata": {
        "colab": {
          "base_uri": "https://localhost:8080/",
          "height": 981
        },
        "id": "vMsZeAMGvHqr",
        "outputId": "e3c3ad89-c295-445c-a4d9-ce989edfcb8e"
      },
      "source": [
        "for feature in numerical_features:\n",
        "  if feature not in discreate_Feature:\n",
        "    print(feature)\n",
        "    plot_feature_distribution(df, feature)"
      ],
      "execution_count": null,
      "outputs": [
        {
          "output_type": "stream",
          "text": [
            "location_easting_osgr\n"
          ],
          "name": "stdout"
        },
        {
          "output_type": "display_data",
          "data": {
            "image/png": "[encoded data removed]",
            "text/plain": [
              "<Figure size 720x216 with 2 Axes>"
            ]
          },
          "metadata": {
            "tags": [],
            "needs_background": "light"
          }
        },
        {
          "output_type": "stream",
          "text": [
            "location_northing_osgr\n"
          ],
          "name": "stdout"
        },
        {
          "output_type": "display_data",
          "data": {
            "image/png": "[encoded data removed]",
            "text/plain": [
              "<Figure size 720x216 with 2 Axes>"
            ]
          },
          "metadata": {
            "tags": [],
            "needs_background": "light"
          }
        },
        {
          "output_type": "stream",
          "text": [
            "number_of_casualties\n"
          ],
          "name": "stdout"
        },
        {
          "output_type": "display_data",
          "data": {
            "image/png": "[encoded data removed]",
            "text/plain": [
              "<Figure size 720x216 with 2 Axes>"
            ]
          },
          "metadata": {
            "tags": [],
            "needs_background": "light"
          }
        },
        {
          "output_type": "stream",
          "text": [
            "engine_capacity_cc\n"
          ],
          "name": "stdout"
        },
        {
          "output_type": "display_data",
          "data": {
            "image/png": "[encoded data removed]",
            "text/plain": [
              "<Figure size 720x216 with 2 Axes>"
            ]
          },
          "metadata": {
            "tags": [],
            "needs_background": "light"
          }
        }
      ]
    },
    {
      "cell_type": "code",
      "metadata": {
        "id": "Y7E5kRnHCa-d"
      },
      "source": [
        "df1 = df.copy()"
      ],
      "execution_count": null,
      "outputs": []
    },
    {
      "cell_type": "code",
      "metadata": {
        "id": "xdnvyisLCTYU"
      },
      "source": [
        "categorical_feature=df1.select_dtypes(exclude=['int','float','int64'])\n",
        "numerical_features = df1.select_dtypes(include=['int','float','int64'])"
      ],
      "execution_count": null,
      "outputs": []
    },
    {
      "cell_type": "code",
      "metadata": {
        "id": "ahZ7kHlsCe3B"
      },
      "source": [
        "print('Objects',categorical_feature.columns)\n",
        "print(\"\\nNonObjects\",numerical_features.columns)\n",
        "\n",
        "print(df1.shape)\n",
        "print(numerical_features.shape)\n",
        "print(categorical_feature.shape)"
      ],
      "execution_count": null,
      "outputs": []
    },
    {
      "cell_type": "code",
      "metadata": {
        "id": "wd47jyw7C272"
      },
      "source": [
        "df1.drop(['date', 'time', 'hour'], inplace = True, axis = 1)"
      ],
      "execution_count": null,
      "outputs": []
    },
    {
      "cell_type": "code",
      "metadata": {
        "id": "ZZDSgFJlEPdp"
      },
      "source": [
        "from sklearn.preprocessing import LabelEncoder"
      ],
      "execution_count": null,
      "outputs": []
    },
    {
      "cell_type": "code",
      "metadata": {
        "colab": {
          "base_uri": "https://localhost:8080/"
        },
        "id": "ZdIqjKmuCnAw",
        "outputId": "91e996db-4d8f-4da4-ec4d-199d2846aa76"
      },
      "source": [
        "#label encode objects\n",
        "# en_cat_fet = categorical_feature.apply(LabelEncoder().fit_transform)\n",
        "\n",
        "#re-add with non-objects\n",
        "# df_ml = pd.concat([en_cat_fet, numerical_features], axis=1, sort=False)\n",
        "\n",
        "#check shape\n",
        "# print(df_ml.shape)"
      ],
      "execution_count": null,
      "outputs": [
        {
          "output_type": "stream",
          "text": [
            "(1396895, 57)\n"
          ],
          "name": "stdout"
        }
      ]
    }
  ]
}